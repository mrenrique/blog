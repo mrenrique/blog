{
  "nbformat": 4,
  "nbformat_minor": 0,
  "metadata": {
    "colab": {
      "name": "0 Intro to Data Analysis.ipynb",
      "provenance": [],
      "collapsed_sections": [],
      "authorship_tag": "ABX9TyPwjTH0VygW9Ln2QD6GnRwn"
    },
    "kernelspec": {
      "name": "python3",
      "display_name": "Python 3"
    }
  },
  "cells": [
    {
      "cell_type": "markdown",
      "metadata": {
        "id": "fUQpl1jDZESL"
      },
      "source": [
        "# Data Analysis in a Nutshell\n",
        "> This is a descrption of the fastpages tutorial for Jupyter notebooks.\n",
        "\n",
        "- toc: true \n",
        "- badges: true\n",
        "- comments: true\n",
        "- categories: [Data Analysis]\n",
        "- image: images/chart-preview.png"
      ]
    },
    {
      "cell_type": "markdown",
      "metadata": {
        "id": "TGQDRyniIsYS"
      },
      "source": [
        "## What is Data Analysis"
      ]
    },
    {
      "cell_type": "markdown",
      "metadata": {
        "id": "wFMnAZx0Ith5"
      },
      "source": [
        "> *A process of inspecting, cleansing, transforming and modeling data with the goal of discovering useful information, informing conclusion and supporting decision-making. **Source:** Wikipedia*"
      ]
    },
    {
      "cell_type": "markdown",
      "metadata": {
        "id": "V7vT8pBMe0MN"
      },
      "source": [
        "## Uses of EDA:"
      ]
    },
    {
      "cell_type": "markdown",
      "metadata": {
        "id": "6yI1373Re3QU"
      },
      "source": [
        "- To know the structure and distribution of data\n",
        "- To find relationship between Features\n",
        "- To find relationship between Features and the Target Variable\n",
        "- To find errors, anomalies, outliers\n",
        "- To refine Hipothesis or generate new questions on dataset"
      ]
    },
    {
      "cell_type": "markdown",
      "metadata": {
        "id": "GFwI9e6gJESC"
      },
      "source": [
        "## Data Analysis Tools"
      ]
    },
    {
      "cell_type": "markdown",
      "metadata": {
        "id": "7-YW7dqEJFRr"
      },
      "source": [
        "Programming Languages: Open Source, Free, Extremely Powerful, Steep learning curve\n",
        "- Python\n",
        "- R\n",
        "- Julia\n",
        "\n",
        "Auto-managed closed tools: Closed Source, Expensive, Limited, Easy to learn\n",
        "- Power BI\n",
        "- Tableau\n",
        "- Qlik"
      ]
    },
    {
      "cell_type": "markdown",
      "metadata": {
        "id": "wJFnCxJoLD2O"
      },
      "source": [
        "## The Data Analysis Process\n"
      ]
    },
    {
      "cell_type": "markdown",
      "metadata": {
        "id": "QYq7Uz3pLF5m"
      },
      "source": [
        "### Data Extraction\n",
        "- SQL\n",
        "- Scrapping\n",
        "- File Formats\n",
        "    - CSV\n",
        "    - JSON\n",
        "    - XML\n",
        "- Consulting APIs\n",
        "- Buying Data\n",
        "- Distributed Databases\n"
      ]
    },
    {
      "cell_type": "markdown",
      "metadata": {
        "id": "Qr-toYRnL_sI"
      },
      "source": [
        "### Data Cleaning\n",
        "- Missing values and empty data\n",
        "- Data imputation\n",
        "- Incorrect types\n",
        "- Incorrect or invalid values\n",
        "- Outliers and non relevant data\n",
        "- Statistical sanitization\n"
      ]
    },
    {
      "cell_type": "markdown",
      "metadata": {
        "id": "KFp47BnsMIGH"
      },
      "source": [
        "### Data Wrangling\n",
        "\n",
        "- Hierarchical Data\n",
        "- Handling categorical data\n",
        "- Reshaping and transforming structures\n",
        "- Indexing data for quick access\n",
        "- Merging, combining and joining data"
      ]
    },
    {
      "cell_type": "markdown",
      "metadata": {
        "id": "ddsDbZHcMOzf"
      },
      "source": [
        "### Analysis\n",
        "\n",
        "- Exploration\n",
        "- Building statistical models\n",
        "- Visualization and representations\n",
        "- Correlation vs Causation analysis\n",
        "- Hypothesis testing\n",
        "- Statistical analysis\n",
        "- Reporting"
      ]
    },
    {
      "cell_type": "markdown",
      "metadata": {
        "id": "zWDzCSdUMVLA"
      },
      "source": [
        "### Action\n",
        "\n",
        "- Building Machine Learning Models\n",
        "- Feature Engineering\n",
        "- Moving ML into production\n",
        "- Building ETL pipelines\n",
        "- Live dashboard and reporting\n",
        "- Decision making and real-life tests"
      ]
    },
    {
      "cell_type": "markdown",
      "metadata": {
        "id": "TlS6IBm-IAN0"
      },
      "source": [
        "https://jakevdp.github.io/PythonDataScienceHandbook/03.09-pivot-tables.html\n"
      ]
    },
    {
      "cell_type": "markdown",
      "metadata": {
        "id": "yKahYamepzYI"
      },
      "source": [
        "Proceso de organizar, resumir y visualizar un conjunto de datos para extraer información que aporte al logro de objetivos"
      ]
    },
    {
      "cell_type": "markdown",
      "metadata": {
        "id": "e-sJWbeg84rk"
      },
      "source": [
        "# why using Python and Pandas?"
      ]
    },
    {
      "cell_type": "markdown",
      "metadata": {
        "id": "uW0Gd6eW88OL"
      },
      "source": [
        "The Pandas library is the key library for Data Science and Analytics and a good place to start for beginners. Often called the \"Excel & SQL of Python, on steroids\" because of the powerful tools Pandas gives you for editing two-dimensional data tables in Python and manipulating large datasets with ease."
      ]
    },
    {
      "cell_type": "markdown",
      "metadata": {
        "id": "CABBfktk-BVm"
      },
      "source": [
        "Pandas makes it very convenient to load, process, and analyze such tabular data using SQL-like queries. In conjunction with Matplotlib and Seaborn, Pandas provides a wide range of opportunities for visual analysis of tabular data."
      ]
    },
    {
      "cell_type": "markdown",
      "metadata": {
        "id": "HSgU_qXO-G69"
      },
      "source": [
        "The main data structures in Pandas are implemented with Series and DataFrame classes. DataFrames are great for representing real data: rows correspond to instances (examples, observations, etc.), and columns correspond to features of these instances."
      ]
    },
    {
      "cell_type": "markdown",
      "metadata": {
        "id": "Ihx49JvV6DBU"
      },
      "source": [
        "# Main Keywords"
      ]
    },
    {
      "cell_type": "markdown",
      "metadata": {
        "id": "gfZ1Jv605iBM"
      },
      "source": [
        "- **Dataframe:** is a main Object in Pandas, It's used to represent data in rows and columns (Tabular Data)\n",
        "- **Pandas:** This library needs no introduction as it became the de facto tool for Data Analysis in Python. The name pandas is derived from the term “panel data”, an econometrics term for datasets that include observations over multiple time periods for the same individuals."
      ]
    }
  ]
}