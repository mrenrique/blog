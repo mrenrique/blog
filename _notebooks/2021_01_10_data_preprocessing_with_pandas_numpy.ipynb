{
  "nbformat": 4,
  "nbformat_minor": 0,
  "metadata": {
    "colab": {
      "name": "2021-01-10-data-preprocessing-with-pandas-numpy.ipynb",
      "provenance": [],
      "collapsed_sections": []
    },
    "kernelspec": {
      "name": "python3",
      "display_name": "Python 3"
    }
  },
  "cells": [
    {
      "cell_type": "markdown",
      "metadata": {
        "id": "F0TGyleO_2ms"
      },
      "source": [
        "# Data Preprocessing Videos Details of a Youtube Channel Using Pandas and Numpy\r\n",
        "\r\n",
        "> The output of this project is a Clean and ready-to-analyse Dataset containing information of all International Matches of Freestyle organized by Red Bull from 2015 to 2020.\r\n",
        "\r\n",
        "![](images/data-preprocessing-02-project.jpg)\r\n",
        "\r\n",
        "- toc: true\r\n",
        "- badges: true\r\n",
        "- comments: true\r\n",
        "- categories: [Data Preprocessing, Python, Data Science, Pandas, Numpy]\r\n",
        "- image: images/data-preprocessing-02-project.jpg"
      ]
    },
    {
      "cell_type": "markdown",
      "metadata": {
        "id": "SADG2KpRjYZt"
      },
      "source": [
        "## TL;DR"
      ]
    },
    {
      "cell_type": "markdown",
      "metadata": {
        "id": "Z2HL_ePMbKeI"
      },
      "source": [
        "In a previous project, [I made a Dataset by Scraping the videos details of a Youtube Channel using Selenium and Python](https://mrenrique.github.io/portfolio/web%20scraping/python/data%20science/pandas/selenium/2020/12/27/second-post.html). This time I'll be showing how to perform many tasks in order to process all the gathered information. The output of this project is a Clean and ready-to-analyse Dataset containing information of all International Matches of Freestyle organized by Red Bull from 2015 to 2020.\r\n",
        "\r\n",
        "This is the [Output Dataset from the Web Scraping Project](https://github.com/mrenrique/portfolio/blob/master/_notebooks/redbulloficialgallos_videos_details_dec-27-2020.csv) and here is the Cleaned Dataset, so you can compare them.\r\n",
        "\r\n",
        "\r\n",
        "But first, let's learn a bit about the International Competition. **Red Bull Batalla de los Gallos** is the most recognized **freestyle competition** that brings together the **16 winning Freestylers** from the competitions organized by Red Bull in each country. After all matches only one of them is crowned as international champion. [Click here to learn more](https://rap.fandom.com/es/wiki/Red_Bull_Batalla_de_los_Gallos)"
      ]
    },
    {
      "cell_type": "markdown",
      "metadata": {
        "id": "ZHAG4NCMu6M3"
      },
      "source": [
        "## Importing Libraries ✔️"
      ]
    },
    {
      "cell_type": "code",
      "metadata": {
        "id": "wpyEMZ0wmK0k",
        "colab": {
          "base_uri": "https://localhost:8080/",
          "height": 35
        },
        "outputId": "429a42a4-e4d1-4356-f4f5-a88d2bf2e1bd"
      },
      "source": [
        "#collapse_show\r\n",
        "# Importing libraries\r\n",
        "import numpy as np\r\n",
        "import pandas as pd\r\n",
        "import re\r\n",
        "\r\n",
        "from datetime import datetime\r\n",
        "\r\n",
        "# check Pandas' version\r\n",
        "pd.__version__"
      ],
      "execution_count": null,
      "outputs": [
        {
          "output_type": "execute_result",
          "data": {
            "application/vnd.google.colaboratory.intrinsic+json": {
              "type": "string"
            },
            "text/plain": [
              "'1.1.5'"
            ]
          },
          "metadata": {
            "tags": []
          },
          "execution_count": 1
        }
      ]
    },
    {
      "cell_type": "markdown",
      "metadata": {
        "id": "lBwDPME8ovx1"
      },
      "source": [
        "## Importing Dataset ✔️"
      ]
    },
    {
      "cell_type": "code",
      "metadata": {
        "id": "_HQr7jGJZRvZ",
        "colab": {
          "base_uri": "https://localhost:8080/",
          "height": 142
        },
        "outputId": "717c1f32-6c1c-4acd-f4a3-49b124fcfbd0"
      },
      "source": [
        "#collapse_show\r\n",
        "# importing from url\r\n",
        "data_url = 'https://raw.githubusercontent.com/mrenrique/portfolio/master/_notebooks/redbulloficialgallos_videos_details_dec-27-2020.csv'\r\n",
        "\r\n",
        "# reading dataset with pandas and asigning  to a variable\r\n",
        "data = pd.read_csv(data_url)\r\n",
        "\r\n",
        "# show first three rows\r\n",
        "data.head(3)"
      ],
      "execution_count": null,
      "outputs": [
        {
          "output_type": "execute_result",
          "data": {
            "text/html": [
              "<div>\n",
              "<style scoped>\n",
              "    .dataframe tbody tr th:only-of-type {\n",
              "        vertical-align: middle;\n",
              "    }\n",
              "\n",
              "    .dataframe tbody tr th {\n",
              "        vertical-align: top;\n",
              "    }\n",
              "\n",
              "    .dataframe thead th {\n",
              "        text-align: right;\n",
              "    }\n",
              "</style>\n",
              "<table border=\"1\" class=\"dataframe\">\n",
              "  <thead>\n",
              "    <tr style=\"text-align: right;\">\n",
              "      <th></th>\n",
              "      <th>title</th>\n",
              "      <th>views</th>\n",
              "      <th>upload_date</th>\n",
              "      <th>length</th>\n",
              "      <th>likes</th>\n",
              "      <th>dislikes</th>\n",
              "      <th>url</th>\n",
              "    </tr>\n",
              "  </thead>\n",
              "  <tbody>\n",
              "    <tr>\n",
              "      <th>0</th>\n",
              "      <td>ACZINO vs EXODO LIRICAL - 3er y 4to Puesto | R...</td>\n",
              "      <td>577,503</td>\n",
              "      <td>Dec 12, 2020</td>\n",
              "      <td>6:16</td>\n",
              "      <td>14,040</td>\n",
              "      <td>270</td>\n",
              "      <td>https://www.youtube.com/watch?v=Fwda4AWZ6V4</td>\n",
              "    </tr>\n",
              "    <tr>\n",
              "      <th>1</th>\n",
              "      <td>EXODO LIRICAL vs RAPDER - Semifinal | Red Bull...</td>\n",
              "      <td>238,463</td>\n",
              "      <td>Dec 12, 2020</td>\n",
              "      <td>12:30</td>\n",
              "      <td>8,135</td>\n",
              "      <td>927</td>\n",
              "      <td>https://www.youtube.com/watch?v=wIcz1_7qx-4</td>\n",
              "    </tr>\n",
              "    <tr>\n",
              "      <th>2</th>\n",
              "      <td>ACZINO vs SKONE - Semifinal | Red Bull Interna...</td>\n",
              "      <td>756,352</td>\n",
              "      <td>Dec 12, 2020</td>\n",
              "      <td>10:06</td>\n",
              "      <td>18,458</td>\n",
              "      <td>1,146</td>\n",
              "      <td>https://www.youtube.com/watch?v=yv8yFhRsWVc</td>\n",
              "    </tr>\n",
              "  </tbody>\n",
              "</table>\n",
              "</div>"
            ],
            "text/plain": [
              "                                               title  ...                                          url\n",
              "0  ACZINO vs EXODO LIRICAL - 3er y 4to Puesto | R...  ...  https://www.youtube.com/watch?v=Fwda4AWZ6V4\n",
              "1  EXODO LIRICAL vs RAPDER - Semifinal | Red Bull...  ...  https://www.youtube.com/watch?v=wIcz1_7qx-4\n",
              "2  ACZINO vs SKONE - Semifinal | Red Bull Interna...  ...  https://www.youtube.com/watch?v=yv8yFhRsWVc\n",
              "\n",
              "[3 rows x 7 columns]"
            ]
          },
          "metadata": {
            "tags": []
          },
          "execution_count": 3
        }
      ]
    },
    {
      "cell_type": "markdown",
      "metadata": {
        "id": "civD_8Hx4K4-"
      },
      "source": [
        "## Learning the Dataset's Properties 💡"
      ]
    },
    {
      "cell_type": "markdown",
      "metadata": {
        "id": "WRbtOjFu4L4M"
      },
      "source": [
        "Let's take a look at the datafame's properties for a better understanding to know what needs to be done. To do so, we can use the `info()` method which gives us the number of columns, **columns names** and their **data types** all together."
      ]
    },
    {
      "cell_type": "code",
      "metadata": {
        "colab": {
          "base_uri": "https://localhost:8080/"
        },
        "id": "jHjf3dXNp6MZ",
        "outputId": "70cc67f0-1dbb-459f-9f6c-eac036f4e1f3"
      },
      "source": [
        "# Display number of columns, columns names , Non-Null Count and data types\r\n",
        "data.info()"
      ],
      "execution_count": null,
      "outputs": [
        {
          "output_type": "stream",
          "text": [
            "<class 'pandas.core.frame.DataFrame'>\n",
            "RangeIndex: 95 entries, 0 to 94\n",
            "Data columns (total 7 columns):\n",
            " #   Column       Non-Null Count  Dtype \n",
            "---  ------       --------------  ----- \n",
            " 0   title        95 non-null     object\n",
            " 1   views        95 non-null     object\n",
            " 2   upload_date  95 non-null     object\n",
            " 3   length       95 non-null     object\n",
            " 4   likes        95 non-null     object\n",
            " 5   dislikes     95 non-null     object\n",
            " 6   url          95 non-null     object\n",
            "dtypes: object(7)\n",
            "memory usage: 5.3+ KB\n"
          ],
          "name": "stdout"
        }
      ]
    },
    {
      "cell_type": "markdown",
      "metadata": {
        "id": "0nk0E2rkEVk5"
      },
      "source": [
        " Now that we learn about the dataset in a **general way**, let's also learn in a **detailed way** by showing a random sample of the dataset to give us an idea of what **kind of values** we are dealing with. Let's start by showing a random sample of the dataset."
      ]
    },
    {
      "cell_type": "code",
      "metadata": {
        "colab": {
          "base_uri": "https://localhost:8080/",
          "height": 204
        },
        "id": "rbWv0IuMdVxC",
        "outputId": "c5377bfd-ba1b-424d-9353-d0c3e8c9adec"
      },
      "source": [
        "# Random sample of 50 % of Dataset\r\n",
        "data.sample(frac=0.5).head()"
      ],
      "execution_count": null,
      "outputs": [
        {
          "output_type": "execute_result",
          "data": {
            "text/html": [
              "<div>\n",
              "<style scoped>\n",
              "    .dataframe tbody tr th:only-of-type {\n",
              "        vertical-align: middle;\n",
              "    }\n",
              "\n",
              "    .dataframe tbody tr th {\n",
              "        vertical-align: top;\n",
              "    }\n",
              "\n",
              "    .dataframe thead th {\n",
              "        text-align: right;\n",
              "    }\n",
              "</style>\n",
              "<table border=\"1\" class=\"dataframe\">\n",
              "  <thead>\n",
              "    <tr style=\"text-align: right;\">\n",
              "      <th></th>\n",
              "      <th>title</th>\n",
              "      <th>views</th>\n",
              "      <th>upload_date</th>\n",
              "      <th>length</th>\n",
              "      <th>likes</th>\n",
              "      <th>dislikes</th>\n",
              "      <th>url</th>\n",
              "    </tr>\n",
              "  </thead>\n",
              "  <tbody>\n",
              "    <tr>\n",
              "      <th>19</th>\n",
              "      <td>TRUENO vs TITO MC - Octavos | Red Bull Interna...</td>\n",
              "      <td>2,082,852</td>\n",
              "      <td>Nov 30, 2019</td>\n",
              "      <td>5:51</td>\n",
              "      <td>43,267</td>\n",
              "      <td>3,996</td>\n",
              "      <td>https://www.youtube.com/watch?v=KJbIAlUdmLw</td>\n",
              "    </tr>\n",
              "    <tr>\n",
              "      <th>71</th>\n",
              "      <td>JONY BELTRAN vs CHUTY - Octavos | Red Bull Int...</td>\n",
              "      <td>13,138,438</td>\n",
              "      <td>Nov 12, 2016</td>\n",
              "      <td>7:09</td>\n",
              "      <td>182,494</td>\n",
              "      <td>11,726</td>\n",
              "      <td>https://www.youtube.com/watch?v=C2rXItCS8I0</td>\n",
              "    </tr>\n",
              "    <tr>\n",
              "      <th>23</th>\n",
              "      <td>JAZE vs SNK - Octavos | Red Bull Internacional...</td>\n",
              "      <td>1,407,134</td>\n",
              "      <td>Nov 30, 2019</td>\n",
              "      <td>7:06</td>\n",
              "      <td>28,687</td>\n",
              "      <td>890</td>\n",
              "      <td>https://www.youtube.com/watch?v=gkfOnJI4Byc</td>\n",
              "    </tr>\n",
              "    <tr>\n",
              "      <th>52</th>\n",
              "      <td>ARKANO vs. YENKY ONE - 3 y 4 Puesto: Final Int...</td>\n",
              "      <td>2,093,488</td>\n",
              "      <td>Dec 3, 2017</td>\n",
              "      <td>4:47</td>\n",
              "      <td>30,378</td>\n",
              "      <td>1,347</td>\n",
              "      <td>https://www.youtube.com/watch?v=VOHgIr6dSZI</td>\n",
              "    </tr>\n",
              "    <tr>\n",
              "      <th>60</th>\n",
              "      <td>JONY BELTRAN vs. ARKANO - Cuartos: Final Inter...</td>\n",
              "      <td>3,352,057</td>\n",
              "      <td>Dec 3, 2017</td>\n",
              "      <td>4:41</td>\n",
              "      <td>37,794</td>\n",
              "      <td>1,164</td>\n",
              "      <td>https://www.youtube.com/watch?v=wWtcdK7bd4Y</td>\n",
              "    </tr>\n",
              "  </tbody>\n",
              "</table>\n",
              "</div>"
            ],
            "text/plain": [
              "                                                title  ...                                          url\n",
              "19  TRUENO vs TITO MC - Octavos | Red Bull Interna...  ...  https://www.youtube.com/watch?v=KJbIAlUdmLw\n",
              "71  JONY BELTRAN vs CHUTY - Octavos | Red Bull Int...  ...  https://www.youtube.com/watch?v=C2rXItCS8I0\n",
              "23  JAZE vs SNK - Octavos | Red Bull Internacional...  ...  https://www.youtube.com/watch?v=gkfOnJI4Byc\n",
              "52  ARKANO vs. YENKY ONE - 3 y 4 Puesto: Final Int...  ...  https://www.youtube.com/watch?v=VOHgIr6dSZI\n",
              "60  JONY BELTRAN vs. ARKANO - Cuartos: Final Inter...  ...  https://www.youtube.com/watch?v=wWtcdK7bd4Y\n",
              "\n",
              "[5 rows x 7 columns]"
            ]
          },
          "metadata": {
            "tags": []
          },
          "execution_count": 5
        }
      ]
    },
    {
      "cell_type": "markdown",
      "metadata": {
        "id": "zhBGC6d2qGkV"
      },
      "source": [
        "## Data Cleaning 🧼 and Transformation 🔪"
      ]
    },
    {
      "cell_type": "markdown",
      "metadata": {
        "id": "k2scevaLe2FL"
      },
      "source": [
        "There are many tasks involved in **Data Preprocessing** which in turn are grouped into 4 main processes (**Data Integration, Data Cleaning, Data Transformation and Data Reduction**) but depending on the **data** and the **scope of this project** (Exploratory Data Analysis) we'll just need to perform some of them. let's start assuring the Data Quality for further Analysis."
      ]
    },
    {
      "cell_type": "markdown",
      "metadata": {
        "id": "dkGYRuRv5gtW"
      },
      "source": [
        "### Renaming Columns Names"
      ]
    },
    {
      "cell_type": "markdown",
      "metadata": {
        "id": "9qlRccb4iUl3"
      },
      "source": [
        "Let's first show all Columns Names to check if they required changes."
      ]
    },
    {
      "cell_type": "code",
      "metadata": {
        "colab": {
          "base_uri": "https://localhost:8080/"
        },
        "id": "2pazswXAiR6q",
        "outputId": "4ee6d1da-7f19-497e-95b3-054ce5f33dd3"
      },
      "source": [
        "# Show all columns\r\n",
        "data.columns"
      ],
      "execution_count": null,
      "outputs": [
        {
          "output_type": "execute_result",
          "data": {
            "text/plain": [
              "Index(['title', 'views', 'upload_date', 'length', 'likes', 'dislikes', 'url'], dtype='object')"
            ]
          },
          "metadata": {
            "tags": []
          },
          "execution_count": 6
        }
      ]
    },
    {
      "cell_type": "markdown",
      "metadata": {
        "id": "unsCgoxMmfD2"
      },
      "source": [
        "As we see, almost all Columns Names are ok except for `upload_date`. Let's change it for `year` Since we only need the year of the date."
      ]
    },
    {
      "cell_type": "code",
      "metadata": {
        "colab": {
          "base_uri": "https://localhost:8080/"
        },
        "id": "2HcdNSJ5VQHP",
        "outputId": "b8a15c0c-0b6c-4212-8bb7-c784735b2ba6"
      },
      "source": [
        "data.rename(columns={'upload_date': 'year'}, inplace=True)\r\n",
        "\r\n",
        "# Verify changes\r\n",
        "data.columns"
      ],
      "execution_count": null,
      "outputs": [
        {
          "output_type": "execute_result",
          "data": {
            "text/plain": [
              "Index(['title', 'views', 'year', 'length', 'likes', 'dislikes', 'url'], dtype='object')"
            ]
          },
          "metadata": {
            "tags": []
          },
          "execution_count": 7
        }
      ]
    },
    {
      "cell_type": "code",
      "metadata": {
        "colab": {
          "base_uri": "https://localhost:8080/"
        },
        "id": "RpHAFZ2pi5Kf",
        "outputId": "b52ce115-cb54-4f17-81d2-f2ae7fe57e10"
      },
      "source": [
        "# see types of all columns and change its type if needed\r\n",
        "data.dtypes"
      ],
      "execution_count": null,
      "outputs": [
        {
          "output_type": "execute_result",
          "data": {
            "text/plain": [
              "title       object\n",
              "views       object\n",
              "year        object\n",
              "length      object\n",
              "likes       object\n",
              "dislikes    object\n",
              "url         object\n",
              "dtype: object"
            ]
          },
          "metadata": {
            "tags": []
          },
          "execution_count": 8
        }
      ]
    },
    {
      "cell_type": "markdown",
      "metadata": {
        "id": "So7PlOyw4voI"
      },
      "source": [
        "### Deleting Columns not needed (**First Attempt**)"
      ]
    },
    {
      "cell_type": "markdown",
      "metadata": {
        "id": "ATfgQD3d4zNL"
      },
      "source": [
        "It's useful to remove some Columns that doesn't contributed to the Analysis Goal. In this case, `url` Column is not necesary.\r\n"
      ]
    },
    {
      "cell_type": "code",
      "metadata": {
        "colab": {
          "base_uri": "https://localhost:8080/"
        },
        "id": "XGRfe_YikjCx",
        "outputId": "34bf0938-5cb3-4adb-c713-48a95222fee4"
      },
      "source": [
        "# Another way is not using the axis argument but instead asign columns argument\r\n",
        "data.drop(columns=['url'], inplace=True)\r\n",
        "data.columns"
      ],
      "execution_count": null,
      "outputs": [
        {
          "output_type": "execute_result",
          "data": {
            "text/plain": [
              "Index(['title', 'views', 'year', 'length', 'likes', 'dislikes'], dtype='object')"
            ]
          },
          "metadata": {
            "tags": []
          },
          "execution_count": 9
        }
      ]
    },
    {
      "cell_type": "markdown",
      "metadata": {
        "id": "A2zhEpXb9yUl"
      },
      "source": [
        "### Modifying values by Removing (Additional meaningless data), Adding or Formating them"
      ]
    },
    {
      "cell_type": "markdown",
      "metadata": {
        "id": "_HljXVF798iN"
      },
      "source": [
        "Now in order to Set the proper Data Type to each Column we need to make sure that all Columns Values are **clean**. Let's see a few rows to know what kind of values the dataset has."
      ]
    },
    {
      "cell_type": "code",
      "metadata": {
        "colab": {
          "base_uri": "https://localhost:8080/",
          "height": 204
        },
        "id": "UfaJwaCF0PHj",
        "outputId": "f671d877-6174-45e6-8ebd-0b37b708195f"
      },
      "source": [
        "data.head()"
      ],
      "execution_count": null,
      "outputs": [
        {
          "output_type": "execute_result",
          "data": {
            "text/html": [
              "<div>\n",
              "<style scoped>\n",
              "    .dataframe tbody tr th:only-of-type {\n",
              "        vertical-align: middle;\n",
              "    }\n",
              "\n",
              "    .dataframe tbody tr th {\n",
              "        vertical-align: top;\n",
              "    }\n",
              "\n",
              "    .dataframe thead th {\n",
              "        text-align: right;\n",
              "    }\n",
              "</style>\n",
              "<table border=\"1\" class=\"dataframe\">\n",
              "  <thead>\n",
              "    <tr style=\"text-align: right;\">\n",
              "      <th></th>\n",
              "      <th>title</th>\n",
              "      <th>views</th>\n",
              "      <th>year</th>\n",
              "      <th>length</th>\n",
              "      <th>likes</th>\n",
              "      <th>dislikes</th>\n",
              "    </tr>\n",
              "  </thead>\n",
              "  <tbody>\n",
              "    <tr>\n",
              "      <th>0</th>\n",
              "      <td>ACZINO vs EXODO LIRICAL - 3er y 4to Puesto | R...</td>\n",
              "      <td>577,503</td>\n",
              "      <td>Dec 12, 2020</td>\n",
              "      <td>6:16</td>\n",
              "      <td>14,040</td>\n",
              "      <td>270</td>\n",
              "    </tr>\n",
              "    <tr>\n",
              "      <th>1</th>\n",
              "      <td>EXODO LIRICAL vs RAPDER - Semifinal | Red Bull...</td>\n",
              "      <td>238,463</td>\n",
              "      <td>Dec 12, 2020</td>\n",
              "      <td>12:30</td>\n",
              "      <td>8,135</td>\n",
              "      <td>927</td>\n",
              "    </tr>\n",
              "    <tr>\n",
              "      <th>2</th>\n",
              "      <td>ACZINO vs SKONE - Semifinal | Red Bull Interna...</td>\n",
              "      <td>756,352</td>\n",
              "      <td>Dec 12, 2020</td>\n",
              "      <td>10:06</td>\n",
              "      <td>18,458</td>\n",
              "      <td>1,146</td>\n",
              "    </tr>\n",
              "    <tr>\n",
              "      <th>3</th>\n",
              "      <td>RAPDER vs YARTZI - Cuartos | Red Bull Internac...</td>\n",
              "      <td>47,082</td>\n",
              "      <td>Dec 12, 2020</td>\n",
              "      <td>6:46</td>\n",
              "      <td>1,822</td>\n",
              "      <td>206</td>\n",
              "    </tr>\n",
              "    <tr>\n",
              "      <th>4</th>\n",
              "      <td>EXODO LIRICAL vs BNET - Cuartos | Red Bull Int...</td>\n",
              "      <td>685,109</td>\n",
              "      <td>Dec 12, 2020</td>\n",
              "      <td>6:40</td>\n",
              "      <td>23,202</td>\n",
              "      <td>1,842</td>\n",
              "    </tr>\n",
              "  </tbody>\n",
              "</table>\n",
              "</div>"
            ],
            "text/plain": [
              "                                               title    views  ...   likes dislikes\n",
              "0  ACZINO vs EXODO LIRICAL - 3er y 4to Puesto | R...  577,503  ...  14,040      270\n",
              "1  EXODO LIRICAL vs RAPDER - Semifinal | Red Bull...  238,463  ...   8,135      927\n",
              "2  ACZINO vs SKONE - Semifinal | Red Bull Interna...  756,352  ...  18,458    1,146\n",
              "3  RAPDER vs YARTZI - Cuartos | Red Bull Internac...   47,082  ...   1,822      206\n",
              "4  EXODO LIRICAL vs BNET - Cuartos | Red Bull Int...  685,109  ...  23,202    1,842\n",
              "\n",
              "[5 rows x 6 columns]"
            ]
          },
          "metadata": {
            "tags": []
          },
          "execution_count": 10
        }
      ]
    },
    {
      "cell_type": "markdown",
      "metadata": {
        "id": "3PZ36JxB-7hH"
      },
      "source": [
        "As you can see, there are some Undesired characters among the values of some Columns. So it's necesary to **remove Unnecessary Characteres before doing any conversion task**. Let's start cleaning the `title` Column to keep only the Names of Freestylers"
      ]
    },
    {
      "cell_type": "markdown",
      "metadata": {
        "id": "P4rJ3jNO7Gb6"
      },
      "source": [
        "> Important: Be careful, sometimes there are some characteres that seems similar like these ones - and –  but they are completely different and it can take you a while figure out why is not spliting as espected. I also had to add a conditional because the name of a participal has the - in it and it was spliting up incorrectly."
      ]
    },
    {
      "cell_type": "code",
      "metadata": {
        "colab": {
          "base_uri": "https://localhost:8080/",
          "height": 204
        },
        "id": "Wbmx1QDjvNrt",
        "outputId": "321f2bd9-bb95-4099-9581-06d618a5b94d"
      },
      "source": [
        "#collapse_show\r\n",
        "# Split by multiple different delimiters\r\n",
        "pattern = '[-–|:]'\r\n",
        "\r\n",
        "# data['title'] = [re.split(pattern, i)[0].strip() if 'VALLES-T' not in i else i for i in data['title']]\r\n",
        "data['title'] = [re.split(pattern, i)[0].strip() if 'VALLES-T' not in i else re.split(' - ', i)[0].strip() for i in data['title']]\r\n",
        "\r\n",
        "data['title'] = [i.replace('.', '').strip() for i in data['title']]\r\n",
        "\r\n",
        "# verify changes\r\n",
        "data[data['title'].str.contains('VALLES')].head()"
      ],
      "execution_count": null,
      "outputs": [
        {
          "output_type": "execute_result",
          "data": {
            "text/html": [
              "<div>\n",
              "<style scoped>\n",
              "    .dataframe tbody tr th:only-of-type {\n",
              "        vertical-align: middle;\n",
              "    }\n",
              "\n",
              "    .dataframe tbody tr th {\n",
              "        vertical-align: top;\n",
              "    }\n",
              "\n",
              "    .dataframe thead th {\n",
              "        text-align: right;\n",
              "    }\n",
              "</style>\n",
              "<table border=\"1\" class=\"dataframe\">\n",
              "  <thead>\n",
              "    <tr style=\"text-align: right;\">\n",
              "      <th></th>\n",
              "      <th>title</th>\n",
              "      <th>views</th>\n",
              "      <th>year</th>\n",
              "      <th>length</th>\n",
              "      <th>likes</th>\n",
              "      <th>dislikes</th>\n",
              "    </tr>\n",
              "  </thead>\n",
              "  <tbody>\n",
              "    <tr>\n",
              "      <th>10</th>\n",
              "      <td>BNET vs VALLES-T</td>\n",
              "      <td>1,350,908</td>\n",
              "      <td>Dec 12, 2020</td>\n",
              "      <td>9:08</td>\n",
              "      <td>49,448</td>\n",
              "      <td>3,012</td>\n",
              "    </tr>\n",
              "    <tr>\n",
              "      <th>18</th>\n",
              "      <td>BNET vs VALLES-T</td>\n",
              "      <td>16,680,349</td>\n",
              "      <td>Nov 30, 2019</td>\n",
              "      <td>17:12</td>\n",
              "      <td>282,481</td>\n",
              "      <td>32,957</td>\n",
              "    </tr>\n",
              "    <tr>\n",
              "      <th>20</th>\n",
              "      <td>VALLES-T vs CHANG</td>\n",
              "      <td>11,477,492</td>\n",
              "      <td>Nov 30, 2019</td>\n",
              "      <td>6:43</td>\n",
              "      <td>161,561</td>\n",
              "      <td>2,969</td>\n",
              "    </tr>\n",
              "    <tr>\n",
              "      <th>26</th>\n",
              "      <td>VALLES-T vs JOKKER</td>\n",
              "      <td>3,221,089</td>\n",
              "      <td>Nov 30, 2019</td>\n",
              "      <td>6:21</td>\n",
              "      <td>48,888</td>\n",
              "      <td>1,155</td>\n",
              "    </tr>\n",
              "    <tr>\n",
              "      <th>31</th>\n",
              "      <td>VALLES-T vs ACZINO</td>\n",
              "      <td>16,277,039</td>\n",
              "      <td>Nov 30, 2019</td>\n",
              "      <td>13:46</td>\n",
              "      <td>279,388</td>\n",
              "      <td>9,027</td>\n",
              "    </tr>\n",
              "  </tbody>\n",
              "</table>\n",
              "</div>"
            ],
            "text/plain": [
              "                 title       views          year length    likes dislikes\n",
              "10    BNET vs VALLES-T   1,350,908  Dec 12, 2020   9:08   49,448    3,012\n",
              "18    BNET vs VALLES-T  16,680,349  Nov 30, 2019  17:12  282,481   32,957\n",
              "20   VALLES-T vs CHANG  11,477,492  Nov 30, 2019   6:43  161,561    2,969\n",
              "26  VALLES-T vs JOKKER   3,221,089  Nov 30, 2019   6:21   48,888    1,155\n",
              "31  VALLES-T vs ACZINO  16,277,039  Nov 30, 2019  13:46  279,388    9,027"
            ]
          },
          "metadata": {
            "tags": []
          },
          "execution_count": 11
        }
      ]
    },
    {
      "cell_type": "markdown",
      "metadata": {
        "id": "pyAyfJRnCsQL"
      },
      "source": [
        "Lets continue cleaning the Columns `views`, `likes` and `dislikes`, In this case, we'll remove the comma (,) from `views`, `likes` and `dislikes` Columns Values. Also, in the **row 8** (and some others rows) there is the word `Premiered` before the date string. It needs to be removed."
      ]
    },
    {
      "cell_type": "code",
      "metadata": {
        "id": "r3HZHr8WcyJQ",
        "colab": {
          "base_uri": "https://localhost:8080/",
          "height": 142
        },
        "outputId": "1ef2c053-ad91-4997-f60e-f029347659e6"
      },
      "source": [
        "#collapse_show\r\n",
        "# List of characters to remove\r\n",
        "chars_to_remove = [' ', ',']\r\n",
        "\r\n",
        "# List of column names to clean\r\n",
        "cols_to_clean = ['views', 'dislikes', 'likes']\r\n",
        "\r\n",
        "# Loop for each column\r\n",
        "for col in cols_to_clean:\r\n",
        "\r\n",
        "    # Replace each character with an empty string\r\n",
        "    for char in chars_to_remove:\r\n",
        "        data[col] = data[col].astype(str).str.replace(char,'')\r\n",
        "\r\n",
        "# verify changes\r\n",
        "data.head(3)"
      ],
      "execution_count": null,
      "outputs": [
        {
          "output_type": "execute_result",
          "data": {
            "text/html": [
              "<div>\n",
              "<style scoped>\n",
              "    .dataframe tbody tr th:only-of-type {\n",
              "        vertical-align: middle;\n",
              "    }\n",
              "\n",
              "    .dataframe tbody tr th {\n",
              "        vertical-align: top;\n",
              "    }\n",
              "\n",
              "    .dataframe thead th {\n",
              "        text-align: right;\n",
              "    }\n",
              "</style>\n",
              "<table border=\"1\" class=\"dataframe\">\n",
              "  <thead>\n",
              "    <tr style=\"text-align: right;\">\n",
              "      <th></th>\n",
              "      <th>title</th>\n",
              "      <th>views</th>\n",
              "      <th>year</th>\n",
              "      <th>length</th>\n",
              "      <th>likes</th>\n",
              "      <th>dislikes</th>\n",
              "    </tr>\n",
              "  </thead>\n",
              "  <tbody>\n",
              "    <tr>\n",
              "      <th>0</th>\n",
              "      <td>ACZINO vs EXODO LIRICAL</td>\n",
              "      <td>577503</td>\n",
              "      <td>Dec 12, 2020</td>\n",
              "      <td>6:16</td>\n",
              "      <td>14040</td>\n",
              "      <td>270</td>\n",
              "    </tr>\n",
              "    <tr>\n",
              "      <th>1</th>\n",
              "      <td>EXODO LIRICAL vs RAPDER</td>\n",
              "      <td>238463</td>\n",
              "      <td>Dec 12, 2020</td>\n",
              "      <td>12:30</td>\n",
              "      <td>8135</td>\n",
              "      <td>927</td>\n",
              "    </tr>\n",
              "    <tr>\n",
              "      <th>2</th>\n",
              "      <td>ACZINO vs SKONE</td>\n",
              "      <td>756352</td>\n",
              "      <td>Dec 12, 2020</td>\n",
              "      <td>10:06</td>\n",
              "      <td>18458</td>\n",
              "      <td>1146</td>\n",
              "    </tr>\n",
              "  </tbody>\n",
              "</table>\n",
              "</div>"
            ],
            "text/plain": [
              "                     title   views          year length  likes dislikes\n",
              "0  ACZINO vs EXODO LIRICAL  577503  Dec 12, 2020   6:16  14040      270\n",
              "1  EXODO LIRICAL vs RAPDER  238463  Dec 12, 2020  12:30   8135      927\n",
              "2          ACZINO vs SKONE  756352  Dec 12, 2020  10:06  18458     1146"
            ]
          },
          "metadata": {
            "tags": []
          },
          "execution_count": 13
        }
      ]
    },
    {
      "cell_type": "markdown",
      "metadata": {
        "id": "6d4X7A0UXxPq"
      },
      "source": [
        "As we said earlier, we only need the last part of the string for each `upload_date` Column Value."
      ]
    },
    {
      "cell_type": "code",
      "metadata": {
        "colab": {
          "base_uri": "https://localhost:8080/"
        },
        "id": "BLCiCk6wZ2kU",
        "outputId": "2548b1e3-3b62-4df2-cb8a-b7568a759c7f"
      },
      "source": [
        "data['year'] = [re.split(',', i)[1].strip() for i in data['year']]\r\n",
        "\r\n",
        "# verify changes\r\n",
        "data['year'].head()"
      ],
      "execution_count": null,
      "outputs": [
        {
          "output_type": "execute_result",
          "data": {
            "text/plain": [
              "0    2020\n",
              "1    2020\n",
              "2    2020\n",
              "3    2020\n",
              "4    2020\n",
              "Name: year, dtype: object"
            ]
          },
          "metadata": {
            "tags": []
          },
          "execution_count": 14
        }
      ]
    },
    {
      "cell_type": "markdown",
      "metadata": {
        "id": "LiIyklevE_Gy"
      },
      "source": [
        "### Data Type Convertion\r\n",
        "(less memory usage)"
      ]
    },
    {
      "cell_type": "markdown",
      "metadata": {
        "id": "076QPfc50msj"
      },
      "source": [
        "Let's check what Data Types the Columns are"
      ]
    },
    {
      "cell_type": "code",
      "metadata": {
        "colab": {
          "base_uri": "https://localhost:8080/"
        },
        "id": "wI3XUh1XygG6",
        "outputId": "84288513-c8c0-4158-b8ec-63e434d09063"
      },
      "source": [
        "data.dtypes"
      ],
      "execution_count": null,
      "outputs": [
        {
          "output_type": "execute_result",
          "data": {
            "text/plain": [
              "title       object\n",
              "views       object\n",
              "year        object\n",
              "length      object\n",
              "likes       object\n",
              "dislikes    object\n",
              "dtype: object"
            ]
          },
          "metadata": {
            "tags": []
          },
          "execution_count": 15
        }
      ]
    },
    {
      "cell_type": "markdown",
      "metadata": {
        "id": "08czl-ZayjIi"
      },
      "source": [
        "Since we already saw the dataset have String, Datetime and Number values, this is not so specific, we need to set the right Data Type to all Columns. Let's first try an Automatic Data Type Conversion Method toy see if this will do the trick."
      ]
    },
    {
      "cell_type": "code",
      "metadata": {
        "id": "tsmT6KhqaJZW",
        "colab": {
          "base_uri": "https://localhost:8080/"
        },
        "outputId": "de947d54-2364-47b0-9756-eeb310923064"
      },
      "source": [
        "# Convert to Best Data Types Automatically\n",
        "data.convert_dtypes().dtypes"
      ],
      "execution_count": null,
      "outputs": [
        {
          "output_type": "execute_result",
          "data": {
            "text/plain": [
              "title       string\n",
              "views       string\n",
              "year        string\n",
              "length      string\n",
              "likes       string\n",
              "dislikes    string\n",
              "dtype: object"
            ]
          },
          "metadata": {
            "tags": []
          },
          "execution_count": 16
        }
      ]
    },
    {
      "cell_type": "markdown",
      "metadata": {
        "id": "weZiogPbzbF6"
      },
      "source": [
        "Since we see the code above it's not quite effective, **we'll need to convert them manually**. Also, from the above code, we see that it's neccesary remove some characteres inside Columns Values, **that's why the automatic method set all columns as a string.**"
      ]
    },
    {
      "cell_type": "code",
      "metadata": {
        "colab": {
          "base_uri": "https://localhost:8080/"
        },
        "id": "veYfyhVoNgCm",
        "outputId": "5ffe8cea-5580-4814-8c1f-602a78006fef"
      },
      "source": [
        "#collapse_show\r\n",
        "data['title'] = data['title'].astype(str)\r\n",
        "\r\n",
        "# List of column names to convert to numberic data\r\n",
        "cols_to_modify_dtype = ['views', 'dislikes', 'likes']\r\n",
        "\r\n",
        "for col in cols_to_modify_dtype:\r\n",
        "    # Convert col to numeric\r\n",
        "    data[col] = pd.to_numeric(data[col])\r\n",
        "\r\n",
        "data['length'] = pd.to_datetime(data['length'], format='%M:%S').dt.time\r\n",
        "\r\n",
        "data['year'] = pd.DatetimeIndex(data['year']).year\r\n",
        "\r\n",
        "# verify changes\r\n",
        "data.dtypes"
      ],
      "execution_count": null,
      "outputs": [
        {
          "output_type": "execute_result",
          "data": {
            "text/plain": [
              "title       object\n",
              "views        int64\n",
              "year         int64\n",
              "length      object\n",
              "likes        int64\n",
              "dislikes     int64\n",
              "dtype: object"
            ]
          },
          "metadata": {
            "tags": []
          },
          "execution_count": 21
        }
      ]
    },
    {
      "cell_type": "markdown",
      "metadata": {
        "id": "AsZy2gIRdSac"
      },
      "source": [
        "Lets print once again a few rows of the dataset to see if changes were applied."
      ]
    },
    {
      "cell_type": "code",
      "metadata": {
        "colab": {
          "base_uri": "https://localhost:8080/",
          "height": 204
        },
        "id": "2ZKNesIF75Al",
        "outputId": "ae747961-1015-4d69-a9b4-065807c9e3b3"
      },
      "source": [
        "data.head()"
      ],
      "execution_count": null,
      "outputs": [
        {
          "output_type": "execute_result",
          "data": {
            "text/html": [
              "<div>\n",
              "<style scoped>\n",
              "    .dataframe tbody tr th:only-of-type {\n",
              "        vertical-align: middle;\n",
              "    }\n",
              "\n",
              "    .dataframe tbody tr th {\n",
              "        vertical-align: top;\n",
              "    }\n",
              "\n",
              "    .dataframe thead th {\n",
              "        text-align: right;\n",
              "    }\n",
              "</style>\n",
              "<table border=\"1\" class=\"dataframe\">\n",
              "  <thead>\n",
              "    <tr style=\"text-align: right;\">\n",
              "      <th></th>\n",
              "      <th>title</th>\n",
              "      <th>views</th>\n",
              "      <th>year</th>\n",
              "      <th>length</th>\n",
              "      <th>likes</th>\n",
              "      <th>dislikes</th>\n",
              "    </tr>\n",
              "  </thead>\n",
              "  <tbody>\n",
              "    <tr>\n",
              "      <th>0</th>\n",
              "      <td>ACZINO vs EXODO LIRICAL</td>\n",
              "      <td>577503</td>\n",
              "      <td>2020</td>\n",
              "      <td>00:06:16</td>\n",
              "      <td>14040</td>\n",
              "      <td>270</td>\n",
              "    </tr>\n",
              "    <tr>\n",
              "      <th>1</th>\n",
              "      <td>EXODO LIRICAL vs RAPDER</td>\n",
              "      <td>238463</td>\n",
              "      <td>2020</td>\n",
              "      <td>00:12:30</td>\n",
              "      <td>8135</td>\n",
              "      <td>927</td>\n",
              "    </tr>\n",
              "    <tr>\n",
              "      <th>2</th>\n",
              "      <td>ACZINO vs SKONE</td>\n",
              "      <td>756352</td>\n",
              "      <td>2020</td>\n",
              "      <td>00:10:06</td>\n",
              "      <td>18458</td>\n",
              "      <td>1146</td>\n",
              "    </tr>\n",
              "    <tr>\n",
              "      <th>3</th>\n",
              "      <td>RAPDER vs YARTZI</td>\n",
              "      <td>47082</td>\n",
              "      <td>2020</td>\n",
              "      <td>00:06:46</td>\n",
              "      <td>1822</td>\n",
              "      <td>206</td>\n",
              "    </tr>\n",
              "    <tr>\n",
              "      <th>4</th>\n",
              "      <td>EXODO LIRICAL vs BNET</td>\n",
              "      <td>685109</td>\n",
              "      <td>2020</td>\n",
              "      <td>00:06:40</td>\n",
              "      <td>23202</td>\n",
              "      <td>1842</td>\n",
              "    </tr>\n",
              "  </tbody>\n",
              "</table>\n",
              "</div>"
            ],
            "text/plain": [
              "                     title   views  year    length  likes  dislikes\n",
              "0  ACZINO vs EXODO LIRICAL  577503  2020  00:06:16  14040       270\n",
              "1  EXODO LIRICAL vs RAPDER  238463  2020  00:12:30   8135       927\n",
              "2          ACZINO vs SKONE  756352  2020  00:10:06  18458      1146\n",
              "3         RAPDER vs YARTZI   47082  2020  00:06:46   1822       206\n",
              "4    EXODO LIRICAL vs BNET  685109  2020  00:06:40  23202      1842"
            ]
          },
          "metadata": {
            "tags": []
          },
          "execution_count": 22
        }
      ]
    },
    {
      "cell_type": "markdown",
      "metadata": {
        "id": "xq0eNIkFgsmZ"
      },
      "source": [
        "### Dealing with Missing Values"
      ]
    },
    {
      "cell_type": "markdown",
      "metadata": {
        "id": "I5Zpjawzh3_z"
      },
      "source": [
        "First we verify if the dataset have Missing Values."
      ]
    },
    {
      "cell_type": "code",
      "metadata": {
        "colab": {
          "base_uri": "https://localhost:8080/"
        },
        "id": "U0YYeYRVgsQz",
        "outputId": "cf18c3f3-d705-4921-a1d8-6ab11867c8a6"
      },
      "source": [
        "# Show Whether the dataset contain any Missing Value\r\n",
        "data.isnull().values.any()"
      ],
      "execution_count": null,
      "outputs": [
        {
          "output_type": "execute_result",
          "data": {
            "text/plain": [
              "False"
            ]
          },
          "metadata": {
            "tags": []
          },
          "execution_count": 23
        }
      ]
    },
    {
      "cell_type": "markdown",
      "metadata": {
        "id": "BkgbJiuyhgg8"
      },
      "source": [
        "Since there is not Missing Values, Let's move on to the next task."
      ]
    },
    {
      "cell_type": "markdown",
      "metadata": {
        "id": "3VbIYrgWiPO0"
      },
      "source": [
        "### Removing Duplicated Values"
      ]
    },
    {
      "cell_type": "markdown",
      "metadata": {
        "id": "rjBNa0OhiV7E"
      },
      "source": [
        "In order to identify if there are Duplicated Values, we'll use `duplicated()` method."
      ]
    },
    {
      "cell_type": "code",
      "metadata": {
        "colab": {
          "base_uri": "https://localhost:8080/"
        },
        "id": "AhLkv3lCiuqD",
        "outputId": "329c274b-8e60-4fc4-f506-8f1774de7ea0"
      },
      "source": [
        "# Select duplicate rows except first occurrence based on all columns\r\n",
        "duplicateRowsDF = data[data.duplicated()]\r\n",
        "if duplicateRowsDF.empty == True:\r\n",
        "    print('There arent Duplicated Values. Good to go!')\r\n",
        "else:\r\n",
        "    print('Duplicate Rows except first occurrence based on all columns are :')\r\n",
        "    print(duplicateRowsDF)"
      ],
      "execution_count": null,
      "outputs": [
        {
          "output_type": "stream",
          "text": [
            "There arent Duplicated Values. Good to go!\n"
          ],
          "name": "stdout"
        }
      ]
    },
    {
      "cell_type": "markdown",
      "metadata": {
        "id": "Q3ivZ9fvkf64"
      },
      "source": [
        "### Dealing with Inconsistencies Data\r\n",
        "(Business Rule | Domain Expertice required)\r\n",
        "Modifying | Removing Erroneus Values"
      ]
    },
    {
      "cell_type": "markdown",
      "metadata": {
        "id": "GheBqUN1mmM8"
      },
      "source": [
        "Because I'm myself a fan of such Freestyle Competitions, I know that normally there are up to 16 matches every year. Let's verify that."
      ]
    },
    {
      "cell_type": "code",
      "metadata": {
        "colab": {
          "base_uri": "https://localhost:8080/"
        },
        "id": "Qbff3UVAZVDw",
        "outputId": "47d9503d-ac17-4fba-c25d-f6d555fbbd1e"
      },
      "source": [
        "data['year'].value_counts()"
      ],
      "execution_count": null,
      "outputs": [
        {
          "output_type": "execute_result",
          "data": {
            "text/plain": [
              "2018    18\n",
              "2020    17\n",
              "2019    16\n",
              "2017    16\n",
              "2016    16\n",
              "2015    12\n",
              "Name: year, dtype: int64"
            ]
          },
          "metadata": {
            "tags": []
          },
          "execution_count": 25
        }
      ]
    },
    {
      "cell_type": "markdown",
      "metadata": {
        "id": "cYbXqUUysmim"
      },
      "source": [
        "As we can see there are more than that in the year 2018 and 2020, Lets find out what's going on."
      ]
    },
    {
      "cell_type": "code",
      "metadata": {
        "id": "czPNNdmqk9Z1",
        "colab": {
          "base_uri": "https://localhost:8080/",
          "height": 607
        },
        "outputId": "4b8fb475-aa97-4116-da0e-1fa74b57e8f5"
      },
      "source": [
        "#collapse_output\r\n",
        "data[data['year'] == 2018]"
      ],
      "execution_count": null,
      "outputs": [
        {
          "output_type": "execute_result",
          "data": {
            "text/html": [
              "<div>\n",
              "<style scoped>\n",
              "    .dataframe tbody tr th:only-of-type {\n",
              "        vertical-align: middle;\n",
              "    }\n",
              "\n",
              "    .dataframe tbody tr th {\n",
              "        vertical-align: top;\n",
              "    }\n",
              "\n",
              "    .dataframe thead th {\n",
              "        text-align: right;\n",
              "    }\n",
              "</style>\n",
              "<table border=\"1\" class=\"dataframe\">\n",
              "  <thead>\n",
              "    <tr style=\"text-align: right;\">\n",
              "      <th></th>\n",
              "      <th>title</th>\n",
              "      <th>views</th>\n",
              "      <th>year</th>\n",
              "      <th>length</th>\n",
              "      <th>likes</th>\n",
              "      <th>dislikes</th>\n",
              "    </tr>\n",
              "  </thead>\n",
              "  <tbody>\n",
              "    <tr>\n",
              "      <th>33</th>\n",
              "      <td>SWITCH vs BNET</td>\n",
              "      <td>1637196</td>\n",
              "      <td>2018</td>\n",
              "      <td>00:07:19</td>\n",
              "      <td>33768</td>\n",
              "      <td>493</td>\n",
              "    </tr>\n",
              "    <tr>\n",
              "      <th>34</th>\n",
              "      <td>WOS vs RAPDER Octavos</td>\n",
              "      <td>1831544</td>\n",
              "      <td>2018</td>\n",
              "      <td>00:07:01</td>\n",
              "      <td>33093</td>\n",
              "      <td>5586</td>\n",
              "    </tr>\n",
              "    <tr>\n",
              "      <th>35</th>\n",
              "      <td>BNET vs ARKANO</td>\n",
              "      <td>3506340</td>\n",
              "      <td>2018</td>\n",
              "      <td>00:07:17</td>\n",
              "      <td>58063</td>\n",
              "      <td>1371</td>\n",
              "    </tr>\n",
              "    <tr>\n",
              "      <th>36</th>\n",
              "      <td>VALLES T vs PEPE GRILLO</td>\n",
              "      <td>10975462</td>\n",
              "      <td>2018</td>\n",
              "      <td>00:07:18</td>\n",
              "      <td>166863</td>\n",
              "      <td>2964</td>\n",
              "    </tr>\n",
              "    <tr>\n",
              "      <th>37</th>\n",
              "      <td>NEON vs LETRA</td>\n",
              "      <td>4750022</td>\n",
              "      <td>2018</td>\n",
              "      <td>00:07:36</td>\n",
              "      <td>77815</td>\n",
              "      <td>1101</td>\n",
              "    </tr>\n",
              "    <tr>\n",
              "      <th>38</th>\n",
              "      <td>WOS vs LETRA</td>\n",
              "      <td>3875917</td>\n",
              "      <td>2018</td>\n",
              "      <td>00:07:34</td>\n",
              "      <td>72927</td>\n",
              "      <td>5913</td>\n",
              "    </tr>\n",
              "    <tr>\n",
              "      <th>39</th>\n",
              "      <td>VALLES T vs BNET</td>\n",
              "      <td>3609190</td>\n",
              "      <td>2018</td>\n",
              "      <td>00:08:09</td>\n",
              "      <td>62295</td>\n",
              "      <td>4511</td>\n",
              "    </tr>\n",
              "    <tr>\n",
              "      <th>40</th>\n",
              "      <td>WOS vs ACZINO</td>\n",
              "      <td>39525308</td>\n",
              "      <td>2018</td>\n",
              "      <td>00:19:03</td>\n",
              "      <td>680254</td>\n",
              "      <td>73824</td>\n",
              "    </tr>\n",
              "    <tr>\n",
              "      <th>41</th>\n",
              "      <td>VALLES T vs KDT</td>\n",
              "      <td>1858540</td>\n",
              "      <td>2018</td>\n",
              "      <td>00:07:50</td>\n",
              "      <td>33888</td>\n",
              "      <td>877</td>\n",
              "    </tr>\n",
              "    <tr>\n",
              "      <th>42</th>\n",
              "      <td>ACZINO vs JAZE</td>\n",
              "      <td>4673494</td>\n",
              "      <td>2018</td>\n",
              "      <td>00:07:53</td>\n",
              "      <td>70535</td>\n",
              "      <td>5986</td>\n",
              "    </tr>\n",
              "    <tr>\n",
              "      <th>43</th>\n",
              "      <td>BNET vs ACZINO</td>\n",
              "      <td>6880359</td>\n",
              "      <td>2018</td>\n",
              "      <td>00:08:14</td>\n",
              "      <td>108931</td>\n",
              "      <td>8573</td>\n",
              "    </tr>\n",
              "    <tr>\n",
              "      <th>44</th>\n",
              "      <td>YERIKO vs PEPE GRILLO</td>\n",
              "      <td>263529</td>\n",
              "      <td>2018</td>\n",
              "      <td>00:07:14</td>\n",
              "      <td>5625</td>\n",
              "      <td>655</td>\n",
              "    </tr>\n",
              "    <tr>\n",
              "      <th>45</th>\n",
              "      <td>RVS vs INDICO</td>\n",
              "      <td>1488867</td>\n",
              "      <td>2018</td>\n",
              "      <td>00:10:48</td>\n",
              "      <td>31762</td>\n",
              "      <td>495</td>\n",
              "    </tr>\n",
              "    <tr>\n",
              "      <th>46</th>\n",
              "      <td>INDICO vs ACZINO</td>\n",
              "      <td>1578144</td>\n",
              "      <td>2018</td>\n",
              "      <td>00:07:28</td>\n",
              "      <td>21910</td>\n",
              "      <td>466</td>\n",
              "    </tr>\n",
              "    <tr>\n",
              "      <th>47</th>\n",
              "      <td>VALLES T vs WOS</td>\n",
              "      <td>6938112</td>\n",
              "      <td>2018</td>\n",
              "      <td>00:09:14</td>\n",
              "      <td>116773</td>\n",
              "      <td>25799</td>\n",
              "    </tr>\n",
              "    <tr>\n",
              "      <th>48</th>\n",
              "      <td>DOZER vs ARKANO</td>\n",
              "      <td>1231381</td>\n",
              "      <td>2018</td>\n",
              "      <td>00:08:07</td>\n",
              "      <td>27260</td>\n",
              "      <td>4257</td>\n",
              "    </tr>\n",
              "    <tr>\n",
              "      <th>49</th>\n",
              "      <td>Perfil de Gallo</td>\n",
              "      <td>16675</td>\n",
              "      <td>2018</td>\n",
              "      <td>00:00:52</td>\n",
              "      <td>863</td>\n",
              "      <td>30</td>\n",
              "    </tr>\n",
              "    <tr>\n",
              "      <th>50</th>\n",
              "      <td>MARK GRIST vs GALLOS</td>\n",
              "      <td>33867</td>\n",
              "      <td>2018</td>\n",
              "      <td>00:03:13</td>\n",
              "      <td>1442</td>\n",
              "      <td>44</td>\n",
              "    </tr>\n",
              "  </tbody>\n",
              "</table>\n",
              "</div>"
            ],
            "text/plain": [
              "                      title     views  year    length   likes  dislikes\n",
              "33           SWITCH vs BNET   1637196  2018  00:07:19   33768       493\n",
              "34    WOS vs RAPDER Octavos   1831544  2018  00:07:01   33093      5586\n",
              "35           BNET vs ARKANO   3506340  2018  00:07:17   58063      1371\n",
              "36  VALLES T vs PEPE GRILLO  10975462  2018  00:07:18  166863      2964\n",
              "37            NEON vs LETRA   4750022  2018  00:07:36   77815      1101\n",
              "38             WOS vs LETRA   3875917  2018  00:07:34   72927      5913\n",
              "39         VALLES T vs BNET   3609190  2018  00:08:09   62295      4511\n",
              "40            WOS vs ACZINO  39525308  2018  00:19:03  680254     73824\n",
              "41          VALLES T vs KDT   1858540  2018  00:07:50   33888       877\n",
              "42           ACZINO vs JAZE   4673494  2018  00:07:53   70535      5986\n",
              "43           BNET vs ACZINO   6880359  2018  00:08:14  108931      8573\n",
              "44    YERIKO vs PEPE GRILLO    263529  2018  00:07:14    5625       655\n",
              "45            RVS vs INDICO   1488867  2018  00:10:48   31762       495\n",
              "46         INDICO vs ACZINO   1578144  2018  00:07:28   21910       466\n",
              "47          VALLES T vs WOS   6938112  2018  00:09:14  116773     25799\n",
              "48          DOZER vs ARKANO   1231381  2018  00:08:07   27260      4257\n",
              "49          Perfil de Gallo     16675  2018  00:00:52     863        30\n",
              "50     MARK GRIST vs GALLOS     33867  2018  00:03:13    1442        44"
            ]
          },
          "metadata": {
            "tags": []
          },
          "execution_count": 26
        }
      ]
    },
    {
      "cell_type": "markdown",
      "metadata": {
        "id": "-ZP-R3f6iWNa"
      },
      "source": [
        "Rows 49 and 50 are not part of the International Competition' videos, so they need to be removed. Now, let's see the rows of 2020 year"
      ]
    },
    {
      "cell_type": "code",
      "metadata": {
        "colab": {
          "base_uri": "https://localhost:8080/",
          "height": 576
        },
        "id": "ca2jYG1zoYI4",
        "outputId": "9ad78326-52bb-4f7c-f12a-97fe5f263960"
      },
      "source": [
        "#collapse_output\r\n",
        "data[data['year'] == 2020]"
      ],
      "execution_count": null,
      "outputs": [
        {
          "output_type": "execute_result",
          "data": {
            "text/html": [
              "<div>\n",
              "<style scoped>\n",
              "    .dataframe tbody tr th:only-of-type {\n",
              "        vertical-align: middle;\n",
              "    }\n",
              "\n",
              "    .dataframe tbody tr th {\n",
              "        vertical-align: top;\n",
              "    }\n",
              "\n",
              "    .dataframe thead th {\n",
              "        text-align: right;\n",
              "    }\n",
              "</style>\n",
              "<table border=\"1\" class=\"dataframe\">\n",
              "  <thead>\n",
              "    <tr style=\"text-align: right;\">\n",
              "      <th></th>\n",
              "      <th>title</th>\n",
              "      <th>views</th>\n",
              "      <th>year</th>\n",
              "      <th>length</th>\n",
              "      <th>likes</th>\n",
              "      <th>dislikes</th>\n",
              "    </tr>\n",
              "  </thead>\n",
              "  <tbody>\n",
              "    <tr>\n",
              "      <th>0</th>\n",
              "      <td>ACZINO vs EXODO LIRICAL</td>\n",
              "      <td>577503</td>\n",
              "      <td>2020</td>\n",
              "      <td>00:06:16</td>\n",
              "      <td>14040</td>\n",
              "      <td>270</td>\n",
              "    </tr>\n",
              "    <tr>\n",
              "      <th>1</th>\n",
              "      <td>EXODO LIRICAL vs RAPDER</td>\n",
              "      <td>238463</td>\n",
              "      <td>2020</td>\n",
              "      <td>00:12:30</td>\n",
              "      <td>8135</td>\n",
              "      <td>927</td>\n",
              "    </tr>\n",
              "    <tr>\n",
              "      <th>2</th>\n",
              "      <td>ACZINO vs SKONE</td>\n",
              "      <td>756352</td>\n",
              "      <td>2020</td>\n",
              "      <td>00:10:06</td>\n",
              "      <td>18458</td>\n",
              "      <td>1146</td>\n",
              "    </tr>\n",
              "    <tr>\n",
              "      <th>3</th>\n",
              "      <td>RAPDER vs YARTZI</td>\n",
              "      <td>47082</td>\n",
              "      <td>2020</td>\n",
              "      <td>00:06:46</td>\n",
              "      <td>1822</td>\n",
              "      <td>206</td>\n",
              "    </tr>\n",
              "    <tr>\n",
              "      <th>4</th>\n",
              "      <td>EXODO LIRICAL vs BNET</td>\n",
              "      <td>685109</td>\n",
              "      <td>2020</td>\n",
              "      <td>00:06:40</td>\n",
              "      <td>23202</td>\n",
              "      <td>1842</td>\n",
              "    </tr>\n",
              "    <tr>\n",
              "      <th>5</th>\n",
              "      <td>SKONE vs ACERTIJO</td>\n",
              "      <td>179664</td>\n",
              "      <td>2020</td>\n",
              "      <td>00:09:36</td>\n",
              "      <td>5341</td>\n",
              "      <td>4847</td>\n",
              "    </tr>\n",
              "    <tr>\n",
              "      <th>6</th>\n",
              "      <td>ACZINO vs NAICEN</td>\n",
              "      <td>158269</td>\n",
              "      <td>2020</td>\n",
              "      <td>00:06:51</td>\n",
              "      <td>5507</td>\n",
              "      <td>1713</td>\n",
              "    </tr>\n",
              "    <tr>\n",
              "      <th>7</th>\n",
              "      <td>SKONE vs RAPDER</td>\n",
              "      <td>1651540</td>\n",
              "      <td>2020</td>\n",
              "      <td>00:15:19</td>\n",
              "      <td>64965</td>\n",
              "      <td>3259</td>\n",
              "    </tr>\n",
              "    <tr>\n",
              "      <th>8</th>\n",
              "      <td>ELEVN vs YARTZI</td>\n",
              "      <td>56480</td>\n",
              "      <td>2020</td>\n",
              "      <td>00:06:30</td>\n",
              "      <td>2041</td>\n",
              "      <td>131</td>\n",
              "    </tr>\n",
              "    <tr>\n",
              "      <th>9</th>\n",
              "      <td>RAPDER vs STICK</td>\n",
              "      <td>122237</td>\n",
              "      <td>2020</td>\n",
              "      <td>00:06:21</td>\n",
              "      <td>4389</td>\n",
              "      <td>2710</td>\n",
              "    </tr>\n",
              "    <tr>\n",
              "      <th>10</th>\n",
              "      <td>BNET vs VALLES-T</td>\n",
              "      <td>1350908</td>\n",
              "      <td>2020</td>\n",
              "      <td>00:09:08</td>\n",
              "      <td>49448</td>\n",
              "      <td>3012</td>\n",
              "    </tr>\n",
              "    <tr>\n",
              "      <th>11</th>\n",
              "      <td>EXODO LIRICAL vs MAC</td>\n",
              "      <td>105707</td>\n",
              "      <td>2020</td>\n",
              "      <td>00:06:13</td>\n",
              "      <td>5319</td>\n",
              "      <td>254</td>\n",
              "    </tr>\n",
              "    <tr>\n",
              "      <th>12</th>\n",
              "      <td>ACERTIJO vs MINOS</td>\n",
              "      <td>57738</td>\n",
              "      <td>2020</td>\n",
              "      <td>00:06:24</td>\n",
              "      <td>2530</td>\n",
              "      <td>55</td>\n",
              "    </tr>\n",
              "    <tr>\n",
              "      <th>13</th>\n",
              "      <td>SKONE vs TATA</td>\n",
              "      <td>436674</td>\n",
              "      <td>2020</td>\n",
              "      <td>00:06:36</td>\n",
              "      <td>12055</td>\n",
              "      <td>17890</td>\n",
              "    </tr>\n",
              "    <tr>\n",
              "      <th>14</th>\n",
              "      <td>NAICEN vs SNK</td>\n",
              "      <td>66128</td>\n",
              "      <td>2020</td>\n",
              "      <td>00:06:44</td>\n",
              "      <td>3196</td>\n",
              "      <td>200</td>\n",
              "    </tr>\n",
              "    <tr>\n",
              "      <th>15</th>\n",
              "      <td>ACZINO vs SHIELD MASTER</td>\n",
              "      <td>154369</td>\n",
              "      <td>2020</td>\n",
              "      <td>00:06:51</td>\n",
              "      <td>5439</td>\n",
              "      <td>471</td>\n",
              "    </tr>\n",
              "    <tr>\n",
              "      <th>16</th>\n",
              "      <td>BLON vs NEW ERA vs YOIKER</td>\n",
              "      <td>932161</td>\n",
              "      <td>2020</td>\n",
              "      <td>00:25:18</td>\n",
              "      <td>49375</td>\n",
              "      <td>859</td>\n",
              "    </tr>\n",
              "  </tbody>\n",
              "</table>\n",
              "</div>"
            ],
            "text/plain": [
              "                        title    views  year    length  likes  dislikes\n",
              "0     ACZINO vs EXODO LIRICAL   577503  2020  00:06:16  14040       270\n",
              "1     EXODO LIRICAL vs RAPDER   238463  2020  00:12:30   8135       927\n",
              "2             ACZINO vs SKONE   756352  2020  00:10:06  18458      1146\n",
              "3            RAPDER vs YARTZI    47082  2020  00:06:46   1822       206\n",
              "4       EXODO LIRICAL vs BNET   685109  2020  00:06:40  23202      1842\n",
              "5           SKONE vs ACERTIJO   179664  2020  00:09:36   5341      4847\n",
              "6            ACZINO vs NAICEN   158269  2020  00:06:51   5507      1713\n",
              "7             SKONE vs RAPDER  1651540  2020  00:15:19  64965      3259\n",
              "8             ELEVN vs YARTZI    56480  2020  00:06:30   2041       131\n",
              "9             RAPDER vs STICK   122237  2020  00:06:21   4389      2710\n",
              "10           BNET vs VALLES-T  1350908  2020  00:09:08  49448      3012\n",
              "11       EXODO LIRICAL vs MAC   105707  2020  00:06:13   5319       254\n",
              "12          ACERTIJO vs MINOS    57738  2020  00:06:24   2530        55\n",
              "13              SKONE vs TATA   436674  2020  00:06:36  12055     17890\n",
              "14              NAICEN vs SNK    66128  2020  00:06:44   3196       200\n",
              "15    ACZINO vs SHIELD MASTER   154369  2020  00:06:51   5439       471\n",
              "16  BLON vs NEW ERA vs YOIKER   932161  2020  00:25:18  49375       859"
            ]
          },
          "metadata": {
            "tags": []
          },
          "execution_count": 27
        }
      ]
    },
    {
      "cell_type": "markdown",
      "metadata": {
        "id": "4dPD6oXipYg6"
      },
      "source": [
        "The same, Even though the row 16 is a international Competition Video (info), this match was done to have a reserve competitor just in case any of the 16 couldn't make it. But it didn't occur. Now let's remove all rows are not part of the Oficial Matches' Videos."
      ]
    },
    {
      "cell_type": "code",
      "metadata": {
        "id": "zllYD28giiej"
      },
      "source": [
        "# Delete rows with index label\r\n",
        "data = data.drop([16, 49 , 50])"
      ],
      "execution_count": null,
      "outputs": []
    },
    {
      "cell_type": "markdown",
      "metadata": {
        "id": "4gXMOHlNlGcT"
      },
      "source": [
        "### Setting & Modifying the Index Column"
      ]
    },
    {
      "cell_type": "markdown",
      "metadata": {
        "id": "Vi2zVLOfu89_"
      },
      "source": [
        "Bencause it was necessary to remove some rows (16,49 and 50), the index was changed. Let fix that. Also, I'll asign a name to the Index Column."
      ]
    },
    {
      "cell_type": "code",
      "metadata": {
        "id": "km-TQHoLj2fS"
      },
      "source": [
        "data.reset_index(inplace = True, drop=True)"
      ],
      "execution_count": null,
      "outputs": []
    },
    {
      "cell_type": "code",
      "metadata": {
        "colab": {
          "base_uri": "https://localhost:8080/",
          "height": 142
        },
        "id": "Rl3R0BC1jl2K",
        "outputId": "61dbc301-ff9b-45ba-91ef-e939d3c41ddb"
      },
      "source": [
        "data.loc[48:50,:]"
      ],
      "execution_count": null,
      "outputs": [
        {
          "output_type": "execute_result",
          "data": {
            "text/html": [
              "<div>\n",
              "<style scoped>\n",
              "    .dataframe tbody tr th:only-of-type {\n",
              "        vertical-align: middle;\n",
              "    }\n",
              "\n",
              "    .dataframe tbody tr th {\n",
              "        vertical-align: top;\n",
              "    }\n",
              "\n",
              "    .dataframe thead th {\n",
              "        text-align: right;\n",
              "    }\n",
              "</style>\n",
              "<table border=\"1\" class=\"dataframe\">\n",
              "  <thead>\n",
              "    <tr style=\"text-align: right;\">\n",
              "      <th></th>\n",
              "      <th>title</th>\n",
              "      <th>views</th>\n",
              "      <th>year</th>\n",
              "      <th>length</th>\n",
              "      <th>likes</th>\n",
              "      <th>dislikes</th>\n",
              "    </tr>\n",
              "  </thead>\n",
              "  <tbody>\n",
              "    <tr>\n",
              "      <th>48</th>\n",
              "      <td>G vs EL TANQUE</td>\n",
              "      <td>253069</td>\n",
              "      <td>2017</td>\n",
              "      <td>00:05:08</td>\n",
              "      <td>3640</td>\n",
              "      <td>424</td>\n",
              "    </tr>\n",
              "    <tr>\n",
              "      <th>49</th>\n",
              "      <td>ARKANO vs YENKY ONE</td>\n",
              "      <td>2093488</td>\n",
              "      <td>2017</td>\n",
              "      <td>00:04:47</td>\n",
              "      <td>30378</td>\n",
              "      <td>1347</td>\n",
              "    </tr>\n",
              "    <tr>\n",
              "      <th>50</th>\n",
              "      <td>WOS vs ACZINO</td>\n",
              "      <td>23008624</td>\n",
              "      <td>2017</td>\n",
              "      <td>00:07:51</td>\n",
              "      <td>261785</td>\n",
              "      <td>13990</td>\n",
              "    </tr>\n",
              "  </tbody>\n",
              "</table>\n",
              "</div>"
            ],
            "text/plain": [
              "                  title     views  year    length   likes  dislikes\n",
              "48       G vs EL TANQUE    253069  2017  00:05:08    3640       424\n",
              "49  ARKANO vs YENKY ONE   2093488  2017  00:04:47   30378      1347\n",
              "50        WOS vs ACZINO  23008624  2017  00:07:51  261785     13990"
            ]
          },
          "metadata": {
            "tags": []
          },
          "execution_count": 30
        }
      ]
    },
    {
      "cell_type": "markdown",
      "metadata": {
        "id": "LhzXXc8ztlJW"
      },
      "source": [
        "## Exporting the Clean Dataset 💾\r\n",
        "\r\n"
      ]
    },
    {
      "cell_type": "markdown",
      "metadata": {
        "id": "XezJL7tUolYN"
      },
      "source": [
        "Now that we're assure the dataset is clean and contain only the right values. Let's export it to move on to Exporing and Analizing the dataset."
      ]
    },
    {
      "cell_type": "code",
      "metadata": {
        "id": "5BhLWoQi7cNl"
      },
      "source": [
        "data.to_csv('clean_data.csv')"
      ],
      "execution_count": null,
      "outputs": []
    },
    {
      "cell_type": "markdown",
      "metadata": {
        "id": "_XwuUf0T7yLl"
      },
      "source": [
        "Or if you prefer, you can download it to your Computer."
      ]
    },
    {
      "cell_type": "code",
      "metadata": {
        "colab": {
          "base_uri": "https://localhost:8080/",
          "height": 17
        },
        "id": "GgoUTgex6M5M",
        "outputId": "82fcd8e5-c77e-4a5a-b529-eba5f1c9a7e2"
      },
      "source": [
        "data.to_csv('clean_data.csv')\r\n",
        "\r\n",
        "from google.colab import files\r\n",
        "files.download('clean_data.csv')"
      ],
      "execution_count": null,
      "outputs": [
        {
          "output_type": "display_data",
          "data": {
            "application/javascript": [
              "\n",
              "    async function download(id, filename, size) {\n",
              "      if (!google.colab.kernel.accessAllowed) {\n",
              "        return;\n",
              "      }\n",
              "      const div = document.createElement('div');\n",
              "      const label = document.createElement('label');\n",
              "      label.textContent = `Downloading \"${filename}\": `;\n",
              "      div.appendChild(label);\n",
              "      const progress = document.createElement('progress');\n",
              "      progress.max = size;\n",
              "      div.appendChild(progress);\n",
              "      document.body.appendChild(div);\n",
              "\n",
              "      const buffers = [];\n",
              "      let downloaded = 0;\n",
              "\n",
              "      const channel = await google.colab.kernel.comms.open(id);\n",
              "      // Send a message to notify the kernel that we're ready.\n",
              "      channel.send({})\n",
              "\n",
              "      for await (const message of channel.messages) {\n",
              "        // Send a message to notify the kernel that we're ready.\n",
              "        channel.send({})\n",
              "        if (message.buffers) {\n",
              "          for (const buffer of message.buffers) {\n",
              "            buffers.push(buffer);\n",
              "            downloaded += buffer.byteLength;\n",
              "            progress.value = downloaded;\n",
              "          }\n",
              "        }\n",
              "      }\n",
              "      const blob = new Blob(buffers, {type: 'application/binary'});\n",
              "      const a = document.createElement('a');\n",
              "      a.href = window.URL.createObjectURL(blob);\n",
              "      a.download = filename;\n",
              "      div.appendChild(a);\n",
              "      a.click();\n",
              "      div.remove();\n",
              "    }\n",
              "  "
            ],
            "text/plain": [
              "<IPython.core.display.Javascript object>"
            ]
          },
          "metadata": {
            "tags": []
          }
        },
        {
          "output_type": "display_data",
          "data": {
            "application/javascript": [
              "download(\"download_5804b7e0-9e88-4b94-b777-0cae1a3a0f9a\", \"clean_data.csv\", 5178)"
            ],
            "text/plain": [
              "<IPython.core.display.Javascript object>"
            ]
          },
          "metadata": {
            "tags": []
          }
        }
      ]
    }
  ]
}