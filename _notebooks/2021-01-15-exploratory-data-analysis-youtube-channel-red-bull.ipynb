{
  "nbformat": 4,
  "nbformat_minor": 0,
  "metadata": {
    "colab": {
      "name": "2021-01-15-exploratory-data-analysis-youtube-channel-red-bull.ipynb",
      "provenance": [],
      "collapsed_sections": [],
      "authorship_tag": "ABX9TyNWfIe21lCIOdEY1NGsNw4g"
    },
    "kernelspec": {
      "name": "python3",
      "display_name": "Python 3"
    }
  },
  "cells": [
    {
      "cell_type": "markdown",
      "metadata": {
        "id": "F0TGyleO_2ms"
      },
      "source": [
        "# Analizing Videos' Details of Red Bull Batalla de Gallos' Youtube Channel\n",
        "\n",
        "> This is a EDA applied to data from a Youtube Channel.\n",
        "\n",
        "- toc: true \n",
        "- badges: true\n",
        "- comments: true\n",
        "- categories: [EDA,Python,Pandas,Data Analysis]\n",
        "- image: images/chart-preview.png"
      ]
    },
    {
      "cell_type": "markdown",
      "source": [
        "## TL;DR 🤓"
      ],
      "metadata": {
        "id": "7lTKIhY2bDNW"
      }
    },
    {
      "cell_type": "markdown",
      "metadata": {
        "id": "Z2HL_ePMbKeI"
      },
      "source": [
        "This project's aim is to perform some common EDA tasks on the created dataset containing information of all International Matches of Freestyle organized by Red Bull from 2015 to 2020 (filtered by `internacional` and ` vs ` keywords). **Red Bull Batalla de los Gallos** is the Most Recognized **Freestyle Competition in Spanish** that brings together the **16 winning Freestylers** from the competitions organized by Red Bull in each country. After all matches only one of them is crowned as international champion [Click here to learn more](https://rap.fandom.com/es/wiki/Red_Bull_Batalla_de_los_Gallos)"
      ]
    },
    {
      "cell_type": "markdown",
      "metadata": {
        "id": "ZHAG4NCMu6M3"
      },
      "source": [
        "## Importing Libraries ✔️"
      ]
    },
    {
      "cell_type": "code",
      "metadata": {
        "id": "wpyEMZ0wmK0k",
        "colab": {
          "base_uri": "https://localhost:8080/",
          "height": 35
        },
        "outputId": "f18ff545-6b02-441b-f85a-4f62a3980358"
      },
      "source": [
        "# Importing libraries\n",
        "import numpy as np\n",
        "import pandas as pd\n",
        "import re\n",
        "import matplotlib.pyplot as plt\n",
        "import seaborn as sns\n",
        "sns.set_theme(style=\"ticks\", color_codes=True)\n",
        "\n",
        "from datetime import datetime\n",
        "\n",
        "# check Pandas' version\n",
        "pd.__version__"
      ],
      "execution_count": 1,
      "outputs": [
        {
          "output_type": "execute_result",
          "data": {
            "text/plain": [
              "'1.3.5'"
            ],
            "application/vnd.google.colaboratory.intrinsic+json": {
              "type": "string"
            }
          },
          "metadata": {},
          "execution_count": 1
        }
      ]
    },
    {
      "cell_type": "markdown",
      "source": [
        "## Customized Settings 🎨"
      ],
      "metadata": {
        "id": "VexYe2MzPfO-"
      }
    },
    {
      "cell_type": "code",
      "source": [
        "g=[]\n",
        "\n",
        "def customPlotSettings(graph=g, figW=6.4, figH=5, XorY=plt.yticks([])):\n",
        "    g.fig.set_figwidth(figW)\n",
        "    g.fig.set_figheight(figH)\n",
        "\n",
        "    ax=g.facet_axis(0,0)\n",
        "\n",
        "    for p in ax.patches:\n",
        "        height = p.get_height() # height of each horizontal bar is the same\n",
        "        width = p.get_width()\n",
        "        ax.text(p.get_x() + (width / 2),\n",
        "                height * 1.03, # # y-coordinate position of data label, padded to be in the middle of the bar,\n",
        "                height, # f'{(height / 1000 ):.0f}K',\n",
        "                ha='center'\n",
        "                )\n",
        "        \n",
        "    # Remove frame (or all the spines at the same time)\n",
        "    ax.set_frame_on(False)\n",
        "\n",
        "    custom_params = {\n",
        "                     'axes.titlesize':16,\n",
        "                     'ytick.left': False,\n",
        "                     'axes.titlepad': 20 \n",
        "                    }\n",
        "\n",
        "    sns.set_theme(style='white', palette='Set2', font_scale=1.1 , rc=custom_params)\n",
        "    XorY"
      ],
      "metadata": {
        "id": "UHpYd3MnPh6A"
      },
      "execution_count": null,
      "outputs": []
    },
    {
      "cell_type": "code",
      "source": [
        "def customHistSettings(figW=6.4):\n",
        "    fig, ax = plt.subplots()\n",
        "    custom_params = {\n",
        "                     'figure.figsize':(figW,5),\n",
        "                     'axes.titlesize':16,\n",
        "                     'ytick.left': False\n",
        "                    }\n",
        "    sns.set_theme(style='white', palette='Set2', rc=custom_params)\n",
        "\n",
        "    ax.grid(axis ='x', color ='0.95') \n",
        "    ax.set_frame_on(False)\n",
        "    plt.yticks([])"
      ],
      "metadata": {
        "id": "mZ3-f1f8Pipo"
      },
      "execution_count": 3,
      "outputs": []
    },
    {
      "cell_type": "markdown",
      "metadata": {
        "id": "EN7NXA_EAa9g"
      },
      "source": [
        "## Importing dataset 🗃️"
      ]
    },
    {
      "cell_type": "code",
      "metadata": {
        "colab": {
          "base_uri": "https://localhost:8080/",
          "height": 175
        },
        "id": "nPyna1urACc5",
        "outputId": "64260590-6b08-4b28-8aaa-2bbaae6cecb5"
      },
      "source": [
        "data_url = 'https://raw.githubusercontent.com/mrenrique/EDA-to-Youtube-Channel-Videos/main/clean_data.csv'\n",
        "data = pd.read_csv(data_url, index_col='id')\n",
        "\n",
        "# show first three rows\n",
        "data.sample(3)"
      ],
      "execution_count": 4,
      "outputs": [
        {
          "output_type": "execute_result",
          "data": {
            "text/plain": [
              "                                                title     views  year  \\\n",
              "id                                                                      \n",
              "66                               VALLEST vs CIUDADANO   1101081  2016   \n",
              "19  VALLES-T vs CHANG - Octavos | Red Bull Interna...  11477492  2019   \n",
              "59                                  ACZINO vs. CHOQUE   3219531  2017   \n",
              "\n",
              "      length   likes  dislikes  \n",
              "id                              \n",
              "66  00:04:49   11418       311  \n",
              "19  00:06:43  161561      2969  \n",
              "59  00:04:26   30950      4455  "
            ],
            "text/html": [
              "\n",
              "  <div id=\"df-49925fa8-7a5f-4dc9-b915-6dfa664e3141\">\n",
              "    <div class=\"colab-df-container\">\n",
              "      <div>\n",
              "<style scoped>\n",
              "    .dataframe tbody tr th:only-of-type {\n",
              "        vertical-align: middle;\n",
              "    }\n",
              "\n",
              "    .dataframe tbody tr th {\n",
              "        vertical-align: top;\n",
              "    }\n",
              "\n",
              "    .dataframe thead th {\n",
              "        text-align: right;\n",
              "    }\n",
              "</style>\n",
              "<table border=\"1\" class=\"dataframe\">\n",
              "  <thead>\n",
              "    <tr style=\"text-align: right;\">\n",
              "      <th></th>\n",
              "      <th>title</th>\n",
              "      <th>views</th>\n",
              "      <th>year</th>\n",
              "      <th>length</th>\n",
              "      <th>likes</th>\n",
              "      <th>dislikes</th>\n",
              "    </tr>\n",
              "    <tr>\n",
              "      <th>id</th>\n",
              "      <th></th>\n",
              "      <th></th>\n",
              "      <th></th>\n",
              "      <th></th>\n",
              "      <th></th>\n",
              "      <th></th>\n",
              "    </tr>\n",
              "  </thead>\n",
              "  <tbody>\n",
              "    <tr>\n",
              "      <th>66</th>\n",
              "      <td>VALLEST vs CIUDADANO</td>\n",
              "      <td>1101081</td>\n",
              "      <td>2016</td>\n",
              "      <td>00:04:49</td>\n",
              "      <td>11418</td>\n",
              "      <td>311</td>\n",
              "    </tr>\n",
              "    <tr>\n",
              "      <th>19</th>\n",
              "      <td>VALLES-T vs CHANG - Octavos | Red Bull Interna...</td>\n",
              "      <td>11477492</td>\n",
              "      <td>2019</td>\n",
              "      <td>00:06:43</td>\n",
              "      <td>161561</td>\n",
              "      <td>2969</td>\n",
              "    </tr>\n",
              "    <tr>\n",
              "      <th>59</th>\n",
              "      <td>ACZINO vs. CHOQUE</td>\n",
              "      <td>3219531</td>\n",
              "      <td>2017</td>\n",
              "      <td>00:04:26</td>\n",
              "      <td>30950</td>\n",
              "      <td>4455</td>\n",
              "    </tr>\n",
              "  </tbody>\n",
              "</table>\n",
              "</div>\n",
              "      <button class=\"colab-df-convert\" onclick=\"convertToInteractive('df-49925fa8-7a5f-4dc9-b915-6dfa664e3141')\"\n",
              "              title=\"Convert this dataframe to an interactive table.\"\n",
              "              style=\"display:none;\">\n",
              "        \n",
              "  <svg xmlns=\"http://www.w3.org/2000/svg\" height=\"24px\"viewBox=\"0 0 24 24\"\n",
              "       width=\"24px\">\n",
              "    <path d=\"M0 0h24v24H0V0z\" fill=\"none\"/>\n",
              "    <path d=\"M18.56 5.44l.94 2.06.94-2.06 2.06-.94-2.06-.94-.94-2.06-.94 2.06-2.06.94zm-11 1L8.5 8.5l.94-2.06 2.06-.94-2.06-.94L8.5 2.5l-.94 2.06-2.06.94zm10 10l.94 2.06.94-2.06 2.06-.94-2.06-.94-.94-2.06-.94 2.06-2.06.94z\"/><path d=\"M17.41 7.96l-1.37-1.37c-.4-.4-.92-.59-1.43-.59-.52 0-1.04.2-1.43.59L10.3 9.45l-7.72 7.72c-.78.78-.78 2.05 0 2.83L4 21.41c.39.39.9.59 1.41.59.51 0 1.02-.2 1.41-.59l7.78-7.78 2.81-2.81c.8-.78.8-2.07 0-2.86zM5.41 20L4 18.59l7.72-7.72 1.47 1.35L5.41 20z\"/>\n",
              "  </svg>\n",
              "      </button>\n",
              "      \n",
              "  <style>\n",
              "    .colab-df-container {\n",
              "      display:flex;\n",
              "      flex-wrap:wrap;\n",
              "      gap: 12px;\n",
              "    }\n",
              "\n",
              "    .colab-df-convert {\n",
              "      background-color: #E8F0FE;\n",
              "      border: none;\n",
              "      border-radius: 50%;\n",
              "      cursor: pointer;\n",
              "      display: none;\n",
              "      fill: #1967D2;\n",
              "      height: 32px;\n",
              "      padding: 0 0 0 0;\n",
              "      width: 32px;\n",
              "    }\n",
              "\n",
              "    .colab-df-convert:hover {\n",
              "      background-color: #E2EBFA;\n",
              "      box-shadow: 0px 1px 2px rgba(60, 64, 67, 0.3), 0px 1px 3px 1px rgba(60, 64, 67, 0.15);\n",
              "      fill: #174EA6;\n",
              "    }\n",
              "\n",
              "    [theme=dark] .colab-df-convert {\n",
              "      background-color: #3B4455;\n",
              "      fill: #D2E3FC;\n",
              "    }\n",
              "\n",
              "    [theme=dark] .colab-df-convert:hover {\n",
              "      background-color: #434B5C;\n",
              "      box-shadow: 0px 1px 3px 1px rgba(0, 0, 0, 0.15);\n",
              "      filter: drop-shadow(0px 1px 2px rgba(0, 0, 0, 0.3));\n",
              "      fill: #FFFFFF;\n",
              "    }\n",
              "  </style>\n",
              "\n",
              "      <script>\n",
              "        const buttonEl =\n",
              "          document.querySelector('#df-49925fa8-7a5f-4dc9-b915-6dfa664e3141 button.colab-df-convert');\n",
              "        buttonEl.style.display =\n",
              "          google.colab.kernel.accessAllowed ? 'block' : 'none';\n",
              "\n",
              "        async function convertToInteractive(key) {\n",
              "          const element = document.querySelector('#df-49925fa8-7a5f-4dc9-b915-6dfa664e3141');\n",
              "          const dataTable =\n",
              "            await google.colab.kernel.invokeFunction('convertToInteractive',\n",
              "                                                     [key], {});\n",
              "          if (!dataTable) return;\n",
              "\n",
              "          const docLinkHtml = 'Like what you see? Visit the ' +\n",
              "            '<a target=\"_blank\" href=https://colab.research.google.com/notebooks/data_table.ipynb>data table notebook</a>'\n",
              "            + ' to learn more about interactive tables.';\n",
              "          element.innerHTML = '';\n",
              "          dataTable['output_type'] = 'display_data';\n",
              "          await google.colab.output.renderOutput(dataTable, element);\n",
              "          const docLink = document.createElement('div');\n",
              "          docLink.innerHTML = docLinkHtml;\n",
              "          element.appendChild(docLink);\n",
              "        }\n",
              "      </script>\n",
              "    </div>\n",
              "  </div>\n",
              "  "
            ]
          },
          "metadata": {},
          "execution_count": 4
        }
      ]
    },
    {
      "cell_type": "markdown",
      "metadata": {
        "id": "civD_8Hx4K4-"
      },
      "source": [
        "## Exploratory Data Analysis 💡"
      ]
    },
    {
      "cell_type": "markdown",
      "metadata": {
        "id": "WRbtOjFu4L4M"
      },
      "source": [
        "Let's take a look at the datafame's properties for a better understanding to know what needs to be done. To do so, we can use the `info()` method which gives us the number of columns, **columns names** and their **data types** all together."
      ]
    },
    {
      "cell_type": "code",
      "metadata": {
        "colab": {
          "base_uri": "https://localhost:8080/"
        },
        "id": "sImRm6anI3Va",
        "outputId": "651bcc90-6e33-4af0-fd47-38887b05372c"
      },
      "source": [
        "data.info()"
      ],
      "execution_count": 5,
      "outputs": [
        {
          "output_type": "stream",
          "name": "stdout",
          "text": [
            "<class 'pandas.core.frame.DataFrame'>\n",
            "Int64Index: 92 entries, 0 to 91\n",
            "Data columns (total 6 columns):\n",
            " #   Column    Non-Null Count  Dtype \n",
            "---  ------    --------------  ----- \n",
            " 0   title     92 non-null     object\n",
            " 1   views     92 non-null     int64 \n",
            " 2   year      92 non-null     int64 \n",
            " 3   length    92 non-null     object\n",
            " 4   likes     92 non-null     int64 \n",
            " 5   dislikes  92 non-null     int64 \n",
            "dtypes: int64(4), object(2)\n",
            "memory usage: 5.0+ KB\n"
          ]
        }
      ]
    },
    {
      "cell_type": "code",
      "metadata": {
        "colab": {
          "base_uri": "https://localhost:8080/"
        },
        "id": "sp7Mglp2I94k",
        "outputId": "0d0d9420-e29e-4476-f445-858a30ab32bc"
      },
      "source": [
        "data.shape\n",
        "\n",
        "print(\"The Dataset has\", data.shape[0],\"rows with\", data.shape[1],\"features\")"
      ],
      "execution_count": 6,
      "outputs": [
        {
          "output_type": "stream",
          "name": "stdout",
          "text": [
            "The Dataset has 92 rows with 6 features\n"
          ]
        }
      ]
    },
    {
      "cell_type": "code",
      "source": [
        "data.describe().T"
      ],
      "metadata": {
        "colab": {
          "base_uri": "https://localhost:8080/",
          "height": 175
        },
        "id": "jlaFfc07P4WX",
        "outputId": "569732b4-c909-4ad9-c205-40e01ad3d019"
      },
      "execution_count": 7,
      "outputs": [
        {
          "output_type": "execute_result",
          "data": {
            "text/plain": [
              "          count          mean           std      min        25%        50%  \\\n",
              "views      92.0  4.773642e+06  8.383880e+06  47082.0  661099.50  1715757.0   \n",
              "year       92.0  2.017609e+03  1.670405e+00   2015.0    2016.00     2018.0   \n",
              "likes      92.0  6.649529e+04  1.203502e+05   1510.0    9971.25    29532.5   \n",
              "dislikes   92.0  8.634130e+03  2.347569e+04     55.0     607.00     1645.0   \n",
              "\n",
              "                 75%         max  \n",
              "views     4372855.00  44005544.0  \n",
              "year         2019.00      2020.0  \n",
              "likes       59178.00    729024.0  \n",
              "dislikes     5667.75    194847.0  "
            ],
            "text/html": [
              "\n",
              "  <div id=\"df-91459bcd-f581-47fa-a418-650feece5358\">\n",
              "    <div class=\"colab-df-container\">\n",
              "      <div>\n",
              "<style scoped>\n",
              "    .dataframe tbody tr th:only-of-type {\n",
              "        vertical-align: middle;\n",
              "    }\n",
              "\n",
              "    .dataframe tbody tr th {\n",
              "        vertical-align: top;\n",
              "    }\n",
              "\n",
              "    .dataframe thead th {\n",
              "        text-align: right;\n",
              "    }\n",
              "</style>\n",
              "<table border=\"1\" class=\"dataframe\">\n",
              "  <thead>\n",
              "    <tr style=\"text-align: right;\">\n",
              "      <th></th>\n",
              "      <th>count</th>\n",
              "      <th>mean</th>\n",
              "      <th>std</th>\n",
              "      <th>min</th>\n",
              "      <th>25%</th>\n",
              "      <th>50%</th>\n",
              "      <th>75%</th>\n",
              "      <th>max</th>\n",
              "    </tr>\n",
              "  </thead>\n",
              "  <tbody>\n",
              "    <tr>\n",
              "      <th>views</th>\n",
              "      <td>92.0</td>\n",
              "      <td>4.773642e+06</td>\n",
              "      <td>8.383880e+06</td>\n",
              "      <td>47082.0</td>\n",
              "      <td>661099.50</td>\n",
              "      <td>1715757.0</td>\n",
              "      <td>4372855.00</td>\n",
              "      <td>44005544.0</td>\n",
              "    </tr>\n",
              "    <tr>\n",
              "      <th>year</th>\n",
              "      <td>92.0</td>\n",
              "      <td>2.017609e+03</td>\n",
              "      <td>1.670405e+00</td>\n",
              "      <td>2015.0</td>\n",
              "      <td>2016.00</td>\n",
              "      <td>2018.0</td>\n",
              "      <td>2019.00</td>\n",
              "      <td>2020.0</td>\n",
              "    </tr>\n",
              "    <tr>\n",
              "      <th>likes</th>\n",
              "      <td>92.0</td>\n",
              "      <td>6.649529e+04</td>\n",
              "      <td>1.203502e+05</td>\n",
              "      <td>1510.0</td>\n",
              "      <td>9971.25</td>\n",
              "      <td>29532.5</td>\n",
              "      <td>59178.00</td>\n",
              "      <td>729024.0</td>\n",
              "    </tr>\n",
              "    <tr>\n",
              "      <th>dislikes</th>\n",
              "      <td>92.0</td>\n",
              "      <td>8.634130e+03</td>\n",
              "      <td>2.347569e+04</td>\n",
              "      <td>55.0</td>\n",
              "      <td>607.00</td>\n",
              "      <td>1645.0</td>\n",
              "      <td>5667.75</td>\n",
              "      <td>194847.0</td>\n",
              "    </tr>\n",
              "  </tbody>\n",
              "</table>\n",
              "</div>\n",
              "      <button class=\"colab-df-convert\" onclick=\"convertToInteractive('df-91459bcd-f581-47fa-a418-650feece5358')\"\n",
              "              title=\"Convert this dataframe to an interactive table.\"\n",
              "              style=\"display:none;\">\n",
              "        \n",
              "  <svg xmlns=\"http://www.w3.org/2000/svg\" height=\"24px\"viewBox=\"0 0 24 24\"\n",
              "       width=\"24px\">\n",
              "    <path d=\"M0 0h24v24H0V0z\" fill=\"none\"/>\n",
              "    <path d=\"M18.56 5.44l.94 2.06.94-2.06 2.06-.94-2.06-.94-.94-2.06-.94 2.06-2.06.94zm-11 1L8.5 8.5l.94-2.06 2.06-.94-2.06-.94L8.5 2.5l-.94 2.06-2.06.94zm10 10l.94 2.06.94-2.06 2.06-.94-2.06-.94-.94-2.06-.94 2.06-2.06.94z\"/><path d=\"M17.41 7.96l-1.37-1.37c-.4-.4-.92-.59-1.43-.59-.52 0-1.04.2-1.43.59L10.3 9.45l-7.72 7.72c-.78.78-.78 2.05 0 2.83L4 21.41c.39.39.9.59 1.41.59.51 0 1.02-.2 1.41-.59l7.78-7.78 2.81-2.81c.8-.78.8-2.07 0-2.86zM5.41 20L4 18.59l7.72-7.72 1.47 1.35L5.41 20z\"/>\n",
              "  </svg>\n",
              "      </button>\n",
              "      \n",
              "  <style>\n",
              "    .colab-df-container {\n",
              "      display:flex;\n",
              "      flex-wrap:wrap;\n",
              "      gap: 12px;\n",
              "    }\n",
              "\n",
              "    .colab-df-convert {\n",
              "      background-color: #E8F0FE;\n",
              "      border: none;\n",
              "      border-radius: 50%;\n",
              "      cursor: pointer;\n",
              "      display: none;\n",
              "      fill: #1967D2;\n",
              "      height: 32px;\n",
              "      padding: 0 0 0 0;\n",
              "      width: 32px;\n",
              "    }\n",
              "\n",
              "    .colab-df-convert:hover {\n",
              "      background-color: #E2EBFA;\n",
              "      box-shadow: 0px 1px 2px rgba(60, 64, 67, 0.3), 0px 1px 3px 1px rgba(60, 64, 67, 0.15);\n",
              "      fill: #174EA6;\n",
              "    }\n",
              "\n",
              "    [theme=dark] .colab-df-convert {\n",
              "      background-color: #3B4455;\n",
              "      fill: #D2E3FC;\n",
              "    }\n",
              "\n",
              "    [theme=dark] .colab-df-convert:hover {\n",
              "      background-color: #434B5C;\n",
              "      box-shadow: 0px 1px 3px 1px rgba(0, 0, 0, 0.15);\n",
              "      filter: drop-shadow(0px 1px 2px rgba(0, 0, 0, 0.3));\n",
              "      fill: #FFFFFF;\n",
              "    }\n",
              "  </style>\n",
              "\n",
              "      <script>\n",
              "        const buttonEl =\n",
              "          document.querySelector('#df-91459bcd-f581-47fa-a418-650feece5358 button.colab-df-convert');\n",
              "        buttonEl.style.display =\n",
              "          google.colab.kernel.accessAllowed ? 'block' : 'none';\n",
              "\n",
              "        async function convertToInteractive(key) {\n",
              "          const element = document.querySelector('#df-91459bcd-f581-47fa-a418-650feece5358');\n",
              "          const dataTable =\n",
              "            await google.colab.kernel.invokeFunction('convertToInteractive',\n",
              "                                                     [key], {});\n",
              "          if (!dataTable) return;\n",
              "\n",
              "          const docLinkHtml = 'Like what you see? Visit the ' +\n",
              "            '<a target=\"_blank\" href=https://colab.research.google.com/notebooks/data_table.ipynb>data table notebook</a>'\n",
              "            + ' to learn more about interactive tables.';\n",
              "          element.innerHTML = '';\n",
              "          dataTable['output_type'] = 'display_data';\n",
              "          await google.colab.output.renderOutput(dataTable, element);\n",
              "          const docLink = document.createElement('div');\n",
              "          docLink.innerHTML = docLinkHtml;\n",
              "          element.appendChild(docLink);\n",
              "        }\n",
              "      </script>\n",
              "    </div>\n",
              "  </div>\n",
              "  "
            ]
          },
          "metadata": {},
          "execution_count": 7
        }
      ]
    },
    {
      "cell_type": "code",
      "metadata": {
        "id": "Hik8cI-4O1XI",
        "colab": {
          "base_uri": "https://localhost:8080/"
        },
        "outputId": "b68b4b25-d715-4998-d715-16017e61763c"
      },
      "source": [
        "data.nunique()"
      ],
      "execution_count": 8,
      "outputs": [
        {
          "output_type": "execute_result",
          "data": {
            "text/plain": [
              "title       88\n",
              "views       92\n",
              "year         6\n",
              "length      77\n",
              "likes       92\n",
              "dislikes    92\n",
              "dtype: int64"
            ]
          },
          "metadata": {},
          "execution_count": 8
        }
      ]
    },
    {
      "cell_type": "markdown",
      "source": [
        "## Data Pre-processing 🧼"
      ],
      "metadata": {
        "id": "dYkJ4pf4npkq"
      }
    },
    {
      "cell_type": "code",
      "source": [
        "data['length'] = pd.to_datetime(data['length'], format=\"%H:%M:%S\")\n",
        "data.info()"
      ],
      "metadata": {
        "colab": {
          "base_uri": "https://localhost:8080/"
        },
        "id": "aGLroq2rbXHr",
        "outputId": "4c16fc47-384d-4dbe-a6f2-0796f07ed427"
      },
      "execution_count": 9,
      "outputs": [
        {
          "output_type": "stream",
          "name": "stdout",
          "text": [
            "<class 'pandas.core.frame.DataFrame'>\n",
            "Int64Index: 92 entries, 0 to 91\n",
            "Data columns (total 6 columns):\n",
            " #   Column    Non-Null Count  Dtype         \n",
            "---  ------    --------------  -----         \n",
            " 0   title     92 non-null     object        \n",
            " 1   views     92 non-null     int64         \n",
            " 2   year      92 non-null     int64         \n",
            " 3   length    92 non-null     datetime64[ns]\n",
            " 4   likes     92 non-null     int64         \n",
            " 5   dislikes  92 non-null     int64         \n",
            "dtypes: datetime64[ns](1), int64(4), object(1)\n",
            "memory usage: 5.0+ KB\n"
          ]
        }
      ]
    },
    {
      "cell_type": "code",
      "source": [
        "# https://note.nkmk.me/en/python-str-replace-translate-re-sub/\n",
        "data['title'] = [i.replace('VALLEST', 'VALLES-T').replace('VALLES T', 'VALLES-T') for i in data['title']]\n",
        "# data['title'].head()\n",
        "data['title'][data['title'].str.contains('VALLES')]"
      ],
      "metadata": {
        "colab": {
          "base_uri": "https://localhost:8080/"
        },
        "id": "GO-jKIGAqMu8",
        "outputId": "86cdf91b-4a22-4609-ae11-094bf1341f55"
      },
      "execution_count": 10,
      "outputs": [
        {
          "output_type": "execute_result",
          "data": {
            "text/plain": [
              "id\n",
              "10    BNET vs VALLES-T - Octavos | Red Bull Internac...\n",
              "17    BNET vs VALLES-T - Final | Red Bull Internacio...\n",
              "19    VALLES-T vs CHANG - Octavos | Red Bull Interna...\n",
              "25    VALLES-T vs JOKKER - Cuartos | Red Bull Intern...\n",
              "30    VALLES-T vs ACZINO - Semifinal | Red Bull Inte...\n",
              "35                              VALLES-T vs PEPE GRILLO\n",
              "38                                     VALLES-T vs BNET\n",
              "40                                      VALLES-T vs KDT\n",
              "46                                      VALLES-T vs WOS\n",
              "66                                VALLES-T vs CIUDADANO\n",
              "72                                     JOTA vs VALLES-T\n",
              "Name: title, dtype: object"
            ]
          },
          "metadata": {},
          "execution_count": 10
        }
      ]
    },
    {
      "cell_type": "markdown",
      "metadata": {
        "id": "h7yoEKfEN2YR"
      },
      "source": [
        "## Feature Engineering 🏗️"
      ]
    },
    {
      "cell_type": "code",
      "metadata": {
        "colab": {
          "base_uri": "https://localhost:8080/",
          "height": 238
        },
        "id": "6uuzl-WaOAun",
        "outputId": "378a2a09-a9bb-4208-eec8-4e253e65dcb8"
      },
      "source": [
        "# https://stackoverflow.com/questions/40705480/python-pandas-remove-everything-after-a-delimiter-in-a-string\n",
        "data['Freestyler_A'] = [i.replace('.', '').lower().split(' vs ')[0].strip().title() for i in data['title']]\n",
        "data['Freestyler_B'] = [i.replace('.', '').split(' -')[0].lower().split(' vs ')[-1].strip().title() for i in data['title']]\n",
        "\n",
        "#Moving the columns position\n",
        "data.columns.tolist()\n",
        "\n",
        "data = data[['title', 'Freestyler_A', 'Freestyler_B', 'views', 'year', 'length', 'likes', 'dislikes']]\n",
        "\n",
        "data.sample(5)"
      ],
      "execution_count": 84,
      "outputs": [
        {
          "output_type": "execute_result",
          "data": {
            "text/plain": [
              "                    title  Freestyler_A Freestyler_B     views  year  \\\n",
              "id                                                                     \n",
              "23       JOKKER vs LITZEN        Jokker       Litzen   2546416  2019   \n",
              "53      SKONE vs. JOTA MC         Skone      Jota Mc   1980963  2017   \n",
              "68  JONY BELTRAN vs CHUTY  Jony Beltran        Chuty  13138438  2016   \n",
              "40        VALLES-T vs KDT      Valles-T          Kdt   1858540  2018   \n",
              "7         SKONE vs RAPDER         Skone       Rapder   1651540  2020   \n",
              "\n",
              "                length   likes  dislikes  \n",
              "id                                        \n",
              "23 1900-01-01 00:09:46   40625       900  \n",
              "53 1900-01-01 00:00:14   21721      9927  \n",
              "68 1900-01-01 00:07:09  182494     11726  \n",
              "40 1900-01-01 00:07:50   33888       877  \n",
              "7  1900-01-01 00:15:19   64965      3259  "
            ],
            "text/html": [
              "\n",
              "  <div id=\"df-a4edf769-e906-47d2-8ff2-173472c2ac34\">\n",
              "    <div class=\"colab-df-container\">\n",
              "      <div>\n",
              "<style scoped>\n",
              "    .dataframe tbody tr th:only-of-type {\n",
              "        vertical-align: middle;\n",
              "    }\n",
              "\n",
              "    .dataframe tbody tr th {\n",
              "        vertical-align: top;\n",
              "    }\n",
              "\n",
              "    .dataframe thead th {\n",
              "        text-align: right;\n",
              "    }\n",
              "</style>\n",
              "<table border=\"1\" class=\"dataframe\">\n",
              "  <thead>\n",
              "    <tr style=\"text-align: right;\">\n",
              "      <th></th>\n",
              "      <th>title</th>\n",
              "      <th>Freestyler_A</th>\n",
              "      <th>Freestyler_B</th>\n",
              "      <th>views</th>\n",
              "      <th>year</th>\n",
              "      <th>length</th>\n",
              "      <th>likes</th>\n",
              "      <th>dislikes</th>\n",
              "    </tr>\n",
              "    <tr>\n",
              "      <th>id</th>\n",
              "      <th></th>\n",
              "      <th></th>\n",
              "      <th></th>\n",
              "      <th></th>\n",
              "      <th></th>\n",
              "      <th></th>\n",
              "      <th></th>\n",
              "      <th></th>\n",
              "    </tr>\n",
              "  </thead>\n",
              "  <tbody>\n",
              "    <tr>\n",
              "      <th>23</th>\n",
              "      <td>JOKKER vs LITZEN</td>\n",
              "      <td>Jokker</td>\n",
              "      <td>Litzen</td>\n",
              "      <td>2546416</td>\n",
              "      <td>2019</td>\n",
              "      <td>1900-01-01 00:09:46</td>\n",
              "      <td>40625</td>\n",
              "      <td>900</td>\n",
              "    </tr>\n",
              "    <tr>\n",
              "      <th>53</th>\n",
              "      <td>SKONE vs. JOTA MC</td>\n",
              "      <td>Skone</td>\n",
              "      <td>Jota Mc</td>\n",
              "      <td>1980963</td>\n",
              "      <td>2017</td>\n",
              "      <td>1900-01-01 00:00:14</td>\n",
              "      <td>21721</td>\n",
              "      <td>9927</td>\n",
              "    </tr>\n",
              "    <tr>\n",
              "      <th>68</th>\n",
              "      <td>JONY BELTRAN vs CHUTY</td>\n",
              "      <td>Jony Beltran</td>\n",
              "      <td>Chuty</td>\n",
              "      <td>13138438</td>\n",
              "      <td>2016</td>\n",
              "      <td>1900-01-01 00:07:09</td>\n",
              "      <td>182494</td>\n",
              "      <td>11726</td>\n",
              "    </tr>\n",
              "    <tr>\n",
              "      <th>40</th>\n",
              "      <td>VALLES-T vs KDT</td>\n",
              "      <td>Valles-T</td>\n",
              "      <td>Kdt</td>\n",
              "      <td>1858540</td>\n",
              "      <td>2018</td>\n",
              "      <td>1900-01-01 00:07:50</td>\n",
              "      <td>33888</td>\n",
              "      <td>877</td>\n",
              "    </tr>\n",
              "    <tr>\n",
              "      <th>7</th>\n",
              "      <td>SKONE vs RAPDER</td>\n",
              "      <td>Skone</td>\n",
              "      <td>Rapder</td>\n",
              "      <td>1651540</td>\n",
              "      <td>2020</td>\n",
              "      <td>1900-01-01 00:15:19</td>\n",
              "      <td>64965</td>\n",
              "      <td>3259</td>\n",
              "    </tr>\n",
              "  </tbody>\n",
              "</table>\n",
              "</div>\n",
              "      <button class=\"colab-df-convert\" onclick=\"convertToInteractive('df-a4edf769-e906-47d2-8ff2-173472c2ac34')\"\n",
              "              title=\"Convert this dataframe to an interactive table.\"\n",
              "              style=\"display:none;\">\n",
              "        \n",
              "  <svg xmlns=\"http://www.w3.org/2000/svg\" height=\"24px\"viewBox=\"0 0 24 24\"\n",
              "       width=\"24px\">\n",
              "    <path d=\"M0 0h24v24H0V0z\" fill=\"none\"/>\n",
              "    <path d=\"M18.56 5.44l.94 2.06.94-2.06 2.06-.94-2.06-.94-.94-2.06-.94 2.06-2.06.94zm-11 1L8.5 8.5l.94-2.06 2.06-.94-2.06-.94L8.5 2.5l-.94 2.06-2.06.94zm10 10l.94 2.06.94-2.06 2.06-.94-2.06-.94-.94-2.06-.94 2.06-2.06.94z\"/><path d=\"M17.41 7.96l-1.37-1.37c-.4-.4-.92-.59-1.43-.59-.52 0-1.04.2-1.43.59L10.3 9.45l-7.72 7.72c-.78.78-.78 2.05 0 2.83L4 21.41c.39.39.9.59 1.41.59.51 0 1.02-.2 1.41-.59l7.78-7.78 2.81-2.81c.8-.78.8-2.07 0-2.86zM5.41 20L4 18.59l7.72-7.72 1.47 1.35L5.41 20z\"/>\n",
              "  </svg>\n",
              "      </button>\n",
              "      \n",
              "  <style>\n",
              "    .colab-df-container {\n",
              "      display:flex;\n",
              "      flex-wrap:wrap;\n",
              "      gap: 12px;\n",
              "    }\n",
              "\n",
              "    .colab-df-convert {\n",
              "      background-color: #E8F0FE;\n",
              "      border: none;\n",
              "      border-radius: 50%;\n",
              "      cursor: pointer;\n",
              "      display: none;\n",
              "      fill: #1967D2;\n",
              "      height: 32px;\n",
              "      padding: 0 0 0 0;\n",
              "      width: 32px;\n",
              "    }\n",
              "\n",
              "    .colab-df-convert:hover {\n",
              "      background-color: #E2EBFA;\n",
              "      box-shadow: 0px 1px 2px rgba(60, 64, 67, 0.3), 0px 1px 3px 1px rgba(60, 64, 67, 0.15);\n",
              "      fill: #174EA6;\n",
              "    }\n",
              "\n",
              "    [theme=dark] .colab-df-convert {\n",
              "      background-color: #3B4455;\n",
              "      fill: #D2E3FC;\n",
              "    }\n",
              "\n",
              "    [theme=dark] .colab-df-convert:hover {\n",
              "      background-color: #434B5C;\n",
              "      box-shadow: 0px 1px 3px 1px rgba(0, 0, 0, 0.15);\n",
              "      filter: drop-shadow(0px 1px 2px rgba(0, 0, 0, 0.3));\n",
              "      fill: #FFFFFF;\n",
              "    }\n",
              "  </style>\n",
              "\n",
              "      <script>\n",
              "        const buttonEl =\n",
              "          document.querySelector('#df-a4edf769-e906-47d2-8ff2-173472c2ac34 button.colab-df-convert');\n",
              "        buttonEl.style.display =\n",
              "          google.colab.kernel.accessAllowed ? 'block' : 'none';\n",
              "\n",
              "        async function convertToInteractive(key) {\n",
              "          const element = document.querySelector('#df-a4edf769-e906-47d2-8ff2-173472c2ac34');\n",
              "          const dataTable =\n",
              "            await google.colab.kernel.invokeFunction('convertToInteractive',\n",
              "                                                     [key], {});\n",
              "          if (!dataTable) return;\n",
              "\n",
              "          const docLinkHtml = 'Like what you see? Visit the ' +\n",
              "            '<a target=\"_blank\" href=https://colab.research.google.com/notebooks/data_table.ipynb>data table notebook</a>'\n",
              "            + ' to learn more about interactive tables.';\n",
              "          element.innerHTML = '';\n",
              "          dataTable['output_type'] = 'display_data';\n",
              "          await google.colab.output.renderOutput(dataTable, element);\n",
              "          const docLink = document.createElement('div');\n",
              "          docLink.innerHTML = docLinkHtml;\n",
              "          element.appendChild(docLink);\n",
              "        }\n",
              "      </script>\n",
              "    </div>\n",
              "  </div>\n",
              "  "
            ]
          },
          "metadata": {},
          "execution_count": 84
        }
      ]
    },
    {
      "cell_type": "markdown",
      "source": [
        "## Let's Analyze each Feature\n",
        "Univariate Analysis"
      ],
      "metadata": {
        "id": "xkyRiTg0RvQ6"
      }
    },
    {
      "cell_type": "code",
      "metadata": {
        "id": "D9hrDvl7nsb9",
        "colab": {
          "base_uri": "https://localhost:8080/",
          "height": 391
        },
        "outputId": "ff1ceaa0-0536-4081-b28f-20e60a6086cd"
      },
      "source": [
        "customHistSettings(figW=9)\n",
        "\n",
        "g=sns.histplot(data.views, bins=25, kde=True, stat='density', linewidth=0, color='blue')\n",
        "plt.xlabel('Views')\n",
        "plt.title('Distribution of Views')\n",
        "\n",
        "xlabels = ['{:,.0f}'.format(x) + 'M' for x in g.get_xticks()/(1000000)]\n",
        "g.set_xticklabels(xlabels)\n",
        "\n",
        "#Plooting the median\n",
        "mean = data.views.median()\n",
        "mean\n",
        "plt.axvline(mean, 0, 1, color='green')"
      ],
      "execution_count": null,
      "outputs": [
        {
          "output_type": "execute_result",
          "data": {
            "text/plain": [
              "<matplotlib.lines.Line2D at 0x7f6d03496890>"
            ]
          },
          "metadata": {},
          "execution_count": 42
        },
        {
          "output_type": "display_data",
          "data": {
            "text/plain": [
              "<Figure size 648x360 with 1 Axes>"
            ],
            "image/png": "[encoded data removed]"
          },
          "metadata": {}
        }
      ]
    },
    {
      "cell_type": "code",
      "source": [
        "customHistSettings(figW=9)\n",
        "\n",
        "g=sns.histplot(data.likes, bins=25, kde=True, stat='density', linewidth=0, color='blue')\n",
        "plt.xlabel('Likes')\n",
        "plt.title('Distribution of Likes')\n",
        "\n",
        "xlabels = ['{:,.0f}'.format(x) + 'K' for x in g.get_xticks()/1000]\n",
        "g.set_xticklabels(xlabels)\n",
        "\n",
        "#Plooting the median\n",
        "mean = data.likes.median()\n",
        "mean\n",
        "plt.axvline(mean, 0, 1, color='green')"
      ],
      "metadata": {
        "colab": {
          "base_uri": "https://localhost:8080/",
          "height": 388
        },
        "id": "oqXRdQlUWvyV",
        "outputId": "21023269-d37a-461f-d830-e96997b54d5d"
      },
      "execution_count": null,
      "outputs": [
        {
          "output_type": "execute_result",
          "data": {
            "text/plain": [
              "<matplotlib.lines.Line2D at 0x7f6d033f3950>"
            ]
          },
          "metadata": {},
          "execution_count": 43
        },
        {
          "output_type": "display_data",
          "data": {
            "text/plain": [
              "<Figure size 648x360 with 1 Axes>"
            ],
            "image/png": "[encoded data removed]"
          },
          "metadata": {}
        }
      ]
    },
    {
      "cell_type": "code",
      "source": [
        "customHistSettings(figW=9)\n",
        "\n",
        "g=sns.histplot(data.dislikes, bins=25, kde=True, stat='density', linewidth=0, color='blue')\n",
        "plt.xlabel('Dislikes')\n",
        "plt.title('Distribution of Dislikes')\n",
        "\n",
        "xlabels = ['{:,.0f}'.format(x) + 'K' for x in g.get_xticks()/1000]\n",
        "g.set_xticklabels(xlabels)\n",
        "\n",
        "#Plooting the median\n",
        "mean = data.dislikes.median()\n",
        "mean\n",
        "plt.axvline(mean, 0, 1, color='green')"
      ],
      "metadata": {
        "colab": {
          "base_uri": "https://localhost:8080/",
          "height": 388
        },
        "id": "MDLidtAWWCFz",
        "outputId": "ea1c637e-f3b2-4640-e82b-1e4294cd2c28"
      },
      "execution_count": null,
      "outputs": [
        {
          "output_type": "execute_result",
          "data": {
            "text/plain": [
              "<matplotlib.lines.Line2D at 0x7f6d03314950>"
            ]
          },
          "metadata": {},
          "execution_count": 44
        },
        {
          "output_type": "display_data",
          "data": {
            "text/plain": [
              "<Figure size 648x360 with 1 Axes>"
            ],
            "image/png": "[encoded data removed]"
          },
          "metadata": {}
        }
      ]
    },
    {
      "cell_type": "code",
      "source": [
        "g=sns.catplot(data=data, x='views', kind='violin')\n",
        "customPlotSettings(figW=9)\n",
        "# g.fig.set_figwidth(8)\n",
        "# g.fig.set_figheight(4)"
      ],
      "metadata": {
        "colab": {
          "base_uri": "https://localhost:8080/",
          "height": 362
        },
        "id": "14uRNGAwkaMj",
        "outputId": "1b2699ed-48d6-4019-c175-9190b0a7c345"
      },
      "execution_count": null,
      "outputs": [
        {
          "output_type": "display_data",
          "data": {
            "text/plain": [
              "<Figure size 648x360 with 1 Axes>"
            ],
            "image/png": "[encoded data removed]"
          },
          "metadata": {}
        }
      ]
    },
    {
      "cell_type": "code",
      "source": [
        "g = sns.catplot(data=data, x='year', kind='count')\n",
        "customPlotSettings(XorY=plt.yticks([]))\n",
        "g.set(ylabel=None)\n",
        "\n",
        "plt.title('Number of Videos by Year')"
      ],
      "metadata": {
        "colab": {
          "base_uri": "https://localhost:8080/",
          "height": 411
        },
        "id": "_1iO9ecKYu9p",
        "outputId": "cc5a32cb-52ff-4b54-dde7-7ecd3a3c8306"
      },
      "execution_count": 134,
      "outputs": [
        {
          "output_type": "execute_result",
          "data": {
            "text/plain": [
              "Text(0.5, 1.0, 'Number of Videos by Year')"
            ]
          },
          "metadata": {},
          "execution_count": 134
        },
        {
          "output_type": "display_data",
          "data": {
            "text/plain": [
              "<Figure size 460.8x360 with 1 Axes>"
            ],
            "image/png": "[encoded data removed]"
          },
          "metadata": {}
        }
      ]
    },
    {
      "cell_type": "code",
      "source": [
        "F_concated = pd.concat([data['Freestyler_A'], data['Freestyler_B']])\n",
        "F_concated.value_counts()"
      ],
      "metadata": {
        "id": "3qzKW6criGkC",
        "outputId": "afdd52ae-5833-4ba3-c633-60608a8c5291",
        "colab": {
          "base_uri": "https://localhost:8080/"
        }
      },
      "execution_count": 116,
      "outputs": [
        {
          "output_type": "execute_result",
          "data": {
            "text/plain": [
              "Aczino       21\n",
              "Arkano       14\n",
              "Valles-T     11\n",
              "Skone        10\n",
              "Bnet         10\n",
              "             ..\n",
              "Yeriko        1\n",
              "Rvs           1\n",
              "Dozer         1\n",
              "Redencion     1\n",
              "Mrjunior      1\n",
              "Length: 62, dtype: int64"
            ]
          },
          "metadata": {},
          "execution_count": 116
        }
      ]
    },
    {
      "cell_type": "code",
      "source": [
        "F_concated.value_counts().sort_values(ascending=True).plot(kind='barh', figsize=(12, 15))\n",
        "\n",
        "g.set(xlabel=None)\n",
        "g.set(ylabel=None)\n",
        "\n",
        "plt.title('Numbers of Appereances By each Freestyler in any International from 2015 to 2020')"
      ],
      "metadata": {
        "id": "wZyuClL5hSV5",
        "outputId": "57ed24c3-2238-47b3-9e84-3cd511499af3",
        "colab": {
          "base_uri": "https://localhost:8080/",
          "height": 918
        }
      },
      "execution_count": 127,
      "outputs": [
        {
          "output_type": "execute_result",
          "data": {
            "text/plain": [
              "Text(0.5, 1.0, 'Numbers of Appereances By each Freestyler in any International from 2015 to 2020')"
            ]
          },
          "metadata": {},
          "execution_count": 127
        },
        {
          "output_type": "display_data",
          "data": {
            "text/plain": [
              "<Figure size 864x1080 with 1 Axes>"
            ],
            "image/png": "[encoded data removed]"
          },
          "metadata": {}
        }
      ]
    },
    {
      "cell_type": "code",
      "metadata": {
        "id": "-dzUadETgixv"
      },
      "source": [
        "sirve pa otra grafica\n",
        "# data.groupby(['year','Freestyler A']).size()\n",
        "# data.groupby(['Freestyler A','year']).size().groupby(level=1).max()"
      ],
      "execution_count": null,
      "outputs": []
    },
    {
      "cell_type": "code",
      "metadata": {
        "colab": {
          "base_uri": "https://localhost:8080/",
          "height": 204
        },
        "id": "r2a-ay5ENHsZ",
        "outputId": "3388c056-ce68-48be-811b-64b74c420f91"
      },
      "source": [
        "data[data['title'].str.contains('SNK')]"
      ],
      "execution_count": null,
      "outputs": [
        {
          "output_type": "execute_result",
          "data": {
            "text/html": [
              "<div>\n",
              "<style scoped>\n",
              "    .dataframe tbody tr th:only-of-type {\n",
              "        vertical-align: middle;\n",
              "    }\n",
              "\n",
              "    .dataframe tbody tr th {\n",
              "        vertical-align: top;\n",
              "    }\n",
              "\n",
              "    .dataframe thead th {\n",
              "        text-align: right;\n",
              "    }\n",
              "</style>\n",
              "<table border=\"1\" class=\"dataframe\">\n",
              "  <thead>\n",
              "    <tr style=\"text-align: right;\">\n",
              "      <th></th>\n",
              "      <th>id</th>\n",
              "      <th>title</th>\n",
              "      <th>Freestyler A</th>\n",
              "      <th>Freestyler B</th>\n",
              "      <th>views</th>\n",
              "      <th>year</th>\n",
              "      <th>length</th>\n",
              "      <th>likes</th>\n",
              "      <th>dislikes</th>\n",
              "    </tr>\n",
              "  </thead>\n",
              "  <tbody>\n",
              "    <tr>\n",
              "      <th>14</th>\n",
              "      <td>14</td>\n",
              "      <td>NAICEN vs SNK</td>\n",
              "      <td>Naicen</td>\n",
              "      <td>Snk</td>\n",
              "      <td>66128</td>\n",
              "      <td>2020</td>\n",
              "      <td>00:06:44</td>\n",
              "      <td>3196</td>\n",
              "      <td>200</td>\n",
              "    </tr>\n",
              "    <tr>\n",
              "      <th>22</th>\n",
              "      <td>22</td>\n",
              "      <td>JAZE vs SNK</td>\n",
              "      <td>Jaze</td>\n",
              "      <td>Snk</td>\n",
              "      <td>1407134</td>\n",
              "      <td>2019</td>\n",
              "      <td>00:07:06</td>\n",
              "      <td>28687</td>\n",
              "      <td>890</td>\n",
              "    </tr>\n",
              "    <tr>\n",
              "      <th>24</th>\n",
              "      <td>24</td>\n",
              "      <td>SNK vs ZASKO MASTER</td>\n",
              "      <td>Snk</td>\n",
              "      <td>Zasko Master</td>\n",
              "      <td>588253</td>\n",
              "      <td>2019</td>\n",
              "      <td>00:06:02</td>\n",
              "      <td>14385</td>\n",
              "      <td>583</td>\n",
              "    </tr>\n",
              "    <tr>\n",
              "      <th>26</th>\n",
              "      <td>26</td>\n",
              "      <td>SNK vs ACZINO</td>\n",
              "      <td>Snk</td>\n",
              "      <td>Aczino</td>\n",
              "      <td>1204854</td>\n",
              "      <td>2019</td>\n",
              "      <td>00:06:58</td>\n",
              "      <td>24243</td>\n",
              "      <td>473</td>\n",
              "    </tr>\n",
              "    <tr>\n",
              "      <th>27</th>\n",
              "      <td>27</td>\n",
              "      <td>SNK vs BNET</td>\n",
              "      <td>Snk</td>\n",
              "      <td>Bnet</td>\n",
              "      <td>2154417</td>\n",
              "      <td>2019</td>\n",
              "      <td>00:09:01</td>\n",
              "      <td>40675</td>\n",
              "      <td>1061</td>\n",
              "    </tr>\n",
              "  </tbody>\n",
              "</table>\n",
              "</div>"
            ],
            "text/plain": [
              "    id                title Freestyler A  ...    length  likes  dislikes\n",
              "14  14        NAICEN vs SNK       Naicen  ...  00:06:44   3196       200\n",
              "22  22          JAZE vs SNK         Jaze  ...  00:07:06  28687       890\n",
              "24  24  SNK vs ZASKO MASTER          Snk  ...  00:06:02  14385       583\n",
              "26  26        SNK vs ACZINO          Snk  ...  00:06:58  24243       473\n",
              "27  27          SNK vs BNET          Snk  ...  00:09:01  40675      1061\n",
              "\n",
              "[5 rows x 9 columns]"
            ]
          },
          "metadata": {
            "tags": []
          },
          "execution_count": 106
        }
      ]
    },
    {
      "cell_type": "markdown",
      "metadata": {
        "id": "Cp3N9ZtZ6NU8"
      },
      "source": [
        "\n",
        "\n",
        "---\n",
        "\n"
      ]
    },
    {
      "cell_type": "code",
      "metadata": {
        "id": "9neEDZU2abph"
      },
      "source": [
        "data[data['year'] == '2018']\n",
        "# do the same\n",
        "data[data['year'].eq('2018')]\n",
        "\n",
        "# show all rows but not of this years\n",
        "data[~data['year'].eq('2018') & data['title'].str.find(' vs ')]"
      ],
      "execution_count": null,
      "outputs": []
    },
    {
      "cell_type": "code",
      "metadata": {
        "id": "oXhJmxPtdFBr"
      },
      "source": [
        "years = [2018, 2017]\n",
        "data[data['year'].isin(years)]"
      ],
      "execution_count": null,
      "outputs": []
    },
    {
      "cell_type": "markdown",
      "source": [
        "Correlation between Numerical Features"
      ],
      "metadata": {
        "id": "_jBckyWNkq8g"
      }
    },
    {
      "cell_type": "code",
      "source": [
        "# Calculate correlation between each pair of variable\n",
        "corr = data.corr()\n",
        "\n",
        "# Generate a mask for the upper triangle\n",
        "mask = np.zeros_like(corr, dtype=np.bool)\n",
        "mask[np.triu_indices_from(mask)] = True\n",
        "\n",
        "# Insert a figure\n",
        "f, ax = plt.subplots(figsize=(10, 7))\n",
        "cmap = sns.diverging_palette(10, 220, as_cmap=True)\n",
        "\n",
        "# Draw the heatmap with the mask\n",
        "ax = sns.heatmap(corr,\n",
        "                 mask=mask,\n",
        "                 cmap=cmap,\n",
        "                 annot=True,\n",
        "                 annot_kws= {'size':11},\n",
        "                 square=True, xticklabels=True,\n",
        "                 yticklabels=True,\n",
        "                 linewidths=.5,\n",
        "                 cbar_kws={'shrink': .5},\n",
        "                 ax=ax\n",
        "                )\n",
        "ax.set_title('Correlation between Numerical Features', fontsize=20);"
      ],
      "metadata": {
        "colab": {
          "base_uri": "https://localhost:8080/",
          "height": 538
        },
        "id": "8Q2buVOskn8s",
        "outputId": "85336f30-b152-4023-e854-22471ca4ab12"
      },
      "execution_count": null,
      "outputs": [
        {
          "output_type": "stream",
          "name": "stderr",
          "text": [
            "/usr/local/lib/python3.7/dist-packages/ipykernel_launcher.py:5: DeprecationWarning: `np.bool` is a deprecated alias for the builtin `bool`. To silence this warning, use `bool` by itself. Doing this will not modify any behavior and is safe. If you specifically wanted the numpy scalar type, use `np.bool_` here.\n",
            "Deprecated in NumPy 1.20; for more details and guidance: https://numpy.org/devdocs/release/1.20.0-notes.html#deprecations\n",
            "  \"\"\"\n"
          ]
        },
        {
          "output_type": "display_data",
          "data": {
            "text/plain": [
              "<Figure size 720x504 with 2 Axes>"
            ],
            "image/png": "[encoded data removed]"
          },
          "metadata": {}
        }
      ]
    },
    {
      "cell_type": "code",
      "source": [
        "https://www.python-graph-gallery.com/341-python-gapminder-animation"
      ],
      "metadata": {
        "id": "QeNYa4u3lWj8"
      },
      "execution_count": null,
      "outputs": []
    }
  ]
}