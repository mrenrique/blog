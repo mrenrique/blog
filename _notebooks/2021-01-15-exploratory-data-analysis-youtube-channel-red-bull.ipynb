{
  "nbformat": 4,
  "nbformat_minor": 0,
  "metadata": {
    "colab": {
      "name": "2021-01-15-exploratory-data-analysis-youtube-channel-red-bull.ipynb",
      "provenance": [],
      "collapsed_sections": [],
      "authorship_tag": "ABX9TyOCEtZSu1aqGizj8cT7V1VV"
    },
    "kernelspec": {
      "name": "python3",
      "display_name": "Python 3"
    }
  },
  "cells": [
    {
      "cell_type": "markdown",
      "metadata": {
        "id": "F0TGyleO_2ms"
      },
      "source": [
        "# Analizing Videos' Details of Red Bull Batalla de Gallos' Youtube Channel\n",
        "\n",
        "> This is a EDA applied to data from a Youtube Channel.\n",
        "\n",
        "- toc: true \n",
        "- badges: true\n",
        "- comments: true\n",
        "- categories: [EDA,Python,Pandas,Data Analysis]\n",
        "- image: images/chart-preview.png"
      ]
    },
    {
      "cell_type": "markdown",
      "source": [
        "## TL;DR 🤓"
      ],
      "metadata": {
        "id": "7lTKIhY2bDNW"
      }
    },
    {
      "cell_type": "markdown",
      "metadata": {
        "id": "Z2HL_ePMbKeI"
      },
      "source": [
        "This project's aim is to perform some common EDA tasks on the created dataset containing information of all International Matches of Freestyle organized by Red Bull from 2015 to 2020 (filtered by `internacional` and ` vs ` keywords). **Red Bull Batalla de los Gallos** is the Most Recognized **Freestyle Competition in Spanish** that brings together the **16 winning Freestylers** from the competitions organized by Red Bull in each country. After all matches only one of them is crowned as international champion [Click here to learn more](https://rap.fandom.com/es/wiki/Red_Bull_Batalla_de_los_Gallos)"
      ]
    },
    {
      "cell_type": "markdown",
      "metadata": {
        "id": "ZHAG4NCMu6M3"
      },
      "source": [
        "## Importing Libraries ✔️"
      ]
    },
    {
      "cell_type": "code",
      "metadata": {
        "id": "wpyEMZ0wmK0k",
        "colab": {
          "base_uri": "https://localhost:8080/",
          "height": 35
        },
        "outputId": "ed1ef802-4f3d-47ac-852f-1bb88a0a4e8b"
      },
      "source": [
        "# Importing libraries\n",
        "import numpy as np\n",
        "import pandas as pd\n",
        "import re\n",
        "# import matplotlib.pyplot as plt\n",
        "import seaborn as sns\n",
        "sns.set_theme(style=\"ticks\", color_codes=True)\n",
        "\n",
        "from datetime import datetime\n",
        "\n",
        "# check Pandas' version\n",
        "pd.__version__"
      ],
      "execution_count": null,
      "outputs": [
        {
          "output_type": "execute_result",
          "data": {
            "application/vnd.google.colaboratory.intrinsic+json": {
              "type": "string"
            },
            "text/plain": [
              "'1.1.5'"
            ]
          },
          "metadata": {
            "tags": []
          },
          "execution_count": 93
        }
      ]
    },
    {
      "cell_type": "markdown",
      "metadata": {
        "id": "EN7NXA_EAa9g"
      },
      "source": [
        "## Importing dataset 🗃️"
      ]
    },
    {
      "cell_type": "code",
      "metadata": {
        "colab": {
          "base_uri": "https://localhost:8080/",
          "height": 142
        },
        "id": "nPyna1urACc5",
        "outputId": "8ff608ab-08f8-4115-eb88-14d8de4bd14a"
      },
      "source": [
        "data_url = 'https://raw.githubusercontent.com/mrenrique/EDA-to-Youtube-Channel-Videos/main/clean_data.csv'\n",
        "data = pd.read_csv(url)\n",
        "\n",
        "# show first three rows\n",
        "data.head(3)"
      ],
      "execution_count": null,
      "outputs": [
        {
          "output_type": "execute_result",
          "data": {
            "text/html": [
              "<div>\n",
              "<style scoped>\n",
              "    .dataframe tbody tr th:only-of-type {\n",
              "        vertical-align: middle;\n",
              "    }\n",
              "\n",
              "    .dataframe tbody tr th {\n",
              "        vertical-align: top;\n",
              "    }\n",
              "\n",
              "    .dataframe thead th {\n",
              "        text-align: right;\n",
              "    }\n",
              "</style>\n",
              "<table border=\"1\" class=\"dataframe\">\n",
              "  <thead>\n",
              "    <tr style=\"text-align: right;\">\n",
              "      <th></th>\n",
              "      <th>id</th>\n",
              "      <th>title</th>\n",
              "      <th>views</th>\n",
              "      <th>year</th>\n",
              "      <th>length</th>\n",
              "      <th>likes</th>\n",
              "      <th>dislikes</th>\n",
              "    </tr>\n",
              "  </thead>\n",
              "  <tbody>\n",
              "    <tr>\n",
              "      <th>0</th>\n",
              "      <td>0</td>\n",
              "      <td>ACZINO vs EXODO LIRICAL</td>\n",
              "      <td>577503</td>\n",
              "      <td>2020</td>\n",
              "      <td>00:06:16</td>\n",
              "      <td>14040</td>\n",
              "      <td>270</td>\n",
              "    </tr>\n",
              "    <tr>\n",
              "      <th>1</th>\n",
              "      <td>1</td>\n",
              "      <td>EXODO LIRICAL vs RAPDER</td>\n",
              "      <td>238463</td>\n",
              "      <td>2020</td>\n",
              "      <td>00:12:30</td>\n",
              "      <td>8135</td>\n",
              "      <td>927</td>\n",
              "    </tr>\n",
              "    <tr>\n",
              "      <th>2</th>\n",
              "      <td>2</td>\n",
              "      <td>ACZINO vs SKONE</td>\n",
              "      <td>756352</td>\n",
              "      <td>2020</td>\n",
              "      <td>00:10:06</td>\n",
              "      <td>18458</td>\n",
              "      <td>1146</td>\n",
              "    </tr>\n",
              "  </tbody>\n",
              "</table>\n",
              "</div>"
            ],
            "text/plain": [
              "   id                    title   views  year    length  likes  dislikes\n",
              "0   0  ACZINO vs EXODO LIRICAL  577503  2020  00:06:16  14040       270\n",
              "1   1  EXODO LIRICAL vs RAPDER  238463  2020  00:12:30   8135       927\n",
              "2   2          ACZINO vs SKONE  756352  2020  00:10:06  18458      1146"
            ]
          },
          "metadata": {
            "tags": []
          },
          "execution_count": 44
        }
      ]
    },
    {
      "cell_type": "markdown",
      "metadata": {
        "id": "civD_8Hx4K4-"
      },
      "source": [
        "## Getting to know our Dataset better ✔️"
      ]
    },
    {
      "cell_type": "markdown",
      "metadata": {
        "id": "WRbtOjFu4L4M"
      },
      "source": [
        "Let's take a look at the datafame's properties for a better understanding to know what needs to be done. To do so, we can use the `info()` method which gives us the number of columns, **columns names** and their **data types** all together."
      ]
    },
    {
      "cell_type": "code",
      "metadata": {
        "colab": {
          "base_uri": "https://localhost:8080/"
        },
        "id": "sImRm6anI3Va",
        "outputId": "d56d5682-1056-4607-f835-987fbd7e0dc8"
      },
      "source": [
        "data.info()"
      ],
      "execution_count": null,
      "outputs": [
        {
          "output_type": "stream",
          "text": [
            "<class 'pandas.core.frame.DataFrame'>\n",
            "RangeIndex: 92 entries, 0 to 91\n",
            "Data columns (total 7 columns):\n",
            " #   Column    Non-Null Count  Dtype \n",
            "---  ------    --------------  ----- \n",
            " 0   id        92 non-null     int64 \n",
            " 1   title     92 non-null     object\n",
            " 2   views     92 non-null     int64 \n",
            " 3   year      92 non-null     int64 \n",
            " 4   length    92 non-null     object\n",
            " 5   likes     92 non-null     int64 \n",
            " 6   dislikes  92 non-null     int64 \n",
            "dtypes: int64(5), object(2)\n",
            "memory usage: 5.2+ KB\n"
          ],
          "name": "stdout"
        }
      ]
    },
    {
      "cell_type": "code",
      "metadata": {
        "colab": {
          "base_uri": "https://localhost:8080/"
        },
        "id": "sp7Mglp2I94k",
        "outputId": "ebd454dd-6b86-4ade-bf87-da845dc20683"
      },
      "source": [
        "data.shape\n",
        "\n",
        "print(\"The Dataset has\", data.shape[0],\"rows with\", data.shape[1],\"features\")"
      ],
      "execution_count": null,
      "outputs": [
        {
          "output_type": "stream",
          "text": [
            "The Dataset has 92 rows with 7 features\n"
          ],
          "name": "stdout"
        }
      ]
    },
    {
      "cell_type": "markdown",
      "metadata": {
        "id": "PWHw9Dz-O19f"
      },
      "source": [
        "\n",
        "\n",
        "---\n",
        "\n"
      ]
    },
    {
      "cell_type": "code",
      "metadata": {
        "id": "Hik8cI-4O1XI"
      },
      "source": [
        "data['title'].value_counts()"
      ],
      "execution_count": null,
      "outputs": []
    },
    {
      "cell_type": "markdown",
      "metadata": {
        "id": "h7yoEKfEN2YR"
      },
      "source": [
        "## Modifying the Dataset"
      ]
    },
    {
      "cell_type": "code",
      "metadata": {
        "colab": {
          "base_uri": "https://localhost:8080/",
          "height": 204
        },
        "id": "6uuzl-WaOAun",
        "outputId": "1552f030-6287-4431-9602-fbc9b281b94e"
      },
      "source": [
        "data['Freestyler A'] = [i.lower().split(' vs ')[0].strip().title() for i in data['title']]\n",
        "data['Freestyler B'] = [i.lower().split(' vs ')[1].strip().title() for i in data['title']]\n",
        "\n",
        "#Moving the columns position\n",
        "data.columns.tolist()\n",
        "\n",
        "data = data[['id', 'title', 'Freestyler A', 'Freestyler B', 'views', 'year', 'length', 'likes', 'dislikes']]\n",
        "\n",
        "data.sample(5)"
      ],
      "execution_count": null,
      "outputs": [
        {
          "output_type": "execute_result",
          "data": {
            "text/html": [
              "<div>\n",
              "<style scoped>\n",
              "    .dataframe tbody tr th:only-of-type {\n",
              "        vertical-align: middle;\n",
              "    }\n",
              "\n",
              "    .dataframe tbody tr th {\n",
              "        vertical-align: top;\n",
              "    }\n",
              "\n",
              "    .dataframe thead th {\n",
              "        text-align: right;\n",
              "    }\n",
              "</style>\n",
              "<table border=\"1\" class=\"dataframe\">\n",
              "  <thead>\n",
              "    <tr style=\"text-align: right;\">\n",
              "      <th></th>\n",
              "      <th>id</th>\n",
              "      <th>title</th>\n",
              "      <th>Freestyler A</th>\n",
              "      <th>Freestyler B</th>\n",
              "      <th>views</th>\n",
              "      <th>year</th>\n",
              "      <th>length</th>\n",
              "      <th>likes</th>\n",
              "      <th>dislikes</th>\n",
              "    </tr>\n",
              "  </thead>\n",
              "  <tbody>\n",
              "    <tr>\n",
              "      <th>61</th>\n",
              "      <td>61</td>\n",
              "      <td>ARKANO vs PEPE GRILLO</td>\n",
              "      <td>Arkano</td>\n",
              "      <td>Pepe Grillo</td>\n",
              "      <td>1793765</td>\n",
              "      <td>2017</td>\n",
              "      <td>00:06:57</td>\n",
              "      <td>21249</td>\n",
              "      <td>7984</td>\n",
              "    </tr>\n",
              "    <tr>\n",
              "      <th>30</th>\n",
              "      <td>30</td>\n",
              "      <td>VALLES-T vs ACZINO</td>\n",
              "      <td>Valles-T</td>\n",
              "      <td>Aczino</td>\n",
              "      <td>16277039</td>\n",
              "      <td>2019</td>\n",
              "      <td>00:13:46</td>\n",
              "      <td>279388</td>\n",
              "      <td>9027</td>\n",
              "    </tr>\n",
              "    <tr>\n",
              "      <th>84</th>\n",
              "      <td>84</td>\n",
              "      <td>ACZINO vs ARKANO</td>\n",
              "      <td>Aczino</td>\n",
              "      <td>Arkano</td>\n",
              "      <td>16020247</td>\n",
              "      <td>2015</td>\n",
              "      <td>00:09:57</td>\n",
              "      <td>133895</td>\n",
              "      <td>5419</td>\n",
              "    </tr>\n",
              "    <tr>\n",
              "      <th>20</th>\n",
              "      <td>20</td>\n",
              "      <td>FRANCO vs YARTZI</td>\n",
              "      <td>Franco</td>\n",
              "      <td>Yartzi</td>\n",
              "      <td>1025957</td>\n",
              "      <td>2019</td>\n",
              "      <td>00:07:12</td>\n",
              "      <td>20451</td>\n",
              "      <td>252</td>\n",
              "    </tr>\n",
              "    <tr>\n",
              "      <th>75</th>\n",
              "      <td>75</td>\n",
              "      <td>SKONE vs PAPO</td>\n",
              "      <td>Skone</td>\n",
              "      <td>Papo</td>\n",
              "      <td>3424620</td>\n",
              "      <td>2016</td>\n",
              "      <td>00:04:47</td>\n",
              "      <td>44916</td>\n",
              "      <td>20190</td>\n",
              "    </tr>\n",
              "  </tbody>\n",
              "</table>\n",
              "</div>"
            ],
            "text/plain": [
              "    id                  title Freestyler A  ...    length   likes  dislikes\n",
              "61  61  ARKANO vs PEPE GRILLO       Arkano  ...  00:06:57   21249      7984\n",
              "30  30     VALLES-T vs ACZINO     Valles-T  ...  00:13:46  279388      9027\n",
              "84  84       ACZINO vs ARKANO       Aczino  ...  00:09:57  133895      5419\n",
              "20  20       FRANCO vs YARTZI       Franco  ...  00:07:12   20451       252\n",
              "75  75          SKONE vs PAPO        Skone  ...  00:04:47   44916     20190\n",
              "\n",
              "[5 rows x 9 columns]"
            ]
          },
          "metadata": {
            "tags": []
          },
          "execution_count": 58
        }
      ]
    },
    {
      "cell_type": "code",
      "metadata": {
        "id": "D9hrDvl7nsb9"
      },
      "source": [
        "# data['title'].value_counts().head(5)\n",
        "# data['title'].value_counts().loc[lambda x : x > 1]"
      ],
      "execution_count": null,
      "outputs": []
    },
    {
      "cell_type": "code",
      "metadata": {
        "colab": {
          "base_uri": "https://localhost:8080/",
          "height": 285
        },
        "id": "4q88qgLqnjgv",
        "outputId": "f1c7f9ed-03b7-40d4-959b-088d3763a8c5"
      },
      "source": [
        "data['title'].value_counts().loc[lambda x : x > 1].plot(kind='barh')"
      ],
      "execution_count": null,
      "outputs": [
        {
          "output_type": "execute_result",
          "data": {
            "text/plain": [
              "<matplotlib.axes._subplots.AxesSubplot at 0x7fb05446eeb8>"
            ]
          },
          "metadata": {
            "tags": []
          },
          "execution_count": 101
        },
        {
          "output_type": "display_data",
          "data": {
            "image/png": "[encoded data removed]",
            "text/plain": [
              "<Figure size 432x288 with 1 Axes>"
            ]
          },
          "metadata": {
            "tags": []
          }
        }
      ]
    },
    {
      "cell_type": "code",
      "metadata": {
        "id": "lbBRZksAKRWF"
      },
      "source": [
        "# data['title'].value_counts().to_frame()\n",
        "data['Freestyler A'].value_counts()"
      ],
      "execution_count": null,
      "outputs": []
    },
    {
      "cell_type": "code",
      "metadata": {
        "id": "-dzUadETgixv"
      },
      "source": [
        "sirve pa otra grafica\n",
        "# data.groupby(['year','Freestyler A']).size()\n",
        "# data.groupby(['Freestyler A','year']).size().groupby(level=1).max()"
      ],
      "execution_count": null,
      "outputs": []
    },
    {
      "cell_type": "code",
      "metadata": {
        "colab": {
          "base_uri": "https://localhost:8080/",
          "height": 204
        },
        "id": "r2a-ay5ENHsZ",
        "outputId": "3388c056-ce68-48be-811b-64b74c420f91"
      },
      "source": [
        "data[data['title'].str.contains('SNK')]"
      ],
      "execution_count": null,
      "outputs": [
        {
          "output_type": "execute_result",
          "data": {
            "text/html": [
              "<div>\n",
              "<style scoped>\n",
              "    .dataframe tbody tr th:only-of-type {\n",
              "        vertical-align: middle;\n",
              "    }\n",
              "\n",
              "    .dataframe tbody tr th {\n",
              "        vertical-align: top;\n",
              "    }\n",
              "\n",
              "    .dataframe thead th {\n",
              "        text-align: right;\n",
              "    }\n",
              "</style>\n",
              "<table border=\"1\" class=\"dataframe\">\n",
              "  <thead>\n",
              "    <tr style=\"text-align: right;\">\n",
              "      <th></th>\n",
              "      <th>id</th>\n",
              "      <th>title</th>\n",
              "      <th>Freestyler A</th>\n",
              "      <th>Freestyler B</th>\n",
              "      <th>views</th>\n",
              "      <th>year</th>\n",
              "      <th>length</th>\n",
              "      <th>likes</th>\n",
              "      <th>dislikes</th>\n",
              "    </tr>\n",
              "  </thead>\n",
              "  <tbody>\n",
              "    <tr>\n",
              "      <th>14</th>\n",
              "      <td>14</td>\n",
              "      <td>NAICEN vs SNK</td>\n",
              "      <td>Naicen</td>\n",
              "      <td>Snk</td>\n",
              "      <td>66128</td>\n",
              "      <td>2020</td>\n",
              "      <td>00:06:44</td>\n",
              "      <td>3196</td>\n",
              "      <td>200</td>\n",
              "    </tr>\n",
              "    <tr>\n",
              "      <th>22</th>\n",
              "      <td>22</td>\n",
              "      <td>JAZE vs SNK</td>\n",
              "      <td>Jaze</td>\n",
              "      <td>Snk</td>\n",
              "      <td>1407134</td>\n",
              "      <td>2019</td>\n",
              "      <td>00:07:06</td>\n",
              "      <td>28687</td>\n",
              "      <td>890</td>\n",
              "    </tr>\n",
              "    <tr>\n",
              "      <th>24</th>\n",
              "      <td>24</td>\n",
              "      <td>SNK vs ZASKO MASTER</td>\n",
              "      <td>Snk</td>\n",
              "      <td>Zasko Master</td>\n",
              "      <td>588253</td>\n",
              "      <td>2019</td>\n",
              "      <td>00:06:02</td>\n",
              "      <td>14385</td>\n",
              "      <td>583</td>\n",
              "    </tr>\n",
              "    <tr>\n",
              "      <th>26</th>\n",
              "      <td>26</td>\n",
              "      <td>SNK vs ACZINO</td>\n",
              "      <td>Snk</td>\n",
              "      <td>Aczino</td>\n",
              "      <td>1204854</td>\n",
              "      <td>2019</td>\n",
              "      <td>00:06:58</td>\n",
              "      <td>24243</td>\n",
              "      <td>473</td>\n",
              "    </tr>\n",
              "    <tr>\n",
              "      <th>27</th>\n",
              "      <td>27</td>\n",
              "      <td>SNK vs BNET</td>\n",
              "      <td>Snk</td>\n",
              "      <td>Bnet</td>\n",
              "      <td>2154417</td>\n",
              "      <td>2019</td>\n",
              "      <td>00:09:01</td>\n",
              "      <td>40675</td>\n",
              "      <td>1061</td>\n",
              "    </tr>\n",
              "  </tbody>\n",
              "</table>\n",
              "</div>"
            ],
            "text/plain": [
              "    id                title Freestyler A  ...    length  likes  dislikes\n",
              "14  14        NAICEN vs SNK       Naicen  ...  00:06:44   3196       200\n",
              "22  22          JAZE vs SNK         Jaze  ...  00:07:06  28687       890\n",
              "24  24  SNK vs ZASKO MASTER          Snk  ...  00:06:02  14385       583\n",
              "26  26        SNK vs ACZINO          Snk  ...  00:06:58  24243       473\n",
              "27  27          SNK vs BNET          Snk  ...  00:09:01  40675      1061\n",
              "\n",
              "[5 rows x 9 columns]"
            ]
          },
          "metadata": {
            "tags": []
          },
          "execution_count": 106
        }
      ]
    },
    {
      "cell_type": "markdown",
      "metadata": {
        "id": "Cp3N9ZtZ6NU8"
      },
      "source": [
        "\n",
        "\n",
        "---\n",
        "\n"
      ]
    },
    {
      "cell_type": "code",
      "metadata": {
        "id": "9neEDZU2abph"
      },
      "source": [
        "data[data['year'] == '2018']\n",
        "# do the same\n",
        "data[data['year'].eq('2018')]\n",
        "\n",
        "# show all rows but not of this years\n",
        "data[~data['year'].eq('2018') & data['title'].str.find(' vs ')]"
      ],
      "execution_count": null,
      "outputs": []
    },
    {
      "cell_type": "code",
      "metadata": {
        "id": "oXhJmxPtdFBr"
      },
      "source": [
        "years = [2018, 2017]\n",
        "data[data['year'].isin(years)]"
      ],
      "execution_count": null,
      "outputs": []
    }
  ]
}