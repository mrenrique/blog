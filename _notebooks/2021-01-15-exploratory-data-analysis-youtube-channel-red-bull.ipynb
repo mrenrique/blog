{
  "nbformat": 4,
  "nbformat_minor": 0,
  "metadata": {
    "colab": {
      "name": "2021-01-15-exploratory-data-analysis-youtube-channel-red-bull.ipynb",
      "provenance": [],
      "collapsed_sections": [],
      "authorship_tag": "ABX9TyOeRIXsWJmfZwj1ocab+GAn"
    },
    "kernelspec": {
      "name": "python3",
      "display_name": "Python 3"
    }
  },
  "cells": [
    {
      "cell_type": "markdown",
      "metadata": {
        "id": "F0TGyleO_2ms"
      },
      "source": [
        "# Analizing Videos' Details of Red Bull Batalla de Gallos' Youtube Channel\n",
        "\n",
        "> This is a EDA applied to data from a Youtube Channel.\n",
        "\n",
        "- toc: true \n",
        "- badges: true\n",
        "- comments: true\n",
        "- categories: [EDA,Python,Pandas,Data Analysis]\n",
        "- image: images/chart-preview.png"
      ]
    },
    {
      "cell_type": "markdown",
      "source": [
        "## TL;DR 🤓"
      ],
      "metadata": {
        "id": "7lTKIhY2bDNW"
      }
    },
    {
      "cell_type": "markdown",
      "metadata": {
        "id": "Z2HL_ePMbKeI"
      },
      "source": [
        "This project's aim is to perform some common EDA tasks on the created dataset containing information of all International Matches of Freestyle organized by Red Bull from 2015 to 2020 (filtered by `internacional` and ` vs ` keywords). **Red Bull Batalla de los Gallos** is the Most Recognized **Freestyle Competition in Spanish** that brings together the **16 winning Freestylers** from the competitions organized by Red Bull in each country. After all matches only one of them is crowned as international champion [Click here to learn more](https://rap.fandom.com/es/wiki/Red_Bull_Batalla_de_los_Gallos)"
      ]
    },
    {
      "cell_type": "markdown",
      "metadata": {
        "id": "ZHAG4NCMu6M3"
      },
      "source": [
        "## Importing Libraries ✔️"
      ]
    },
    {
      "cell_type": "code",
      "metadata": {
        "id": "wpyEMZ0wmK0k",
        "colab": {
          "base_uri": "https://localhost:8080/",
          "height": 35
        },
        "outputId": "497835aa-b1e1-43c8-ddb7-a4eeaa7bfef0"
      },
      "source": [
        "# Importing libraries\n",
        "import numpy as np\n",
        "import pandas as pd\n",
        "import re\n",
        "import matplotlib.pyplot as plt\n",
        "import seaborn as sns\n",
        "sns.set_theme(style=\"ticks\", color_codes=True)\n",
        "\n",
        "from datetime import datetime\n",
        "\n",
        "# check Pandas' version\n",
        "pd.__version__"
      ],
      "execution_count": 2,
      "outputs": [
        {
          "output_type": "execute_result",
          "data": {
            "text/plain": [
              "'1.3.5'"
            ],
            "application/vnd.google.colaboratory.intrinsic+json": {
              "type": "string"
            }
          },
          "metadata": {},
          "execution_count": 2
        }
      ]
    },
    {
      "cell_type": "markdown",
      "source": [
        "## Customized Settings 🎨"
      ],
      "metadata": {
        "id": "VexYe2MzPfO-"
      }
    },
    {
      "cell_type": "code",
      "source": [
        "g=[]\n",
        "\n",
        "def customPlotSettings(graph=g, figW=6.4):\n",
        "    g.fig.set_figwidth(figW)\n",
        "    g.fig.set_figheight(5)\n",
        "\n",
        "    ax=g.facet_axis(0,0)\n",
        "\n",
        "    for p in ax.patches:\n",
        "        height = p.get_height() # height of each horizontal bar is the same\n",
        "        width = p.get_width()\n",
        "        ax.text(p.get_x() + (width / 2),\n",
        "                height * 1.03, # # y-coordinate position of data label, padded to be in the middle of the bar,\n",
        "                height, # f'{(height / 1000 ):.0f}K',\n",
        "                ha='center'\n",
        "                )\n",
        "        \n",
        "    # Remove frame (or all the spines at the same time)\n",
        "    ax.set_frame_on(False)\n",
        "\n",
        "    custom_params = {\n",
        "                     'axes.titlesize':16,\n",
        "                     'ytick.left': False,\n",
        "                     'axes.titlepad': 20 \n",
        "                    }\n",
        "\n",
        "    sns.set_theme(style='white', palette='Set2', font_scale=1.1 , rc=custom_params)\n",
        "    plt.yticks([])"
      ],
      "metadata": {
        "id": "UHpYd3MnPh6A"
      },
      "execution_count": 50,
      "outputs": []
    },
    {
      "cell_type": "code",
      "source": [
        "def customHistSettings(figW=6.4):\n",
        "    fig, ax = plt.subplots()\n",
        "    custom_params = {\n",
        "                     'figure.figsize':(figW,5),\n",
        "                     'axes.titlesize':16,\n",
        "                     'ytick.left': False\n",
        "                    }\n",
        "    sns.set_theme(style='white', palette='Set2', rc=custom_params)\n",
        "\n",
        "    ax.grid(axis ='x', color ='0.95') \n",
        "    ax.set_frame_on(False)\n",
        "    plt.yticks([])"
      ],
      "metadata": {
        "id": "mZ3-f1f8Pipo"
      },
      "execution_count": 17,
      "outputs": []
    },
    {
      "cell_type": "markdown",
      "metadata": {
        "id": "EN7NXA_EAa9g"
      },
      "source": [
        "## Importing dataset 🗃️"
      ]
    },
    {
      "cell_type": "code",
      "metadata": {
        "colab": {
          "base_uri": "https://localhost:8080/",
          "height": 175
        },
        "id": "nPyna1urACc5",
        "outputId": "8ecd0e0e-afc7-438d-b79e-cb02d49006bd"
      },
      "source": [
        "data_url = 'https://raw.githubusercontent.com/mrenrique/EDA-to-Youtube-Channel-Videos/main/clean_data.csv'\n",
        "data = pd.read_csv(data_url, index_col='id')\n",
        "\n",
        "# show first three rows\n",
        "data.sample(3)"
      ],
      "execution_count": 7,
      "outputs": [
        {
          "output_type": "execute_result",
          "data": {
            "text/plain": [
              "                      title     views  year    length   likes  dislikes\n",
              "id                                                                     \n",
              "39            WOS vs ACZINO  39525308  2018  00:19:03  680254     73824\n",
              "1   EXODO LIRICAL vs RAPDER    238463  2020  00:12:30    8135       927\n",
              "33    WOS vs RAPDER Octavos   1831544  2018  00:07:01   33093      5586"
            ],
            "text/html": [
              "\n",
              "  <div id=\"df-b71029c7-3bda-4ea5-a3bc-6a684ba33a17\">\n",
              "    <div class=\"colab-df-container\">\n",
              "      <div>\n",
              "<style scoped>\n",
              "    .dataframe tbody tr th:only-of-type {\n",
              "        vertical-align: middle;\n",
              "    }\n",
              "\n",
              "    .dataframe tbody tr th {\n",
              "        vertical-align: top;\n",
              "    }\n",
              "\n",
              "    .dataframe thead th {\n",
              "        text-align: right;\n",
              "    }\n",
              "</style>\n",
              "<table border=\"1\" class=\"dataframe\">\n",
              "  <thead>\n",
              "    <tr style=\"text-align: right;\">\n",
              "      <th></th>\n",
              "      <th>title</th>\n",
              "      <th>views</th>\n",
              "      <th>year</th>\n",
              "      <th>length</th>\n",
              "      <th>likes</th>\n",
              "      <th>dislikes</th>\n",
              "    </tr>\n",
              "    <tr>\n",
              "      <th>id</th>\n",
              "      <th></th>\n",
              "      <th></th>\n",
              "      <th></th>\n",
              "      <th></th>\n",
              "      <th></th>\n",
              "      <th></th>\n",
              "    </tr>\n",
              "  </thead>\n",
              "  <tbody>\n",
              "    <tr>\n",
              "      <th>39</th>\n",
              "      <td>WOS vs ACZINO</td>\n",
              "      <td>39525308</td>\n",
              "      <td>2018</td>\n",
              "      <td>00:19:03</td>\n",
              "      <td>680254</td>\n",
              "      <td>73824</td>\n",
              "    </tr>\n",
              "    <tr>\n",
              "      <th>1</th>\n",
              "      <td>EXODO LIRICAL vs RAPDER</td>\n",
              "      <td>238463</td>\n",
              "      <td>2020</td>\n",
              "      <td>00:12:30</td>\n",
              "      <td>8135</td>\n",
              "      <td>927</td>\n",
              "    </tr>\n",
              "    <tr>\n",
              "      <th>33</th>\n",
              "      <td>WOS vs RAPDER Octavos</td>\n",
              "      <td>1831544</td>\n",
              "      <td>2018</td>\n",
              "      <td>00:07:01</td>\n",
              "      <td>33093</td>\n",
              "      <td>5586</td>\n",
              "    </tr>\n",
              "  </tbody>\n",
              "</table>\n",
              "</div>\n",
              "      <button class=\"colab-df-convert\" onclick=\"convertToInteractive('df-b71029c7-3bda-4ea5-a3bc-6a684ba33a17')\"\n",
              "              title=\"Convert this dataframe to an interactive table.\"\n",
              "              style=\"display:none;\">\n",
              "        \n",
              "  <svg xmlns=\"http://www.w3.org/2000/svg\" height=\"24px\"viewBox=\"0 0 24 24\"\n",
              "       width=\"24px\">\n",
              "    <path d=\"M0 0h24v24H0V0z\" fill=\"none\"/>\n",
              "    <path d=\"M18.56 5.44l.94 2.06.94-2.06 2.06-.94-2.06-.94-.94-2.06-.94 2.06-2.06.94zm-11 1L8.5 8.5l.94-2.06 2.06-.94-2.06-.94L8.5 2.5l-.94 2.06-2.06.94zm10 10l.94 2.06.94-2.06 2.06-.94-2.06-.94-.94-2.06-.94 2.06-2.06.94z\"/><path d=\"M17.41 7.96l-1.37-1.37c-.4-.4-.92-.59-1.43-.59-.52 0-1.04.2-1.43.59L10.3 9.45l-7.72 7.72c-.78.78-.78 2.05 0 2.83L4 21.41c.39.39.9.59 1.41.59.51 0 1.02-.2 1.41-.59l7.78-7.78 2.81-2.81c.8-.78.8-2.07 0-2.86zM5.41 20L4 18.59l7.72-7.72 1.47 1.35L5.41 20z\"/>\n",
              "  </svg>\n",
              "      </button>\n",
              "      \n",
              "  <style>\n",
              "    .colab-df-container {\n",
              "      display:flex;\n",
              "      flex-wrap:wrap;\n",
              "      gap: 12px;\n",
              "    }\n",
              "\n",
              "    .colab-df-convert {\n",
              "      background-color: #E8F0FE;\n",
              "      border: none;\n",
              "      border-radius: 50%;\n",
              "      cursor: pointer;\n",
              "      display: none;\n",
              "      fill: #1967D2;\n",
              "      height: 32px;\n",
              "      padding: 0 0 0 0;\n",
              "      width: 32px;\n",
              "    }\n",
              "\n",
              "    .colab-df-convert:hover {\n",
              "      background-color: #E2EBFA;\n",
              "      box-shadow: 0px 1px 2px rgba(60, 64, 67, 0.3), 0px 1px 3px 1px rgba(60, 64, 67, 0.15);\n",
              "      fill: #174EA6;\n",
              "    }\n",
              "\n",
              "    [theme=dark] .colab-df-convert {\n",
              "      background-color: #3B4455;\n",
              "      fill: #D2E3FC;\n",
              "    }\n",
              "\n",
              "    [theme=dark] .colab-df-convert:hover {\n",
              "      background-color: #434B5C;\n",
              "      box-shadow: 0px 1px 3px 1px rgba(0, 0, 0, 0.15);\n",
              "      filter: drop-shadow(0px 1px 2px rgba(0, 0, 0, 0.3));\n",
              "      fill: #FFFFFF;\n",
              "    }\n",
              "  </style>\n",
              "\n",
              "      <script>\n",
              "        const buttonEl =\n",
              "          document.querySelector('#df-b71029c7-3bda-4ea5-a3bc-6a684ba33a17 button.colab-df-convert');\n",
              "        buttonEl.style.display =\n",
              "          google.colab.kernel.accessAllowed ? 'block' : 'none';\n",
              "\n",
              "        async function convertToInteractive(key) {\n",
              "          const element = document.querySelector('#df-b71029c7-3bda-4ea5-a3bc-6a684ba33a17');\n",
              "          const dataTable =\n",
              "            await google.colab.kernel.invokeFunction('convertToInteractive',\n",
              "                                                     [key], {});\n",
              "          if (!dataTable) return;\n",
              "\n",
              "          const docLinkHtml = 'Like what you see? Visit the ' +\n",
              "            '<a target=\"_blank\" href=https://colab.research.google.com/notebooks/data_table.ipynb>data table notebook</a>'\n",
              "            + ' to learn more about interactive tables.';\n",
              "          element.innerHTML = '';\n",
              "          dataTable['output_type'] = 'display_data';\n",
              "          await google.colab.output.renderOutput(dataTable, element);\n",
              "          const docLink = document.createElement('div');\n",
              "          docLink.innerHTML = docLinkHtml;\n",
              "          element.appendChild(docLink);\n",
              "        }\n",
              "      </script>\n",
              "    </div>\n",
              "  </div>\n",
              "  "
            ]
          },
          "metadata": {},
          "execution_count": 7
        }
      ]
    },
    {
      "cell_type": "markdown",
      "metadata": {
        "id": "civD_8Hx4K4-"
      },
      "source": [
        "## Exploratory Data Analysis 💡"
      ]
    },
    {
      "cell_type": "markdown",
      "metadata": {
        "id": "WRbtOjFu4L4M"
      },
      "source": [
        "Let's take a look at the datafame's properties for a better understanding to know what needs to be done. To do so, we can use the `info()` method which gives us the number of columns, **columns names** and their **data types** all together."
      ]
    },
    {
      "cell_type": "code",
      "metadata": {
        "colab": {
          "base_uri": "https://localhost:8080/"
        },
        "id": "sImRm6anI3Va",
        "outputId": "ac715e33-1c4c-4e8e-a785-4ef79efcaa96"
      },
      "source": [
        "data.info()"
      ],
      "execution_count": 8,
      "outputs": [
        {
          "output_type": "stream",
          "name": "stdout",
          "text": [
            "<class 'pandas.core.frame.DataFrame'>\n",
            "Int64Index: 92 entries, 0 to 91\n",
            "Data columns (total 6 columns):\n",
            " #   Column    Non-Null Count  Dtype \n",
            "---  ------    --------------  ----- \n",
            " 0   title     92 non-null     object\n",
            " 1   views     92 non-null     int64 \n",
            " 2   year      92 non-null     int64 \n",
            " 3   length    92 non-null     object\n",
            " 4   likes     92 non-null     int64 \n",
            " 5   dislikes  92 non-null     int64 \n",
            "dtypes: int64(4), object(2)\n",
            "memory usage: 5.0+ KB\n"
          ]
        }
      ]
    },
    {
      "cell_type": "code",
      "metadata": {
        "colab": {
          "base_uri": "https://localhost:8080/"
        },
        "id": "sp7Mglp2I94k",
        "outputId": "7013a1aa-5b63-467c-f169-10bc6f5e698b"
      },
      "source": [
        "data.shape\n",
        "\n",
        "print(\"The Dataset has\", data.shape[0],\"rows with\", data.shape[1],\"features\")"
      ],
      "execution_count": 9,
      "outputs": [
        {
          "output_type": "stream",
          "name": "stdout",
          "text": [
            "The Dataset has 92 rows with 6 features\n"
          ]
        }
      ]
    },
    {
      "cell_type": "code",
      "source": [
        "data.describe().T"
      ],
      "metadata": {
        "colab": {
          "base_uri": "https://localhost:8080/",
          "height": 175
        },
        "id": "jlaFfc07P4WX",
        "outputId": "9cd553b9-e282-455d-8590-2296c3e546f1"
      },
      "execution_count": 10,
      "outputs": [
        {
          "output_type": "execute_result",
          "data": {
            "text/plain": [
              "          count          mean           std      min        25%        50%  \\\n",
              "views      92.0  4.773642e+06  8.383880e+06  47082.0  661099.50  1715757.0   \n",
              "year       92.0  2.017609e+03  1.670405e+00   2015.0    2016.00     2018.0   \n",
              "likes      92.0  6.649529e+04  1.203502e+05   1510.0    9971.25    29532.5   \n",
              "dislikes   92.0  8.634130e+03  2.347569e+04     55.0     607.00     1645.0   \n",
              "\n",
              "                 75%         max  \n",
              "views     4372855.00  44005544.0  \n",
              "year         2019.00      2020.0  \n",
              "likes       59178.00    729024.0  \n",
              "dislikes     5667.75    194847.0  "
            ],
            "text/html": [
              "\n",
              "  <div id=\"df-1e34c817-5dbe-4b49-a44d-f704d95cb8f7\">\n",
              "    <div class=\"colab-df-container\">\n",
              "      <div>\n",
              "<style scoped>\n",
              "    .dataframe tbody tr th:only-of-type {\n",
              "        vertical-align: middle;\n",
              "    }\n",
              "\n",
              "    .dataframe tbody tr th {\n",
              "        vertical-align: top;\n",
              "    }\n",
              "\n",
              "    .dataframe thead th {\n",
              "        text-align: right;\n",
              "    }\n",
              "</style>\n",
              "<table border=\"1\" class=\"dataframe\">\n",
              "  <thead>\n",
              "    <tr style=\"text-align: right;\">\n",
              "      <th></th>\n",
              "      <th>count</th>\n",
              "      <th>mean</th>\n",
              "      <th>std</th>\n",
              "      <th>min</th>\n",
              "      <th>25%</th>\n",
              "      <th>50%</th>\n",
              "      <th>75%</th>\n",
              "      <th>max</th>\n",
              "    </tr>\n",
              "  </thead>\n",
              "  <tbody>\n",
              "    <tr>\n",
              "      <th>views</th>\n",
              "      <td>92.0</td>\n",
              "      <td>4.773642e+06</td>\n",
              "      <td>8.383880e+06</td>\n",
              "      <td>47082.0</td>\n",
              "      <td>661099.50</td>\n",
              "      <td>1715757.0</td>\n",
              "      <td>4372855.00</td>\n",
              "      <td>44005544.0</td>\n",
              "    </tr>\n",
              "    <tr>\n",
              "      <th>year</th>\n",
              "      <td>92.0</td>\n",
              "      <td>2.017609e+03</td>\n",
              "      <td>1.670405e+00</td>\n",
              "      <td>2015.0</td>\n",
              "      <td>2016.00</td>\n",
              "      <td>2018.0</td>\n",
              "      <td>2019.00</td>\n",
              "      <td>2020.0</td>\n",
              "    </tr>\n",
              "    <tr>\n",
              "      <th>likes</th>\n",
              "      <td>92.0</td>\n",
              "      <td>6.649529e+04</td>\n",
              "      <td>1.203502e+05</td>\n",
              "      <td>1510.0</td>\n",
              "      <td>9971.25</td>\n",
              "      <td>29532.5</td>\n",
              "      <td>59178.00</td>\n",
              "      <td>729024.0</td>\n",
              "    </tr>\n",
              "    <tr>\n",
              "      <th>dislikes</th>\n",
              "      <td>92.0</td>\n",
              "      <td>8.634130e+03</td>\n",
              "      <td>2.347569e+04</td>\n",
              "      <td>55.0</td>\n",
              "      <td>607.00</td>\n",
              "      <td>1645.0</td>\n",
              "      <td>5667.75</td>\n",
              "      <td>194847.0</td>\n",
              "    </tr>\n",
              "  </tbody>\n",
              "</table>\n",
              "</div>\n",
              "      <button class=\"colab-df-convert\" onclick=\"convertToInteractive('df-1e34c817-5dbe-4b49-a44d-f704d95cb8f7')\"\n",
              "              title=\"Convert this dataframe to an interactive table.\"\n",
              "              style=\"display:none;\">\n",
              "        \n",
              "  <svg xmlns=\"http://www.w3.org/2000/svg\" height=\"24px\"viewBox=\"0 0 24 24\"\n",
              "       width=\"24px\">\n",
              "    <path d=\"M0 0h24v24H0V0z\" fill=\"none\"/>\n",
              "    <path d=\"M18.56 5.44l.94 2.06.94-2.06 2.06-.94-2.06-.94-.94-2.06-.94 2.06-2.06.94zm-11 1L8.5 8.5l.94-2.06 2.06-.94-2.06-.94L8.5 2.5l-.94 2.06-2.06.94zm10 10l.94 2.06.94-2.06 2.06-.94-2.06-.94-.94-2.06-.94 2.06-2.06.94z\"/><path d=\"M17.41 7.96l-1.37-1.37c-.4-.4-.92-.59-1.43-.59-.52 0-1.04.2-1.43.59L10.3 9.45l-7.72 7.72c-.78.78-.78 2.05 0 2.83L4 21.41c.39.39.9.59 1.41.59.51 0 1.02-.2 1.41-.59l7.78-7.78 2.81-2.81c.8-.78.8-2.07 0-2.86zM5.41 20L4 18.59l7.72-7.72 1.47 1.35L5.41 20z\"/>\n",
              "  </svg>\n",
              "      </button>\n",
              "      \n",
              "  <style>\n",
              "    .colab-df-container {\n",
              "      display:flex;\n",
              "      flex-wrap:wrap;\n",
              "      gap: 12px;\n",
              "    }\n",
              "\n",
              "    .colab-df-convert {\n",
              "      background-color: #E8F0FE;\n",
              "      border: none;\n",
              "      border-radius: 50%;\n",
              "      cursor: pointer;\n",
              "      display: none;\n",
              "      fill: #1967D2;\n",
              "      height: 32px;\n",
              "      padding: 0 0 0 0;\n",
              "      width: 32px;\n",
              "    }\n",
              "\n",
              "    .colab-df-convert:hover {\n",
              "      background-color: #E2EBFA;\n",
              "      box-shadow: 0px 1px 2px rgba(60, 64, 67, 0.3), 0px 1px 3px 1px rgba(60, 64, 67, 0.15);\n",
              "      fill: #174EA6;\n",
              "    }\n",
              "\n",
              "    [theme=dark] .colab-df-convert {\n",
              "      background-color: #3B4455;\n",
              "      fill: #D2E3FC;\n",
              "    }\n",
              "\n",
              "    [theme=dark] .colab-df-convert:hover {\n",
              "      background-color: #434B5C;\n",
              "      box-shadow: 0px 1px 3px 1px rgba(0, 0, 0, 0.15);\n",
              "      filter: drop-shadow(0px 1px 2px rgba(0, 0, 0, 0.3));\n",
              "      fill: #FFFFFF;\n",
              "    }\n",
              "  </style>\n",
              "\n",
              "      <script>\n",
              "        const buttonEl =\n",
              "          document.querySelector('#df-1e34c817-5dbe-4b49-a44d-f704d95cb8f7 button.colab-df-convert');\n",
              "        buttonEl.style.display =\n",
              "          google.colab.kernel.accessAllowed ? 'block' : 'none';\n",
              "\n",
              "        async function convertToInteractive(key) {\n",
              "          const element = document.querySelector('#df-1e34c817-5dbe-4b49-a44d-f704d95cb8f7');\n",
              "          const dataTable =\n",
              "            await google.colab.kernel.invokeFunction('convertToInteractive',\n",
              "                                                     [key], {});\n",
              "          if (!dataTable) return;\n",
              "\n",
              "          const docLinkHtml = 'Like what you see? Visit the ' +\n",
              "            '<a target=\"_blank\" href=https://colab.research.google.com/notebooks/data_table.ipynb>data table notebook</a>'\n",
              "            + ' to learn more about interactive tables.';\n",
              "          element.innerHTML = '';\n",
              "          dataTable['output_type'] = 'display_data';\n",
              "          await google.colab.output.renderOutput(dataTable, element);\n",
              "          const docLink = document.createElement('div');\n",
              "          docLink.innerHTML = docLinkHtml;\n",
              "          element.appendChild(docLink);\n",
              "        }\n",
              "      </script>\n",
              "    </div>\n",
              "  </div>\n",
              "  "
            ]
          },
          "metadata": {},
          "execution_count": 10
        }
      ]
    },
    {
      "cell_type": "code",
      "metadata": {
        "id": "Hik8cI-4O1XI",
        "colab": {
          "base_uri": "https://localhost:8080/"
        },
        "outputId": "8cf2a868-daf9-46bd-c7ca-97261ec703a9"
      },
      "source": [
        "data.nunique()"
      ],
      "execution_count": 11,
      "outputs": [
        {
          "output_type": "execute_result",
          "data": {
            "text/plain": [
              "title       88\n",
              "views       92\n",
              "year         6\n",
              "length      77\n",
              "likes       92\n",
              "dislikes    92\n",
              "dtype: int64"
            ]
          },
          "metadata": {},
          "execution_count": 11
        }
      ]
    },
    {
      "cell_type": "markdown",
      "source": [
        "## Data Pre-processing 🧼"
      ],
      "metadata": {
        "id": "dYkJ4pf4npkq"
      }
    },
    {
      "cell_type": "code",
      "source": [
        "data['length'] = pd.to_datetime(data['length'], format=\"%H:%M:%S\")\n",
        "data.info()"
      ],
      "metadata": {
        "colab": {
          "base_uri": "https://localhost:8080/"
        },
        "id": "aGLroq2rbXHr",
        "outputId": "1a49a694-debb-461f-dca9-0f6f3f6587b7"
      },
      "execution_count": 38,
      "outputs": [
        {
          "output_type": "stream",
          "name": "stdout",
          "text": [
            "<class 'pandas.core.frame.DataFrame'>\n",
            "Int64Index: 92 entries, 0 to 91\n",
            "Data columns (total 8 columns):\n",
            " #   Column        Non-Null Count  Dtype         \n",
            "---  ------        --------------  -----         \n",
            " 0   title         92 non-null     object        \n",
            " 1   Freestyler A  92 non-null     object        \n",
            " 2   Freestyler B  92 non-null     object        \n",
            " 3   views         92 non-null     int64         \n",
            " 4   year          92 non-null     int64         \n",
            " 5   length        92 non-null     datetime64[ns]\n",
            " 6   likes         92 non-null     int64         \n",
            " 7   dislikes      92 non-null     int64         \n",
            "dtypes: datetime64[ns](1), int64(4), object(3)\n",
            "memory usage: 6.5+ KB\n"
          ]
        }
      ]
    },
    {
      "cell_type": "code",
      "source": [
        "# https://note.nkmk.me/en/python-str-replace-translate-re-sub/\n",
        "data['title'] = [i.replace('VALLEST', 'VALLES-T').replace('VALLES T', 'VALLES-T') for i in data['title']]\n",
        "# data['title'].head()\n",
        "data['title'][data['title'].str.contains('VALLES')]"
      ],
      "metadata": {
        "colab": {
          "base_uri": "https://localhost:8080/"
        },
        "id": "GO-jKIGAqMu8",
        "outputId": "6b424dba-da88-4ce3-c99d-64d3d3e8f09d"
      },
      "execution_count": 85,
      "outputs": [
        {
          "output_type": "execute_result",
          "data": {
            "text/plain": [
              "id\n",
              "10    BNET vs VALLES-T - Octavos | Red Bull Internac...\n",
              "17    BNET vs VALLES-T - Final | Red Bull Internacio...\n",
              "19    VALLES-T vs CHANG - Octavos | Red Bull Interna...\n",
              "25    VALLES-T vs JOKKER - Cuartos | Red Bull Intern...\n",
              "30    VALLES-T vs ACZINO - Semifinal | Red Bull Inte...\n",
              "35                              VALLES-T vs PEPE GRILLO\n",
              "38                                     VALLES-T vs BNET\n",
              "40                                      VALLES-T vs KDT\n",
              "46                                      VALLES-T vs WOS\n",
              "66                                VALLES-T vs CIUDADANO\n",
              "72                                     JOTA vs VALLES-T\n",
              "Name: title, dtype: object"
            ]
          },
          "metadata": {},
          "execution_count": 85
        }
      ]
    },
    {
      "cell_type": "markdown",
      "metadata": {
        "id": "h7yoEKfEN2YR"
      },
      "source": [
        "## Feature Engineering 🏗️"
      ]
    },
    {
      "cell_type": "code",
      "metadata": {
        "colab": {
          "base_uri": "https://localhost:8080/",
          "height": 238
        },
        "id": "6uuzl-WaOAun",
        "outputId": "bd90922b-d873-4694-a651-fbcafcf9741f"
      },
      "source": [
        "data['Freestyler A'] = [i.lower().split(' vs ')[0].strip().title() for i in data['title']]\n",
        "data['Freestyler B'] = [i.lower().split(' vs ')[-1].strip().title() for i in data['title']]\n",
        "\n",
        "#Moving the columns position\n",
        "data.columns.tolist()\n",
        "\n",
        "data = data[['title', 'Freestyler A', 'Freestyler B', 'views', 'year', 'length', 'likes', 'dislikes']]\n",
        "\n",
        "data.sample(5)"
      ],
      "execution_count": 86,
      "outputs": [
        {
          "output_type": "execute_result",
          "data": {
            "text/plain": [
              "                    title     Freestyler A     Freestyler B     views  year  \\\n",
              "id                                                                            \n",
              "29         BNET vs YARTZI             Bnet           Yartzi    662620  2019   \n",
              "66  VALLES-T vs CIUDADANO         Valles-T        Ciudadano   1101081  2016   \n",
              "34         BNET vs ARKANO             Bnet           Arkano   3506340  2018   \n",
              "48        G vs. EL TANQUE  G Vs. El Tanque  G Vs. El Tanque    253069  2017   \n",
              "68  JONY BELTRAN vs CHUTY     Jony Beltran            Chuty  13138438  2016   \n",
              "\n",
              "                length   likes  dislikes  \n",
              "id                                        \n",
              "29 1900-01-01 00:06:22   13225       411  \n",
              "66 1900-01-01 00:04:49   11418       311  \n",
              "34 1900-01-01 00:07:17   58063      1371  \n",
              "48 1900-01-01 00:05:08    3640       424  \n",
              "68 1900-01-01 00:07:09  182494     11726  "
            ],
            "text/html": [
              "\n",
              "  <div id=\"df-9fbfcbf6-05e4-43d9-90cc-827b471b581f\">\n",
              "    <div class=\"colab-df-container\">\n",
              "      <div>\n",
              "<style scoped>\n",
              "    .dataframe tbody tr th:only-of-type {\n",
              "        vertical-align: middle;\n",
              "    }\n",
              "\n",
              "    .dataframe tbody tr th {\n",
              "        vertical-align: top;\n",
              "    }\n",
              "\n",
              "    .dataframe thead th {\n",
              "        text-align: right;\n",
              "    }\n",
              "</style>\n",
              "<table border=\"1\" class=\"dataframe\">\n",
              "  <thead>\n",
              "    <tr style=\"text-align: right;\">\n",
              "      <th></th>\n",
              "      <th>title</th>\n",
              "      <th>Freestyler A</th>\n",
              "      <th>Freestyler B</th>\n",
              "      <th>views</th>\n",
              "      <th>year</th>\n",
              "      <th>length</th>\n",
              "      <th>likes</th>\n",
              "      <th>dislikes</th>\n",
              "    </tr>\n",
              "    <tr>\n",
              "      <th>id</th>\n",
              "      <th></th>\n",
              "      <th></th>\n",
              "      <th></th>\n",
              "      <th></th>\n",
              "      <th></th>\n",
              "      <th></th>\n",
              "      <th></th>\n",
              "      <th></th>\n",
              "    </tr>\n",
              "  </thead>\n",
              "  <tbody>\n",
              "    <tr>\n",
              "      <th>29</th>\n",
              "      <td>BNET vs YARTZI</td>\n",
              "      <td>Bnet</td>\n",
              "      <td>Yartzi</td>\n",
              "      <td>662620</td>\n",
              "      <td>2019</td>\n",
              "      <td>1900-01-01 00:06:22</td>\n",
              "      <td>13225</td>\n",
              "      <td>411</td>\n",
              "    </tr>\n",
              "    <tr>\n",
              "      <th>66</th>\n",
              "      <td>VALLES-T vs CIUDADANO</td>\n",
              "      <td>Valles-T</td>\n",
              "      <td>Ciudadano</td>\n",
              "      <td>1101081</td>\n",
              "      <td>2016</td>\n",
              "      <td>1900-01-01 00:04:49</td>\n",
              "      <td>11418</td>\n",
              "      <td>311</td>\n",
              "    </tr>\n",
              "    <tr>\n",
              "      <th>34</th>\n",
              "      <td>BNET vs ARKANO</td>\n",
              "      <td>Bnet</td>\n",
              "      <td>Arkano</td>\n",
              "      <td>3506340</td>\n",
              "      <td>2018</td>\n",
              "      <td>1900-01-01 00:07:17</td>\n",
              "      <td>58063</td>\n",
              "      <td>1371</td>\n",
              "    </tr>\n",
              "    <tr>\n",
              "      <th>48</th>\n",
              "      <td>G vs. EL TANQUE</td>\n",
              "      <td>G Vs. El Tanque</td>\n",
              "      <td>G Vs. El Tanque</td>\n",
              "      <td>253069</td>\n",
              "      <td>2017</td>\n",
              "      <td>1900-01-01 00:05:08</td>\n",
              "      <td>3640</td>\n",
              "      <td>424</td>\n",
              "    </tr>\n",
              "    <tr>\n",
              "      <th>68</th>\n",
              "      <td>JONY BELTRAN vs CHUTY</td>\n",
              "      <td>Jony Beltran</td>\n",
              "      <td>Chuty</td>\n",
              "      <td>13138438</td>\n",
              "      <td>2016</td>\n",
              "      <td>1900-01-01 00:07:09</td>\n",
              "      <td>182494</td>\n",
              "      <td>11726</td>\n",
              "    </tr>\n",
              "  </tbody>\n",
              "</table>\n",
              "</div>\n",
              "      <button class=\"colab-df-convert\" onclick=\"convertToInteractive('df-9fbfcbf6-05e4-43d9-90cc-827b471b581f')\"\n",
              "              title=\"Convert this dataframe to an interactive table.\"\n",
              "              style=\"display:none;\">\n",
              "        \n",
              "  <svg xmlns=\"http://www.w3.org/2000/svg\" height=\"24px\"viewBox=\"0 0 24 24\"\n",
              "       width=\"24px\">\n",
              "    <path d=\"M0 0h24v24H0V0z\" fill=\"none\"/>\n",
              "    <path d=\"M18.56 5.44l.94 2.06.94-2.06 2.06-.94-2.06-.94-.94-2.06-.94 2.06-2.06.94zm-11 1L8.5 8.5l.94-2.06 2.06-.94-2.06-.94L8.5 2.5l-.94 2.06-2.06.94zm10 10l.94 2.06.94-2.06 2.06-.94-2.06-.94-.94-2.06-.94 2.06-2.06.94z\"/><path d=\"M17.41 7.96l-1.37-1.37c-.4-.4-.92-.59-1.43-.59-.52 0-1.04.2-1.43.59L10.3 9.45l-7.72 7.72c-.78.78-.78 2.05 0 2.83L4 21.41c.39.39.9.59 1.41.59.51 0 1.02-.2 1.41-.59l7.78-7.78 2.81-2.81c.8-.78.8-2.07 0-2.86zM5.41 20L4 18.59l7.72-7.72 1.47 1.35L5.41 20z\"/>\n",
              "  </svg>\n",
              "      </button>\n",
              "      \n",
              "  <style>\n",
              "    .colab-df-container {\n",
              "      display:flex;\n",
              "      flex-wrap:wrap;\n",
              "      gap: 12px;\n",
              "    }\n",
              "\n",
              "    .colab-df-convert {\n",
              "      background-color: #E8F0FE;\n",
              "      border: none;\n",
              "      border-radius: 50%;\n",
              "      cursor: pointer;\n",
              "      display: none;\n",
              "      fill: #1967D2;\n",
              "      height: 32px;\n",
              "      padding: 0 0 0 0;\n",
              "      width: 32px;\n",
              "    }\n",
              "\n",
              "    .colab-df-convert:hover {\n",
              "      background-color: #E2EBFA;\n",
              "      box-shadow: 0px 1px 2px rgba(60, 64, 67, 0.3), 0px 1px 3px 1px rgba(60, 64, 67, 0.15);\n",
              "      fill: #174EA6;\n",
              "    }\n",
              "\n",
              "    [theme=dark] .colab-df-convert {\n",
              "      background-color: #3B4455;\n",
              "      fill: #D2E3FC;\n",
              "    }\n",
              "\n",
              "    [theme=dark] .colab-df-convert:hover {\n",
              "      background-color: #434B5C;\n",
              "      box-shadow: 0px 1px 3px 1px rgba(0, 0, 0, 0.15);\n",
              "      filter: drop-shadow(0px 1px 2px rgba(0, 0, 0, 0.3));\n",
              "      fill: #FFFFFF;\n",
              "    }\n",
              "  </style>\n",
              "\n",
              "      <script>\n",
              "        const buttonEl =\n",
              "          document.querySelector('#df-9fbfcbf6-05e4-43d9-90cc-827b471b581f button.colab-df-convert');\n",
              "        buttonEl.style.display =\n",
              "          google.colab.kernel.accessAllowed ? 'block' : 'none';\n",
              "\n",
              "        async function convertToInteractive(key) {\n",
              "          const element = document.querySelector('#df-9fbfcbf6-05e4-43d9-90cc-827b471b581f');\n",
              "          const dataTable =\n",
              "            await google.colab.kernel.invokeFunction('convertToInteractive',\n",
              "                                                     [key], {});\n",
              "          if (!dataTable) return;\n",
              "\n",
              "          const docLinkHtml = 'Like what you see? Visit the ' +\n",
              "            '<a target=\"_blank\" href=https://colab.research.google.com/notebooks/data_table.ipynb>data table notebook</a>'\n",
              "            + ' to learn more about interactive tables.';\n",
              "          element.innerHTML = '';\n",
              "          dataTable['output_type'] = 'display_data';\n",
              "          await google.colab.output.renderOutput(dataTable, element);\n",
              "          const docLink = document.createElement('div');\n",
              "          docLink.innerHTML = docLinkHtml;\n",
              "          element.appendChild(docLink);\n",
              "        }\n",
              "      </script>\n",
              "    </div>\n",
              "  </div>\n",
              "  "
            ]
          },
          "metadata": {},
          "execution_count": 86
        }
      ]
    },
    {
      "cell_type": "code",
      "source": [
        "A = data['Freestyler A']\n",
        "B = data['Freestyler B']\n",
        "\n",
        "outcome = pd.concat(A, B)\n",
        "outcome"
      ],
      "metadata": {
        "colab": {
          "base_uri": "https://localhost:8080/",
          "height": 398
        },
        "id": "f6Q7DhYu4ls1",
        "outputId": "901c997d-62c5-4f26-a52a-5787195a1178"
      },
      "execution_count": 93,
      "outputs": [
        {
          "output_type": "stream",
          "name": "stderr",
          "text": [
            "/usr/local/lib/python3.7/dist-packages/ipykernel_launcher.py:4: FutureWarning: In a future version of pandas all arguments of concat except for the argument 'objs' will be keyword-only\n",
            "  after removing the cwd from sys.path.\n"
          ]
        },
        {
          "output_type": "error",
          "ename": "TypeError",
          "evalue": "ignored",
          "traceback": [
            "\u001b[0;31m---------------------------------------------------------------------------\u001b[0m",
            "\u001b[0;31mTypeError\u001b[0m                                 Traceback (most recent call last)",
            "\u001b[0;32m<ipython-input-93-e5400fada0bd>\u001b[0m in \u001b[0;36m<module>\u001b[0;34m\u001b[0m\n\u001b[1;32m      2\u001b[0m \u001b[0mB\u001b[0m \u001b[0;34m=\u001b[0m \u001b[0mdata\u001b[0m\u001b[0;34m[\u001b[0m\u001b[0;34m'Freestyler B'\u001b[0m\u001b[0;34m]\u001b[0m\u001b[0;34m\u001b[0m\u001b[0;34m\u001b[0m\u001b[0m\n\u001b[1;32m      3\u001b[0m \u001b[0;34m\u001b[0m\u001b[0m\n\u001b[0;32m----> 4\u001b[0;31m \u001b[0moutcome\u001b[0m \u001b[0;34m=\u001b[0m \u001b[0mpd\u001b[0m\u001b[0;34m.\u001b[0m\u001b[0mconcat\u001b[0m\u001b[0;34m(\u001b[0m\u001b[0mA\u001b[0m\u001b[0;34m,\u001b[0m \u001b[0mB\u001b[0m\u001b[0;34m)\u001b[0m\u001b[0;34m\u001b[0m\u001b[0;34m\u001b[0m\u001b[0m\n\u001b[0m\u001b[1;32m      5\u001b[0m \u001b[0moutcome\u001b[0m\u001b[0;34m\u001b[0m\u001b[0;34m\u001b[0m\u001b[0m\n",
            "\u001b[0;32m/usr/local/lib/python3.7/dist-packages/pandas/util/_decorators.py\u001b[0m in \u001b[0;36mwrapper\u001b[0;34m(*args, **kwargs)\u001b[0m\n\u001b[1;32m    309\u001b[0m                     \u001b[0mstacklevel\u001b[0m\u001b[0;34m=\u001b[0m\u001b[0mstacklevel\u001b[0m\u001b[0;34m,\u001b[0m\u001b[0;34m\u001b[0m\u001b[0;34m\u001b[0m\u001b[0m\n\u001b[1;32m    310\u001b[0m                 )\n\u001b[0;32m--> 311\u001b[0;31m             \u001b[0;32mreturn\u001b[0m \u001b[0mfunc\u001b[0m\u001b[0;34m(\u001b[0m\u001b[0;34m*\u001b[0m\u001b[0margs\u001b[0m\u001b[0;34m,\u001b[0m \u001b[0;34m**\u001b[0m\u001b[0mkwargs\u001b[0m\u001b[0;34m)\u001b[0m\u001b[0;34m\u001b[0m\u001b[0;34m\u001b[0m\u001b[0m\n\u001b[0m\u001b[1;32m    312\u001b[0m \u001b[0;34m\u001b[0m\u001b[0m\n\u001b[1;32m    313\u001b[0m         \u001b[0;32mreturn\u001b[0m \u001b[0mwrapper\u001b[0m\u001b[0;34m\u001b[0m\u001b[0;34m\u001b[0m\u001b[0m\n",
            "\u001b[0;32m/usr/local/lib/python3.7/dist-packages/pandas/core/reshape/concat.py\u001b[0m in \u001b[0;36mconcat\u001b[0;34m(objs, axis, join, ignore_index, keys, levels, names, verify_integrity, sort, copy)\u001b[0m\n\u001b[1;32m    302\u001b[0m         \u001b[0mverify_integrity\u001b[0m\u001b[0;34m=\u001b[0m\u001b[0mverify_integrity\u001b[0m\u001b[0;34m,\u001b[0m\u001b[0;34m\u001b[0m\u001b[0;34m\u001b[0m\u001b[0m\n\u001b[1;32m    303\u001b[0m         \u001b[0mcopy\u001b[0m\u001b[0;34m=\u001b[0m\u001b[0mcopy\u001b[0m\u001b[0;34m,\u001b[0m\u001b[0;34m\u001b[0m\u001b[0;34m\u001b[0m\u001b[0m\n\u001b[0;32m--> 304\u001b[0;31m         \u001b[0msort\u001b[0m\u001b[0;34m=\u001b[0m\u001b[0msort\u001b[0m\u001b[0;34m,\u001b[0m\u001b[0;34m\u001b[0m\u001b[0;34m\u001b[0m\u001b[0m\n\u001b[0m\u001b[1;32m    305\u001b[0m     )\n\u001b[1;32m    306\u001b[0m \u001b[0;34m\u001b[0m\u001b[0m\n",
            "\u001b[0;32m/usr/local/lib/python3.7/dist-packages/pandas/core/reshape/concat.py\u001b[0m in \u001b[0;36m__init__\u001b[0;34m(self, objs, axis, join, keys, levels, names, ignore_index, verify_integrity, copy, sort)\u001b[0m\n\u001b[1;32m    328\u001b[0m         \u001b[0;32mif\u001b[0m \u001b[0misinstance\u001b[0m\u001b[0;34m(\u001b[0m\u001b[0mobjs\u001b[0m\u001b[0;34m,\u001b[0m \u001b[0;34m(\u001b[0m\u001b[0mABCSeries\u001b[0m\u001b[0;34m,\u001b[0m \u001b[0mABCDataFrame\u001b[0m\u001b[0;34m,\u001b[0m \u001b[0mstr\u001b[0m\u001b[0;34m)\u001b[0m\u001b[0;34m)\u001b[0m\u001b[0;34m:\u001b[0m\u001b[0;34m\u001b[0m\u001b[0;34m\u001b[0m\u001b[0m\n\u001b[1;32m    329\u001b[0m             raise TypeError(\n\u001b[0;32m--> 330\u001b[0;31m                 \u001b[0;34m\"first argument must be an iterable of pandas \"\u001b[0m\u001b[0;34m\u001b[0m\u001b[0;34m\u001b[0m\u001b[0m\n\u001b[0m\u001b[1;32m    331\u001b[0m                 \u001b[0;34mf'objects, you passed an object of type \"{type(objs).__name__}\"'\u001b[0m\u001b[0;34m\u001b[0m\u001b[0;34m\u001b[0m\u001b[0m\n\u001b[1;32m    332\u001b[0m             )\n",
            "\u001b[0;31mTypeError\u001b[0m: first argument must be an iterable of pandas objects, you passed an object of type \"Series\""
          ]
        }
      ]
    },
    {
      "cell_type": "markdown",
      "source": [
        "## Let's Analyze each Feature\n",
        "Univariate Analysis"
      ],
      "metadata": {
        "id": "xkyRiTg0RvQ6"
      }
    },
    {
      "cell_type": "code",
      "metadata": {
        "id": "D9hrDvl7nsb9",
        "colab": {
          "base_uri": "https://localhost:8080/",
          "height": 391
        },
        "outputId": "ff1ceaa0-0536-4081-b28f-20e60a6086cd"
      },
      "source": [
        "customHistSettings(figW=9)\n",
        "\n",
        "g=sns.histplot(data.views, bins=25, kde=True, stat='density', linewidth=0, color='blue')\n",
        "plt.xlabel('Views')\n",
        "plt.title('Distribution of Views')\n",
        "\n",
        "xlabels = ['{:,.0f}'.format(x) + 'M' for x in g.get_xticks()/(1000000)]\n",
        "g.set_xticklabels(xlabels)\n",
        "\n",
        "#Plooting the median\n",
        "mean = data.views.median()\n",
        "mean\n",
        "plt.axvline(mean, 0, 1, color='green')"
      ],
      "execution_count": 42,
      "outputs": [
        {
          "output_type": "execute_result",
          "data": {
            "text/plain": [
              "<matplotlib.lines.Line2D at 0x7f6d03496890>"
            ]
          },
          "metadata": {},
          "execution_count": 42
        },
        {
          "output_type": "display_data",
          "data": {
            "text/plain": [
              "<Figure size 648x360 with 1 Axes>"
            ],
            "image/png": "[encoded data removed]"
          },
          "metadata": {}
        }
      ]
    },
    {
      "cell_type": "code",
      "source": [
        "customHistSettings(figW=9)\n",
        "\n",
        "g=sns.histplot(data.likes, bins=25, kde=True, stat='density', linewidth=0, color='blue')\n",
        "plt.xlabel('Likes')\n",
        "plt.title('Distribution of Likes')\n",
        "\n",
        "xlabels = ['{:,.0f}'.format(x) + 'K' for x in g.get_xticks()/1000]\n",
        "g.set_xticklabels(xlabels)\n",
        "\n",
        "#Plooting the median\n",
        "mean = data.likes.median()\n",
        "mean\n",
        "plt.axvline(mean, 0, 1, color='green')"
      ],
      "metadata": {
        "colab": {
          "base_uri": "https://localhost:8080/",
          "height": 388
        },
        "id": "oqXRdQlUWvyV",
        "outputId": "21023269-d37a-461f-d830-e96997b54d5d"
      },
      "execution_count": 43,
      "outputs": [
        {
          "output_type": "execute_result",
          "data": {
            "text/plain": [
              "<matplotlib.lines.Line2D at 0x7f6d033f3950>"
            ]
          },
          "metadata": {},
          "execution_count": 43
        },
        {
          "output_type": "display_data",
          "data": {
            "text/plain": [
              "<Figure size 648x360 with 1 Axes>"
            ],
            "image/png": "[encoded data removed]"
          },
          "metadata": {}
        }
      ]
    },
    {
      "cell_type": "code",
      "source": [
        "customHistSettings(figW=9)\n",
        "\n",
        "g=sns.histplot(data.dislikes, bins=25, kde=True, stat='density', linewidth=0, color='blue')\n",
        "plt.xlabel('Dislikes')\n",
        "plt.title('Distribution of Dislikes')\n",
        "\n",
        "xlabels = ['{:,.0f}'.format(x) + 'K' for x in g.get_xticks()/1000]\n",
        "g.set_xticklabels(xlabels)\n",
        "\n",
        "#Plooting the median\n",
        "mean = data.dislikes.median()\n",
        "mean\n",
        "plt.axvline(mean, 0, 1, color='green')"
      ],
      "metadata": {
        "colab": {
          "base_uri": "https://localhost:8080/",
          "height": 388
        },
        "id": "MDLidtAWWCFz",
        "outputId": "ea1c637e-f3b2-4640-e82b-1e4294cd2c28"
      },
      "execution_count": 44,
      "outputs": [
        {
          "output_type": "execute_result",
          "data": {
            "text/plain": [
              "<matplotlib.lines.Line2D at 0x7f6d03314950>"
            ]
          },
          "metadata": {},
          "execution_count": 44
        },
        {
          "output_type": "display_data",
          "data": {
            "text/plain": [
              "<Figure size 648x360 with 1 Axes>"
            ],
            "image/png": "[encoded data removed]"
          },
          "metadata": {}
        }
      ]
    },
    {
      "cell_type": "code",
      "source": [
        "g=sns.catplot(data=data, x='views', kind='violin')\n",
        "customPlotSettings(figW=9)\n",
        "# g.fig.set_figwidth(8)\n",
        "# g.fig.set_figheight(4)"
      ],
      "metadata": {
        "colab": {
          "base_uri": "https://localhost:8080/",
          "height": 362
        },
        "id": "14uRNGAwkaMj",
        "outputId": "1b2699ed-48d6-4019-c175-9190b0a7c345"
      },
      "execution_count": 63,
      "outputs": [
        {
          "output_type": "display_data",
          "data": {
            "text/plain": [
              "<Figure size 648x360 with 1 Axes>"
            ],
            "image/png": "[encoded data removed]"
          },
          "metadata": {}
        }
      ]
    },
    {
      "cell_type": "code",
      "source": [
        "data.head()"
      ],
      "metadata": {
        "colab": {
          "base_uri": "https://localhost:8080/",
          "height": 238
        },
        "id": "-lT3pgRYY6GF",
        "outputId": "c3002cf8-c828-4c3e-957f-d69faf15e14d"
      },
      "execution_count": 34,
      "outputs": [
        {
          "output_type": "execute_result",
          "data": {
            "text/plain": [
              "                      title   Freestyler A   Freestyler B   views  year  \\\n",
              "id                                                                        \n",
              "0   ACZINO vs EXODO LIRICAL         Aczino  Exodo Lirical  577503  2020   \n",
              "1   EXODO LIRICAL vs RAPDER  Exodo Lirical         Rapder  238463  2020   \n",
              "2           ACZINO vs SKONE         Aczino          Skone  756352  2020   \n",
              "3          RAPDER vs YARTZI         Rapder         Yartzi   47082  2020   \n",
              "4     EXODO LIRICAL vs BNET  Exodo Lirical           Bnet  685109  2020   \n",
              "\n",
              "      length  likes  dislikes  \n",
              "id                             \n",
              "0   00:06:16  14040       270  \n",
              "1   00:12:30   8135       927  \n",
              "2   00:10:06  18458      1146  \n",
              "3   00:06:46   1822       206  \n",
              "4   00:06:40  23202      1842  "
            ],
            "text/html": [
              "\n",
              "  <div id=\"df-36cbeb2b-cf3b-4f5d-8ed5-3f53873335bd\">\n",
              "    <div class=\"colab-df-container\">\n",
              "      <div>\n",
              "<style scoped>\n",
              "    .dataframe tbody tr th:only-of-type {\n",
              "        vertical-align: middle;\n",
              "    }\n",
              "\n",
              "    .dataframe tbody tr th {\n",
              "        vertical-align: top;\n",
              "    }\n",
              "\n",
              "    .dataframe thead th {\n",
              "        text-align: right;\n",
              "    }\n",
              "</style>\n",
              "<table border=\"1\" class=\"dataframe\">\n",
              "  <thead>\n",
              "    <tr style=\"text-align: right;\">\n",
              "      <th></th>\n",
              "      <th>title</th>\n",
              "      <th>Freestyler A</th>\n",
              "      <th>Freestyler B</th>\n",
              "      <th>views</th>\n",
              "      <th>year</th>\n",
              "      <th>length</th>\n",
              "      <th>likes</th>\n",
              "      <th>dislikes</th>\n",
              "    </tr>\n",
              "    <tr>\n",
              "      <th>id</th>\n",
              "      <th></th>\n",
              "      <th></th>\n",
              "      <th></th>\n",
              "      <th></th>\n",
              "      <th></th>\n",
              "      <th></th>\n",
              "      <th></th>\n",
              "      <th></th>\n",
              "    </tr>\n",
              "  </thead>\n",
              "  <tbody>\n",
              "    <tr>\n",
              "      <th>0</th>\n",
              "      <td>ACZINO vs EXODO LIRICAL</td>\n",
              "      <td>Aczino</td>\n",
              "      <td>Exodo Lirical</td>\n",
              "      <td>577503</td>\n",
              "      <td>2020</td>\n",
              "      <td>00:06:16</td>\n",
              "      <td>14040</td>\n",
              "      <td>270</td>\n",
              "    </tr>\n",
              "    <tr>\n",
              "      <th>1</th>\n",
              "      <td>EXODO LIRICAL vs RAPDER</td>\n",
              "      <td>Exodo Lirical</td>\n",
              "      <td>Rapder</td>\n",
              "      <td>238463</td>\n",
              "      <td>2020</td>\n",
              "      <td>00:12:30</td>\n",
              "      <td>8135</td>\n",
              "      <td>927</td>\n",
              "    </tr>\n",
              "    <tr>\n",
              "      <th>2</th>\n",
              "      <td>ACZINO vs SKONE</td>\n",
              "      <td>Aczino</td>\n",
              "      <td>Skone</td>\n",
              "      <td>756352</td>\n",
              "      <td>2020</td>\n",
              "      <td>00:10:06</td>\n",
              "      <td>18458</td>\n",
              "      <td>1146</td>\n",
              "    </tr>\n",
              "    <tr>\n",
              "      <th>3</th>\n",
              "      <td>RAPDER vs YARTZI</td>\n",
              "      <td>Rapder</td>\n",
              "      <td>Yartzi</td>\n",
              "      <td>47082</td>\n",
              "      <td>2020</td>\n",
              "      <td>00:06:46</td>\n",
              "      <td>1822</td>\n",
              "      <td>206</td>\n",
              "    </tr>\n",
              "    <tr>\n",
              "      <th>4</th>\n",
              "      <td>EXODO LIRICAL vs BNET</td>\n",
              "      <td>Exodo Lirical</td>\n",
              "      <td>Bnet</td>\n",
              "      <td>685109</td>\n",
              "      <td>2020</td>\n",
              "      <td>00:06:40</td>\n",
              "      <td>23202</td>\n",
              "      <td>1842</td>\n",
              "    </tr>\n",
              "  </tbody>\n",
              "</table>\n",
              "</div>\n",
              "      <button class=\"colab-df-convert\" onclick=\"convertToInteractive('df-36cbeb2b-cf3b-4f5d-8ed5-3f53873335bd')\"\n",
              "              title=\"Convert this dataframe to an interactive table.\"\n",
              "              style=\"display:none;\">\n",
              "        \n",
              "  <svg xmlns=\"http://www.w3.org/2000/svg\" height=\"24px\"viewBox=\"0 0 24 24\"\n",
              "       width=\"24px\">\n",
              "    <path d=\"M0 0h24v24H0V0z\" fill=\"none\"/>\n",
              "    <path d=\"M18.56 5.44l.94 2.06.94-2.06 2.06-.94-2.06-.94-.94-2.06-.94 2.06-2.06.94zm-11 1L8.5 8.5l.94-2.06 2.06-.94-2.06-.94L8.5 2.5l-.94 2.06-2.06.94zm10 10l.94 2.06.94-2.06 2.06-.94-2.06-.94-.94-2.06-.94 2.06-2.06.94z\"/><path d=\"M17.41 7.96l-1.37-1.37c-.4-.4-.92-.59-1.43-.59-.52 0-1.04.2-1.43.59L10.3 9.45l-7.72 7.72c-.78.78-.78 2.05 0 2.83L4 21.41c.39.39.9.59 1.41.59.51 0 1.02-.2 1.41-.59l7.78-7.78 2.81-2.81c.8-.78.8-2.07 0-2.86zM5.41 20L4 18.59l7.72-7.72 1.47 1.35L5.41 20z\"/>\n",
              "  </svg>\n",
              "      </button>\n",
              "      \n",
              "  <style>\n",
              "    .colab-df-container {\n",
              "      display:flex;\n",
              "      flex-wrap:wrap;\n",
              "      gap: 12px;\n",
              "    }\n",
              "\n",
              "    .colab-df-convert {\n",
              "      background-color: #E8F0FE;\n",
              "      border: none;\n",
              "      border-radius: 50%;\n",
              "      cursor: pointer;\n",
              "      display: none;\n",
              "      fill: #1967D2;\n",
              "      height: 32px;\n",
              "      padding: 0 0 0 0;\n",
              "      width: 32px;\n",
              "    }\n",
              "\n",
              "    .colab-df-convert:hover {\n",
              "      background-color: #E2EBFA;\n",
              "      box-shadow: 0px 1px 2px rgba(60, 64, 67, 0.3), 0px 1px 3px 1px rgba(60, 64, 67, 0.15);\n",
              "      fill: #174EA6;\n",
              "    }\n",
              "\n",
              "    [theme=dark] .colab-df-convert {\n",
              "      background-color: #3B4455;\n",
              "      fill: #D2E3FC;\n",
              "    }\n",
              "\n",
              "    [theme=dark] .colab-df-convert:hover {\n",
              "      background-color: #434B5C;\n",
              "      box-shadow: 0px 1px 3px 1px rgba(0, 0, 0, 0.15);\n",
              "      filter: drop-shadow(0px 1px 2px rgba(0, 0, 0, 0.3));\n",
              "      fill: #FFFFFF;\n",
              "    }\n",
              "  </style>\n",
              "\n",
              "      <script>\n",
              "        const buttonEl =\n",
              "          document.querySelector('#df-36cbeb2b-cf3b-4f5d-8ed5-3f53873335bd button.colab-df-convert');\n",
              "        buttonEl.style.display =\n",
              "          google.colab.kernel.accessAllowed ? 'block' : 'none';\n",
              "\n",
              "        async function convertToInteractive(key) {\n",
              "          const element = document.querySelector('#df-36cbeb2b-cf3b-4f5d-8ed5-3f53873335bd');\n",
              "          const dataTable =\n",
              "            await google.colab.kernel.invokeFunction('convertToInteractive',\n",
              "                                                     [key], {});\n",
              "          if (!dataTable) return;\n",
              "\n",
              "          const docLinkHtml = 'Like what you see? Visit the ' +\n",
              "            '<a target=\"_blank\" href=https://colab.research.google.com/notebooks/data_table.ipynb>data table notebook</a>'\n",
              "            + ' to learn more about interactive tables.';\n",
              "          element.innerHTML = '';\n",
              "          dataTable['output_type'] = 'display_data';\n",
              "          await google.colab.output.renderOutput(dataTable, element);\n",
              "          const docLink = document.createElement('div');\n",
              "          docLink.innerHTML = docLinkHtml;\n",
              "          element.appendChild(docLink);\n",
              "        }\n",
              "      </script>\n",
              "    </div>\n",
              "  </div>\n",
              "  "
            ]
          },
          "metadata": {},
          "execution_count": 34
        }
      ]
    },
    {
      "cell_type": "code",
      "source": [
        "g = sns.catplot(data=data, x='year', kind='count')\n",
        "customPlotSettings()\n",
        "g.set(ylabel=None)\n",
        "\n",
        "plt.title('Number of Videos by Year')\n",
        "\n",
        "data['year'].value_counts(normalize=True)*100"
      ],
      "metadata": {
        "colab": {
          "base_uri": "https://localhost:8080/",
          "height": 516
        },
        "id": "_1iO9ecKYu9p",
        "outputId": "d5a8f71f-cd91-4d06-de4a-82a986555e14"
      },
      "execution_count": 52,
      "outputs": [
        {
          "output_type": "execute_result",
          "data": {
            "text/plain": [
              "2020    17.391304\n",
              "2019    17.391304\n",
              "2018    17.391304\n",
              "2017    17.391304\n",
              "2016    17.391304\n",
              "2015    13.043478\n",
              "Name: year, dtype: float64"
            ]
          },
          "metadata": {},
          "execution_count": 52
        },
        {
          "output_type": "display_data",
          "data": {
            "text/plain": [
              "<Figure size 460.8x360 with 1 Axes>"
            ],
            "image/png": "[encoded data removed]"
          },
          "metadata": {}
        }
      ]
    },
    {
      "cell_type": "code",
      "metadata": {
        "id": "lbBRZksAKRWF",
        "colab": {
          "base_uri": "https://localhost:8080/"
        },
        "outputId": "d083f272-b713-4289-ec97-6008c82ae427"
      },
      "source": [
        "# data['title'].value_counts().to_frame()\n",
        "data['Freestyler A'].value_counts()"
      ],
      "execution_count": 56,
      "outputs": [
        {
          "output_type": "execute_result",
          "data": {
            "text/plain": [
              "Aczino                     11\n",
              "Skone                       6\n",
              "Bnet                        5\n",
              "Arkano                      4\n",
              "Jota                        4\n",
              "Valles T                    4\n",
              "Wos                         4\n",
              "Snk                         3\n",
              "Tom Crowley                 3\n",
              "Valles-T                    3\n",
              "Exodo Lirical               3\n",
              "Imigrante                   2\n",
              "Jony Beltran                2\n",
              "Dtoke                       2\n",
              "Rapder                      2\n",
              "Trueno                      2\n",
              "Jokker                      1\n",
              "Drose                       1\n",
              "Aczino Vs. Choque           1\n",
              "Redencion Vs. Gaviria       1\n",
              "Arkano Vs. Pepe Grillo      1\n",
              "Jony Beltran Vs. Elevn      1\n",
              "Yenky One Vs. Chuty         1\n",
              "Vallest                     1\n",
              "Gasper                      1\n",
              "Carpediem                   1\n",
              "Naicen                      1\n",
              "Acertijo                    1\n",
              "Papo                        1\n",
              "Elevn                       1\n",
              "Yenky One Vs. G             1\n",
              "Jony Beltran Vs. Arkano     1\n",
              "Gaviria Vs. Aczino          1\n",
              "Wos Vs. Yenky One           1\n",
              "Wos Vs. Skone               1\n",
              "Skone Vs. Jota Mc           1\n",
              "Wos Vs. Melvin La Cura      1\n",
              "Arkano Vs. Yenky One        1\n",
              "Franco                      1\n",
              "Dozer                       1\n",
              "Indico                      1\n",
              "Rvs                         1\n",
              "Yeriko                      1\n",
              "Neon                        1\n",
              "Lobo Estepario              1\n",
              "Jaze                        1\n",
              "Switch                      1\n",
              "G Vs. El Tanque             1\n",
              "Name: Freestyler A, dtype: int64"
            ]
          },
          "metadata": {},
          "execution_count": 56
        }
      ]
    },
    {
      "cell_type": "code",
      "metadata": {
        "id": "-dzUadETgixv"
      },
      "source": [
        "sirve pa otra grafica\n",
        "# data.groupby(['year','Freestyler A']).size()\n",
        "# data.groupby(['Freestyler A','year']).size().groupby(level=1).max()"
      ],
      "execution_count": null,
      "outputs": []
    },
    {
      "cell_type": "code",
      "metadata": {
        "colab": {
          "base_uri": "https://localhost:8080/",
          "height": 204
        },
        "id": "r2a-ay5ENHsZ",
        "outputId": "3388c056-ce68-48be-811b-64b74c420f91"
      },
      "source": [
        "data[data['title'].str.contains('SNK')]"
      ],
      "execution_count": null,
      "outputs": [
        {
          "output_type": "execute_result",
          "data": {
            "text/html": [
              "<div>\n",
              "<style scoped>\n",
              "    .dataframe tbody tr th:only-of-type {\n",
              "        vertical-align: middle;\n",
              "    }\n",
              "\n",
              "    .dataframe tbody tr th {\n",
              "        vertical-align: top;\n",
              "    }\n",
              "\n",
              "    .dataframe thead th {\n",
              "        text-align: right;\n",
              "    }\n",
              "</style>\n",
              "<table border=\"1\" class=\"dataframe\">\n",
              "  <thead>\n",
              "    <tr style=\"text-align: right;\">\n",
              "      <th></th>\n",
              "      <th>id</th>\n",
              "      <th>title</th>\n",
              "      <th>Freestyler A</th>\n",
              "      <th>Freestyler B</th>\n",
              "      <th>views</th>\n",
              "      <th>year</th>\n",
              "      <th>length</th>\n",
              "      <th>likes</th>\n",
              "      <th>dislikes</th>\n",
              "    </tr>\n",
              "  </thead>\n",
              "  <tbody>\n",
              "    <tr>\n",
              "      <th>14</th>\n",
              "      <td>14</td>\n",
              "      <td>NAICEN vs SNK</td>\n",
              "      <td>Naicen</td>\n",
              "      <td>Snk</td>\n",
              "      <td>66128</td>\n",
              "      <td>2020</td>\n",
              "      <td>00:06:44</td>\n",
              "      <td>3196</td>\n",
              "      <td>200</td>\n",
              "    </tr>\n",
              "    <tr>\n",
              "      <th>22</th>\n",
              "      <td>22</td>\n",
              "      <td>JAZE vs SNK</td>\n",
              "      <td>Jaze</td>\n",
              "      <td>Snk</td>\n",
              "      <td>1407134</td>\n",
              "      <td>2019</td>\n",
              "      <td>00:07:06</td>\n",
              "      <td>28687</td>\n",
              "      <td>890</td>\n",
              "    </tr>\n",
              "    <tr>\n",
              "      <th>24</th>\n",
              "      <td>24</td>\n",
              "      <td>SNK vs ZASKO MASTER</td>\n",
              "      <td>Snk</td>\n",
              "      <td>Zasko Master</td>\n",
              "      <td>588253</td>\n",
              "      <td>2019</td>\n",
              "      <td>00:06:02</td>\n",
              "      <td>14385</td>\n",
              "      <td>583</td>\n",
              "    </tr>\n",
              "    <tr>\n",
              "      <th>26</th>\n",
              "      <td>26</td>\n",
              "      <td>SNK vs ACZINO</td>\n",
              "      <td>Snk</td>\n",
              "      <td>Aczino</td>\n",
              "      <td>1204854</td>\n",
              "      <td>2019</td>\n",
              "      <td>00:06:58</td>\n",
              "      <td>24243</td>\n",
              "      <td>473</td>\n",
              "    </tr>\n",
              "    <tr>\n",
              "      <th>27</th>\n",
              "      <td>27</td>\n",
              "      <td>SNK vs BNET</td>\n",
              "      <td>Snk</td>\n",
              "      <td>Bnet</td>\n",
              "      <td>2154417</td>\n",
              "      <td>2019</td>\n",
              "      <td>00:09:01</td>\n",
              "      <td>40675</td>\n",
              "      <td>1061</td>\n",
              "    </tr>\n",
              "  </tbody>\n",
              "</table>\n",
              "</div>"
            ],
            "text/plain": [
              "    id                title Freestyler A  ...    length  likes  dislikes\n",
              "14  14        NAICEN vs SNK       Naicen  ...  00:06:44   3196       200\n",
              "22  22          JAZE vs SNK         Jaze  ...  00:07:06  28687       890\n",
              "24  24  SNK vs ZASKO MASTER          Snk  ...  00:06:02  14385       583\n",
              "26  26        SNK vs ACZINO          Snk  ...  00:06:58  24243       473\n",
              "27  27          SNK vs BNET          Snk  ...  00:09:01  40675      1061\n",
              "\n",
              "[5 rows x 9 columns]"
            ]
          },
          "metadata": {
            "tags": []
          },
          "execution_count": 106
        }
      ]
    },
    {
      "cell_type": "markdown",
      "metadata": {
        "id": "Cp3N9ZtZ6NU8"
      },
      "source": [
        "\n",
        "\n",
        "---\n",
        "\n"
      ]
    },
    {
      "cell_type": "code",
      "metadata": {
        "id": "9neEDZU2abph"
      },
      "source": [
        "data[data['year'] == '2018']\n",
        "# do the same\n",
        "data[data['year'].eq('2018')]\n",
        "\n",
        "# show all rows but not of this years\n",
        "data[~data['year'].eq('2018') & data['title'].str.find(' vs ')]"
      ],
      "execution_count": null,
      "outputs": []
    },
    {
      "cell_type": "code",
      "metadata": {
        "id": "oXhJmxPtdFBr"
      },
      "source": [
        "years = [2018, 2017]\n",
        "data[data['year'].isin(years)]"
      ],
      "execution_count": null,
      "outputs": []
    },
    {
      "cell_type": "markdown",
      "source": [
        "Correlation between Numerical Features"
      ],
      "metadata": {
        "id": "_jBckyWNkq8g"
      }
    },
    {
      "cell_type": "code",
      "source": [
        "# Calculate correlation between each pair of variable\n",
        "corr = data.corr()\n",
        "\n",
        "# Generate a mask for the upper triangle\n",
        "mask = np.zeros_like(corr, dtype=np.bool)\n",
        "mask[np.triu_indices_from(mask)] = True\n",
        "\n",
        "# Insert a figure\n",
        "f, ax = plt.subplots(figsize=(10, 7))\n",
        "cmap = sns.diverging_palette(10, 220, as_cmap=True)\n",
        "\n",
        "# Draw the heatmap with the mask\n",
        "ax = sns.heatmap(corr,\n",
        "                 mask=mask,\n",
        "                 cmap=cmap,\n",
        "                 annot=True,\n",
        "                 annot_kws= {'size':11},\n",
        "                 square=True, xticklabels=True,\n",
        "                 yticklabels=True,\n",
        "                 linewidths=.5,\n",
        "                 cbar_kws={'shrink': .5},\n",
        "                 ax=ax\n",
        "                )\n",
        "ax.set_title('Correlation between Numerical Features', fontsize=20);"
      ],
      "metadata": {
        "colab": {
          "base_uri": "https://localhost:8080/",
          "height": 538
        },
        "id": "8Q2buVOskn8s",
        "outputId": "85336f30-b152-4023-e854-22471ca4ab12"
      },
      "execution_count": 55,
      "outputs": [
        {
          "output_type": "stream",
          "name": "stderr",
          "text": [
            "/usr/local/lib/python3.7/dist-packages/ipykernel_launcher.py:5: DeprecationWarning: `np.bool` is a deprecated alias for the builtin `bool`. To silence this warning, use `bool` by itself. Doing this will not modify any behavior and is safe. If you specifically wanted the numpy scalar type, use `np.bool_` here.\n",
            "Deprecated in NumPy 1.20; for more details and guidance: https://numpy.org/devdocs/release/1.20.0-notes.html#deprecations\n",
            "  \"\"\"\n"
          ]
        },
        {
          "output_type": "display_data",
          "data": {
            "text/plain": [
              "<Figure size 720x504 with 2 Axes>"
            ],
            "image/png": "[encoded data removed]"
          },
          "metadata": {}
        }
      ]
    },
    {
      "cell_type": "code",
      "source": [
        "https://www.python-graph-gallery.com/341-python-gapminder-animation"
      ],
      "metadata": {
        "id": "QeNYa4u3lWj8"
      },
      "execution_count": null,
      "outputs": []
    }
  ]
}